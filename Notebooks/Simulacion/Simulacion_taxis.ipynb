{
 "cells": [
  {
   "cell_type": "markdown",
   "metadata": {},
   "source": [
    "# Simulación de Taxis de NYC por el método Montecarlo"
   ]
  },
  {
   "cell_type": "code",
   "execution_count": 1,
   "metadata": {},
   "outputs": [],
   "source": [
    "import pandas as pd\n",
    "import numpy as np\n",
    "import random\n",
    "from datetime import timedelta"
   ]
  },
  {
   "cell_type": "markdown",
   "metadata": {},
   "source": [
    "### Funciones"
   ]
  },
  {
   "cell_type": "code",
   "execution_count": 9,
   "metadata": {},
   "outputs": [],
   "source": [
    "def rango(df,column:str):\n",
    "    '''\n",
    "Esta función devuelve un rango de valores que excluye outliers, la función recibe\n",
    "    - df - Un dataFrame\n",
    "    - column - Una columna en str\n",
    "    La función devuelve una tupla con el intervalo valido\n",
    "    '''\n",
    "    statistics = df[column].describe()\n",
    "    IQR = statistics['75%'] - statistics['25%']\n",
    "    RI = statistics['25%'] - 1.5 * IQR       # RAngo inferior\n",
    "    if RI < 0:\n",
    "        RI = 0\n",
    "    RS = statistics['75%'] + 1.5 * IQR       # Rango superior\n",
    "    if RI == RS:\n",
    "        return (RI-1,RS)\n",
    "    else:\n",
    "        return (RI , RS)"
   ]
  },
  {
   "cell_type": "code",
   "execution_count": 65,
   "metadata": {},
   "outputs": [],
   "source": [
    "def trip(UpLocationId:int,Hour):\n",
    "    '''\n",
    "    Esta función devuelve caracteristicas de la ruta entre dos puntos. La función recibe:\n",
    "        - UpLocationId. Id de la zona de inicio del viaje\n",
    "        - Hour. Hora en la que inicia el viaje en formato `timedelta`\n",
    "        \n",
    "    La función devuelve un diccionario con:\n",
    "        - route. Ruta\n",
    "        - UpLocationId. Id zona de inicio del viaje\n",
    "        - DOLocationID. Id zona final del viaje\n",
    "        - Hour_i. Hora de inicio del viaje\n",
    "        - Hour_e. Hora en la que finaliza el viaje\n",
    "        - trip_time. Tiempo del viaje en minutos\n",
    "        - trip_distance. Distancia recorrida\n",
    "        - total_amount. Costo del viaje\n",
    "    '''\n",
    "    filtro = taxi[taxi['PULocationID'] == UpLocationId]             # Filtramos registros de la zona de inicio del viaje\n",
    "    destino = np.random.choice(filtro['DOLocationID'])              # Definimos zona de destino del viaje\n",
    "    filtro = filtro[filtro['DOLocationID'] == destino]              # Actualizamos el filtro\n",
    "    # Determinar el rango de valores que excluyen outliers\n",
    "    rango_tiempo = rango(filtro,'time')\n",
    "    rango_distancia = rango(filtro,'trip_distance')\n",
    "    # Eliminando registros con datos atipicos\n",
    "    if len(filtro) != 1:\n",
    "        filtro = filtro[(filtro['time'] >= rango_tiempo[0]) & (filtro['time'] <= rango_tiempo[1]) & \n",
    "                    (filtro['trip_distance'] > rango_distancia[0]) &\n",
    "                      (filtro['trip_distance'] <= rango_distancia[1])]\n",
    "        route = np.random.choice(filtro['route'])\n",
    "    else:\n",
    "        filtro = filtro.reset_index()\n",
    "        route = filtro['route'].iloc[0]\n",
    "    # Extrayendo datos\n",
    "    \n",
    "    distance = np.random.choice(filtro['trip_distance'])\n",
    "    time = filtro[filtro['trip_distance'] == distance]['time'].mean()\n",
    "    amount = filtro[filtro['trip_distance'] == distance]['total_amount'].mean()\n",
    "    Hour_e = Hour + timedelta(hours=0, minutes = time)\n",
    "    return {\"route\":route,\"UpLocationId\":UpLocationId,\"DOLocationID\":destino,\"Hour_i\":Hour,\"Hour_e\":Hour_e,\n",
    "            \"trip_time\":time,\"trip_distance\":distance,\"total_amount\":amount}"
   ]
  },
  {
   "cell_type": "code",
   "execution_count": 51,
   "metadata": {},
   "outputs": [],
   "source": [
    "def simulacion(n:int):\n",
    "    iteraciones = []\n",
    "    for j in range(0,n):\n",
    "        idzonaInicio = np.random.choice(taxi['PULocationID'])\n",
    "        data = []\n",
    "        i = timedelta(hours=5,minutes=0)\n",
    "        while i <= timedelta(hours=18):\n",
    "            a = trip(idzonaInicio,i)\n",
    "            data.append(a)\n",
    "            idzonaInicio = a['DOLocationID']\n",
    "            i = a['Hour_e']\n",
    "        df = pd.DataFrame(data)\n",
    "        b = {\"interacion\":j,\"trip_time\":timedelta(minutes=df['trip_time'].sum()),\n",
    "        \"trip_distance\":df['trip_distance'].sum(),\"total_amount\":df['total_amount'].sum()}\n",
    "        iteraciones.append(b)\n",
    "    return pd.DataFrame(iteraciones)"
   ]
  },
  {
   "cell_type": "markdown",
   "metadata": {},
   "source": [
    "Cargando datos"
   ]
  },
  {
   "cell_type": "code",
   "execution_count": 11,
   "metadata": {},
   "outputs": [],
   "source": [
    "taxi = pd.read_parquet('../../Data/Data_taxi_sim.parquet')\n",
    "fuel = pd.read_parquet('../../Data/Eda_fuel_vehicles.parquet')"
   ]
  },
  {
   "cell_type": "markdown",
   "metadata": {},
   "source": [
    "Transformaciones en el df `taxi`, en donde se crea la columna `time` la cual es un entero en minutos|"
   ]
  },
  {
   "cell_type": "code",
   "execution_count": 12,
   "metadata": {},
   "outputs": [],
   "source": [
    "taxi['time'] = taxi['tpep_dropoff_datetime'] - taxi['tpep_pickup_datetime']\n",
    "taxi['time'] = taxi['time'].apply(lambda x: int(x.total_seconds() // 60))\n",
    "taxi = taxi.drop(['tpep_pickup_datetime','tpep_dropoff_datetime'], axis=1)"
   ]
  },
  {
   "cell_type": "markdown",
   "metadata": {},
   "source": [
    "### Simulaciones"
   ]
  },
  {
   "cell_type": "code",
   "execution_count": 54,
   "metadata": {},
   "outputs": [
    {
     "name": "stdout",
     "output_type": "stream",
     "text": [
      "La simulacion con 5 corridas ofrece la siguiente información:\n",
      "El recorrido simulado es de 154.83999999999997 millas \n",
      "El ingreso simulado es $1217.1262932970735 \n",
      "Para un total de 0 days 13:17:33.560412800 horas\n"
     ]
    }
   ],
   "source": [
    "sim2 = simulacion(5)\n",
    "print(f\"La simulacion con {len(sim2)} corridas ofrece la siguiente información:\\nEl recorrido simulado es de {sim2['trip_distance'].mean()} millas \\nEl ingreso simulado es ${sim2['total_amount'].mean()} \\nPara un total de {sim2['trip_time'].mean()} horas\")"
   ]
  },
  {
   "cell_type": "code",
   "execution_count": 56,
   "metadata": {},
   "outputs": [
    {
     "name": "stdout",
     "output_type": "stream",
     "text": [
      "La simulacion con 10 corridas ofrece la siguiente información:\n",
      "El recorrido simulado es de 159.831 millas \n",
      "El ingreso simulado es $1644.548067588664 \n",
      "Para un total de 0 days 13:08:04.402167200 horas\n"
     ]
    }
   ],
   "source": [
    "sim2 = simulacion(10)\n",
    "print(f\"La simulacion con {len(sim2)} corridas ofrece la siguiente información:\\nEl recorrido simulado es de {sim2['trip_distance'].mean()} millas \\nEl ingreso simulado es ${sim2['total_amount'].mean()} \\nPara un total de {sim2['trip_time'].mean()} horas\")"
   ]
  },
  {
   "cell_type": "code",
   "execution_count": 58,
   "metadata": {},
   "outputs": [
    {
     "name": "stdout",
     "output_type": "stream",
     "text": [
      "La simulacion con 20 corridas ofrece la siguiente información:\n",
      "El recorrido simulado es de 159.054 millas \n",
      "El ingreso simulado es $1459.0793305907066 \n",
      "Para un total de 0 days 13:20:16.832743250 horas\n"
     ]
    }
   ],
   "source": [
    "sim2 = simulacion(20)\n",
    "print(f\"La simulacion con {len(sim2)} corridas ofrece la siguiente información:\\nEl recorrido simulado es de {sim2['trip_distance'].mean()} millas \\nEl ingreso simulado es ${sim2['total_amount'].mean()} \\nPara un total de {sim2['trip_time'].mean()} horas\")"
   ]
  },
  {
   "cell_type": "code",
   "execution_count": 59,
   "metadata": {},
   "outputs": [
    {
     "name": "stdout",
     "output_type": "stream",
     "text": [
      "La simulacion con 40 corridas ofrece la siguiente información:\n",
      "El recorrido simulado es de 153.861 millas \n",
      "El ingreso simulado es $1467.0883756296664 \n",
      "Para un total de 0 days 13:12:36.157214725 horas\n"
     ]
    }
   ],
   "source": [
    "sim2 = simulacion(40)\n",
    "print(f\"La simulacion con {len(sim2)} corridas ofrece la siguiente información:\\nEl recorrido simulado es de {sim2['trip_distance'].mean()} millas \\nEl ingreso simulado es ${sim2['total_amount'].mean()} \\nPara un total de {sim2['trip_time'].mean()} horas\")"
   ]
  },
  {
   "cell_type": "code",
   "execution_count": 61,
   "metadata": {},
   "outputs": [
    {
     "name": "stdout",
     "output_type": "stream",
     "text": [
      "La simulacion con 80 corridas ofrece la siguiente información:\n",
      "El recorrido simulado es de 154.84650000000002 millas \n",
      "El ingreso simulado es $1562.5812086645026 \n",
      "Para un total de 0 days 13:12:49.142777200 horas\n"
     ]
    }
   ],
   "source": [
    "sim2 = simulacion(80)\n",
    "print(f\"La simulacion con {len(sim2)} corridas ofrece la siguiente información:\\nEl recorrido simulado es de {sim2['trip_distance'].mean()} millas \\nEl ingreso simulado es ${sim2['total_amount'].mean()} \\nPara un total de {sim2['trip_time'].mean()} horas\")"
   ]
  },
  {
   "cell_type": "code",
   "execution_count": 66,
   "metadata": {},
   "outputs": [
    {
     "name": "stdout",
     "output_type": "stream",
     "text": [
      "La simulacion con 200 corridas ofrece la siguiente información:\n",
      "El recorrido simulado es de 155.70495 millas \n",
      "El ingreso simulado es $1517.3900221458541 \n",
      "Para un total de 0 days 13:12:12.375146315 horas\n"
     ]
    }
   ],
   "source": [
    "sim2 = simulacion(200)\n",
    "print(f\"La simulacion con {len(sim2)} corridas ofrece la siguiente información:\\nEl recorrido simulado es de {sim2['trip_distance'].mean()} millas \\nEl ingreso simulado es ${sim2['total_amount'].mean()} \\nPara un total de {sim2['trip_time'].mean()} horas\")"
   ]
  },
  {
   "cell_type": "code",
   "execution_count": null,
   "metadata": {},
   "outputs": [],
   "source": [
    "sim2 = simulacion(500)\n",
    "print(f\"La simulacion con {len(sim2)} corridas ofrece la siguiente información:\\nEl recorrido simulado es de {sim2['trip_distance'].mean()} millas \\nEl ingreso simulado es ${sim2['total_amount'].mean()} \\nPara un total de {sim2['trip_time'].mean()} horas\")"
   ]
  }
 ],
 "metadata": {
  "kernelspec": {
   "display_name": "Python 3",
   "language": "python",
   "name": "python3"
  },
  "language_info": {
   "codemirror_mode": {
    "name": "ipython",
    "version": 3
   },
   "file_extension": ".py",
   "mimetype": "text/x-python",
   "name": "python",
   "nbconvert_exporter": "python",
   "pygments_lexer": "ipython3",
   "version": "3.11.9"
  }
 },
 "nbformat": 4,
 "nbformat_minor": 2
}
