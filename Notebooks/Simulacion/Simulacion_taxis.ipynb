{
 "cells": [
  {
   "cell_type": "markdown",
   "metadata": {},
   "source": [
    "# Simulación de Taxis de NYC por el método Montecarlo"
   ]
  },
  {
   "cell_type": "code",
   "execution_count": 1,
   "metadata": {},
   "outputs": [],
   "source": [
    "import pandas as pd\n",
    "import numpy as np\n",
    "import random\n",
    "from datetime import timedelta"
   ]
  },
  {
   "cell_type": "markdown",
   "metadata": {},
   "source": [
    "Cargando datos"
   ]
  },
  {
   "cell_type": "code",
   "execution_count": 4,
   "metadata": {},
   "outputs": [],
   "source": [
    "taxi = pd.read_parquet('../../Data/Data_taxi_sim.parquet')\n",
    "fuel = pd.read_parquet('../../Data/Eda_fuel_vehicles.parquet')"
   ]
  },
  {
   "cell_type": "markdown",
   "metadata": {},
   "source": [
    "Transformaciones"
   ]
  },
  {
   "cell_type": "code",
   "execution_count": 5,
   "metadata": {},
   "outputs": [],
   "source": [
    "taxi['time'] = taxi['tpep_dropoff_datetime'] - taxi['tpep_pickup_datetime']\n",
    "taxi['time'] = taxi['time'].apply(lambda x: int(x.total_seconds() // 60))\n",
    "taxi = taxi.drop(['tpep_pickup_datetime','tpep_dropoff_datetime'], axis=1)"
   ]
  },
  {
   "cell_type": "markdown",
   "metadata": {},
   "source": [
    "### Funciones"
   ]
  },
  {
   "cell_type": "code",
   "execution_count": 2,
   "metadata": {},
   "outputs": [],
   "source": [
    "def rango(df,column:str):\n",
    "    '''\n",
    "Esta función devuelve un rango de valores que excluye outliers, la función recibe\n",
    "    - df - Un dataFrame\n",
    "    - column - Una columna en str\n",
    "    La función devuelve una tupla con el intervalo valido\n",
    "    '''\n",
    "    statistics = df[column].describe()\n",
    "    IQR = statistics['75%'] - statistics['25%']\n",
    "    RI = statistics['25%'] - 1.5 * IQR       # RAngo inferior\n",
    "    if RI < 0:\n",
    "        RI = 0\n",
    "    RS = statistics['75%'] + 1.5 * IQR       # Rango superior\n",
    "    if RI == RS:\n",
    "        return (RI-1,RS)\n",
    "    else:\n",
    "        return (RI , RS)"
   ]
  },
  {
   "cell_type": "code",
   "execution_count": 90,
   "metadata": {},
   "outputs": [],
   "source": [
    "def trip(UpLocationId:int,Hour):\n",
    "    '''\n",
    "    Esta función devuelve caracteristicas de la ruta entre dos puntos. La función recibe:\n",
    "        - UpLocationId. Id de la zona de inicio del viaje\n",
    "        - Hour. Hora en la que inicia el viaje en formato `timedelta`\n",
    "        \n",
    "    La función devuelve un diccionario con:\n",
    "        - route. Ruta\n",
    "        - UpLocationId. Id zona de inicio del viaje\n",
    "        - DOLocationID. Id zona final del viaje\n",
    "        - Hour_i. Hora de inicio del viaje\n",
    "        - Hour_e. Hora en la que finaliza el viaje\n",
    "        - trip_time. Tiempo del viaje en minutos\n",
    "        - trip_distance. Distancia recorrida\n",
    "        - total_amount. Costo del viaje\n",
    "    '''\n",
    "    filtro = taxi[taxi['PULocationID'] == UpLocationId]             # Filtramos registros de la zona de inicio del viaje\n",
    "    destino = np.random.choice(filtro['DOLocationID'])              # Definimos zona de destino del viaje\n",
    "    filtro = filtro[filtro['DOLocationID'] == destino]              # Actualizamos el filtro\n",
    "    # Determinar el rango de valores que excluyen outliers\n",
    "    rango_tiempo = rango(filtro,'time')\n",
    "    rango_distancia = rango(filtro,'trip_distance')\n",
    "    # Eliminando registros con datos atipicos\n",
    "    if len(filtro) != 1:\n",
    "        filtro = filtro[(filtro['time'] >= rango_tiempo[0]) & (filtro['time'] <= rango_tiempo[1]) & \n",
    "                    (filtro['trip_distance'] >= rango_distancia[0]) &\n",
    "                      (filtro['trip_distance'] <= rango_distancia[1])]\n",
    "        route = np.random.choice(filtro['route'])\n",
    "    else:\n",
    "        filtro = filtro.reset_index()\n",
    "        route = filtro['route'].iloc[0]\n",
    "    # Extrayendo datos\n",
    "    \n",
    "    distance = np.random.choice(filtro['trip_distance'])\n",
    "    time = filtro[filtro['trip_distance'] == distance]['time'].mean()\n",
    "    amount = filtro[filtro['trip_distance'] == distance]['total_amount'].mean()\n",
    "    Hour_e = Hour + timedelta(hours=0, minutes = time)\n",
    "    return {\"route\":route,\"UpLocationId\":UpLocationId,\"DOLocationID\":destino,\"Hour_i\":Hour,\"Hour_e\":Hour_e,\n",
    "            \"trip_time\":time,\"trip_distance\":distance,\"total_amount\":amount}"
   ]
  },
  {
   "cell_type": "code",
   "execution_count": 64,
   "metadata": {},
   "outputs": [],
   "source": [
    "def simulacion(n:int,hora_inicio,hora_fin):\n",
    "    '''\n",
    "    Función simulacion devuelve un Df con las iteracciones solicitadas por el usuario en el rango de tiempo solicitado.\n",
    "    - n. Número de simlaciones Montecarlo en valor entero\n",
    "    - hora_inicio. Hora en la que se inicia la simulación en formato `timedelta`\n",
    "    - hora_fin. Hora en la que termina la simulación en formato `timedelta`\n",
    "\n",
    "    Devuelve lista con datos generados por cada iteración y resumen de cada iteración\n",
    "    \n",
    "    La lista con datos contiene:\n",
    "    - route. Ruta\n",
    "    - UpLocationId. Id zona de inicio del viaje\n",
    "    - DOLocationID. Id zona final del viaje\n",
    "    - Hour_i. Hora de inicio del viaje\n",
    "    - Hour_e. Hora en la que finaliza el viaje\n",
    "    - trip_time. Tiempo del viaje en minutos\n",
    "    - trip_distance. Distancia recorrida\n",
    "    - total_amount. Costo del viaje\n",
    "\n",
    "    El resumen de las iteraciones contiene la siguiente información:\n",
    "    - interacion. Numero de iteracion\n",
    "    - trip_time. El tiempo total de la iteración\n",
    "    - trip_time_mean. Tiempo promedio por viaje\n",
    "    - trip_distance. Distancia total recorrida para la iteración\n",
    "    - trip_mean. Distancia promedio por viaje\n",
    "    - total_amount. Ingreso total para la iteración\n",
    "    - amount_mean. Ingreso promedio por viaje\n",
    "    '''\n",
    "    lista = []\n",
    "    resultados = []\n",
    "    no = 0\n",
    "    for i in range(0,n):\n",
    "        hr_ini = hora_inicio\n",
    "        idzonaInicio = np.random.choice(taxi['PULocationID'])\n",
    "        data = []\n",
    "        while hr_ini <= hora_fin:\n",
    "            a = trip(idzonaInicio,hr_ini)\n",
    "            data.append(a)\n",
    "            idzonaInicio = a['DOLocationID']\n",
    "            hr_ini = a['Hour_e']\n",
    "        df = pd.DataFrame(data)\n",
    "        lista.append(df)\n",
    "    for j in lista:\n",
    "        res = {\"interacion\":no,\"trip_time\":timedelta(minutes=j['trip_time'].sum()),\n",
    "            \"trip_time_mean\":timedelta(minutes=j['trip_time'].mean()),\n",
    "            \"trip_distance\":j['trip_distance'].sum(),\"trip_mean\":j['trip_distance'].mean(),\n",
    "            \"total_amount\":j['total_amount'].sum(),\"amount_mean\":j['total_amount'].mean()}\n",
    "        resultados.append(res)\n",
    "        no += 1\n",
    "    df = pd.DataFrame(resultados)\n",
    "    return lista, df"
   ]
  },
  {
   "cell_type": "code",
   "execution_count": 65,
   "metadata": {},
   "outputs": [],
   "source": [
    "inicio = timedelta(hours=5,minutes=0)\n",
    "fin = timedelta(hours=18,minutes=0)\n",
    "iteraciones = 5\n",
    "a = simulacion(iteraciones,inicio,fin)"
   ]
  },
  {
   "cell_type": "markdown",
   "metadata": {},
   "source": [
    "### Simulaciones"
   ]
  },
  {
   "cell_type": "markdown",
   "metadata": {},
   "source": [
    "Simulación de un solo viaje con zona de inicio aleatorio"
   ]
  },
  {
   "cell_type": "code",
   "execution_count": 67,
   "metadata": {},
   "outputs": [
    {
     "data": {
      "text/plain": [
       "{'route': 'Central Park -- Upper West Side South',\n",
       " 'UpLocationId': 43,\n",
       " 'DOLocationID': 239,\n",
       " 'Hour_i': datetime.timedelta(seconds=7440),\n",
       " 'Hour_e': datetime.timedelta(seconds=7756, microseconds=483516),\n",
       " 'trip_time': 5.274725274725275,\n",
       " 'trip_distance': 0.9,\n",
       " 'total_amount': 14.260549450549451}"
      ]
     },
     "execution_count": 67,
     "metadata": {},
     "output_type": "execute_result"
    }
   ],
   "source": [
    "inicio = np.random.choice(taxi['PULocationID'])\n",
    "trip(inicio,timedelta(hours=2,minutes=4))"
   ]
  },
  {
   "cell_type": "markdown",
   "metadata": {},
   "source": [
    "Simulación de una unica corrida en un horario determinado"
   ]
  },
  {
   "cell_type": "code",
   "execution_count": 79,
   "metadata": {},
   "outputs": [
    {
     "name": "stdout",
     "output_type": "stream",
     "text": [
      "La simulacion con 1 iteración nos brinda:\n",
      "El recorrido simulado es de 155.48000000000002 millas \n",
      "El recorrido promedio por viaje es de 2.99 millas \n",
      "El ingreso simulado es $2295.3948032428852 \n",
      "El ingreso promedio por viaje es de $44.14220775467087 \n",
      "Cada viaje duro en promedio 0 days 00:15:06.255846 \n",
      "Para un total de 0 days 13:05:25.304007 horas\n"
     ]
    }
   ],
   "source": [
    "inicio = timedelta(hours=5,minutes=0)\n",
    "fin = timedelta(hours=18,minutes=0)\n",
    "iteraciones = 1\n",
    "a = simulacion(iteraciones,inicio,fin)\n",
    "print(f\"La simulacion con {len(a[1])} iteración nos brinda:\\nEl recorrido simulado es de {a[1]['trip_distance'].mean()} millas \\nEl recorrido promedio por viaje es de {a[1]['trip_mean'].mean()} millas \\nEl ingreso simulado es ${a[1]['total_amount'].mean()} \\nEl ingreso promedio por viaje es de ${a[1]['amount_mean'].mean()} \\nCada viaje duro en promedio {a[1]['trip_time_mean'].mean()} \\nPara un total de {a[1]['trip_time'].mean()} horas\")"
   ]
  },
  {
   "cell_type": "markdown",
   "metadata": {},
   "source": [
    "Simulación con dos iteraciones"
   ]
  },
  {
   "cell_type": "code",
   "execution_count": 80,
   "metadata": {},
   "outputs": [
    {
     "name": "stdout",
     "output_type": "stream",
     "text": [
      "La simulacion con 2 iteraciones nos brinda:\n",
      "El recorrido simulado es de 168.265 millas \n",
      "El recorrido promedio por viaje es de 3.298284807764091 millas \n",
      "El ingreso simulado es $1281.6523969314514 \n",
      "El ingreso promedio por viaje es de $25.00716375783923 \n",
      "Cada viaje duro en promedio 0 days 00:15:31.348001500 \n",
      "Para un total de 0 days 13:18:40.527943500 horas\n"
     ]
    }
   ],
   "source": [
    "inicio = timedelta(hours=5,minutes=0)\n",
    "fin = timedelta(hours=18,minutes=0)\n",
    "iteraciones = 2\n",
    "a = simulacion(iteraciones,inicio,fin)\n",
    "print(f\"La simulacion con {len(a[1])} iteraciones nos brinda:\\nEl recorrido simulado es de {a[1]['trip_distance'].mean()} millas \\nEl recorrido promedio por viaje es de {a[1]['trip_mean'].mean()} millas \\nEl ingreso simulado es ${a[1]['total_amount'].mean()} \\nEl ingreso promedio por viaje es de ${a[1]['amount_mean'].mean()} \\nCada viaje duro en promedio {a[1]['trip_time_mean'].mean()} \\nPara un total de {a[1]['trip_time'].mean()} horas\")"
   ]
  },
  {
   "cell_type": "markdown",
   "metadata": {},
   "source": [
    "Simulación con 10 iteraciones"
   ]
  },
  {
   "cell_type": "code",
   "execution_count": 81,
   "metadata": {},
   "outputs": [
    {
     "name": "stdout",
     "output_type": "stream",
     "text": [
      "La simulacion con 10 iteraciones nos brinda:\n",
      "El recorrido simulado es de 156.05900000000003 millas \n",
      "El recorrido promedio por viaje es de 3.2271534627100196 millas \n",
      "El ingreso simulado es $1326.1508954090125 \n",
      "El ingreso promedio por viaje es de $26.80227470873179 \n",
      "Cada viaje duro en promedio 0 days 00:16:34.305927500 \n",
      "Para un total de 0 days 13:18:58.212558800 horas\n"
     ]
    }
   ],
   "source": [
    "inicio = timedelta(hours=5,minutes=0)\n",
    "fin = timedelta(hours=18,minutes=0)\n",
    "iteraciones = 10\n",
    "a = simulacion(iteraciones,inicio,fin)\n",
    "print(f\"La simulacion con {len(a[1])} iteraciones nos brinda:\\nEl recorrido simulado es de {a[1]['trip_distance'].mean()} millas \\nEl recorrido promedio por viaje es de {a[1]['trip_mean'].mean()} millas \\nEl ingreso simulado es ${a[1]['total_amount'].mean()} \\nEl ingreso promedio por viaje es de ${a[1]['amount_mean'].mean()} \\nCada viaje duro en promedio {a[1]['trip_time_mean'].mean()} \\nPara un total de {a[1]['trip_time'].mean()} horas\")"
   ]
  },
  {
   "cell_type": "markdown",
   "metadata": {},
   "source": [
    "Simulación con 20 iteraciones"
   ]
  },
  {
   "cell_type": "code",
   "execution_count": 82,
   "metadata": {},
   "outputs": [
    {
     "name": "stdout",
     "output_type": "stream",
     "text": [
      "La simulacion con 20 iteraciones nos brinda:\n",
      "El recorrido simulado es de 157.932 millas \n",
      "El recorrido promedio por viaje es de 2.915322673448943 millas \n",
      "El ingreso simulado es $1714.076541216303 \n",
      "El ingreso promedio por viaje es de $29.878696581750354 \n",
      "Cada viaje duro en promedio 0 days 00:14:30.428213700 \n",
      "Para un total de 0 days 13:09:00.177295500 horas\n"
     ]
    }
   ],
   "source": [
    "inicio = timedelta(hours=5,minutes=0)\n",
    "fin = timedelta(hours=18,minutes=0)\n",
    "iteraciones = 20\n",
    "a = simulacion(iteraciones,inicio,fin)\n",
    "print(f\"La simulacion con {len(a[1])} iteraciones nos brinda:\\nEl recorrido simulado es de {a[1]['trip_distance'].mean()} millas \\nEl recorrido promedio por viaje es de {a[1]['trip_mean'].mean()} millas \\nEl ingreso simulado es ${a[1]['total_amount'].mean()} \\nEl ingreso promedio por viaje es de ${a[1]['amount_mean'].mean()} \\nCada viaje duro en promedio {a[1]['trip_time_mean'].mean()} \\nPara un total de {a[1]['trip_time'].mean()} horas\")"
   ]
  },
  {
   "cell_type": "markdown",
   "metadata": {},
   "source": [
    "Simulación con 50 iteraciones"
   ]
  },
  {
   "cell_type": "code",
   "execution_count": 83,
   "metadata": {},
   "outputs": [
    {
     "name": "stdout",
     "output_type": "stream",
     "text": [
      "La simulacion con 50 iteraciones nos brinda:\n",
      "El recorrido simulado es de 157.2662 millas \n",
      "El recorrido promedio por viaje es de 2.8396358946470492 millas \n",
      "El ingreso simulado es $1548.5351828958803 \n",
      "El ingreso promedio por viaje es de $26.836452375843646 \n",
      "Cada viaje duro en promedio 0 days 00:14:19.712644220 \n",
      "Para un total de 0 days 13:15:05.621734020 horas\n"
     ]
    }
   ],
   "source": [
    "inicio = timedelta(hours=5,minutes=0)\n",
    "fin = timedelta(hours=18,minutes=0)\n",
    "iteraciones = 50\n",
    "a = simulacion(iteraciones,inicio,fin)\n",
    "print(f\"La simulacion con {len(a[1])} iteraciones nos brinda:\\nEl recorrido simulado es de {a[1]['trip_distance'].mean()} millas \\nEl recorrido promedio por viaje es de {a[1]['trip_mean'].mean()} millas \\nEl ingreso simulado es ${a[1]['total_amount'].mean()} \\nEl ingreso promedio por viaje es de ${a[1]['amount_mean'].mean()} \\nCada viaje duro en promedio {a[1]['trip_time_mean'].mean()} \\nPara un total de {a[1]['trip_time'].mean()} horas\")"
   ]
  },
  {
   "cell_type": "markdown",
   "metadata": {},
   "source": [
    "Simulación con 100 iteraciones"
   ]
  },
  {
   "cell_type": "code",
   "execution_count": 85,
   "metadata": {},
   "outputs": [
    {
     "name": "stdout",
     "output_type": "stream",
     "text": [
      "La simulacion con 100 iteraciones nos brinda:\n",
      "El recorrido simulado es de 156.5203 millas \n",
      "El recorrido promedio por viaje es de 2.9112676872666263 millas \n",
      "El ingreso simulado es $1564.2301132800924 \n",
      "El ingreso promedio por viaje es de $27.479227678946575 \n",
      "Cada viaje duro en promedio 0 days 00:14:41.006806620 \n",
      "Para un total de 0 days 13:12:25.481095980 horas\n"
     ]
    }
   ],
   "source": [
    "inicio = timedelta(hours=5,minutes=0)\n",
    "fin = timedelta(hours=18,minutes=0)\n",
    "iteraciones = 100\n",
    "a = simulacion(iteraciones,inicio,fin)\n",
    "print(f\"La simulacion con {len(a[1])} iteraciones nos brinda:\\nEl recorrido simulado es de {a[1]['trip_distance'].mean()} millas \\nEl recorrido promedio por viaje es de {a[1]['trip_mean'].mean()} millas \\nEl ingreso simulado es ${a[1]['total_amount'].mean()} \\nEl ingreso promedio por viaje es de ${a[1]['amount_mean'].mean()} \\nCada viaje duro en promedio {a[1]['trip_time_mean'].mean()} \\nPara un total de {a[1]['trip_time'].mean()} horas\")"
   ]
  },
  {
   "cell_type": "markdown",
   "metadata": {},
   "source": [
    "Simulación con 200 iteraciones"
   ]
  },
  {
   "cell_type": "code",
   "execution_count": 91,
   "metadata": {},
   "outputs": [
    {
     "name": "stdout",
     "output_type": "stream",
     "text": [
      "La simulacion con 200 iteraciones nos brinda:\n",
      "El recorrido simulado es de 157.40884999999997 millas \n",
      "El recorrido promedio por viaje es de 2.915201707421895 millas \n",
      "El ingreso simulado es $1596.0833989268112 \n",
      "El ingreso promedio por viaje es de $27.944189685579047 \n",
      "Cada viaje duro en promedio 0 days 00:14:39.787645925 \n",
      "Para un total de 0 days 13:13:56.219479410 horas\n"
     ]
    }
   ],
   "source": [
    "inicio = timedelta(hours=5,minutes=0)\n",
    "fin = timedelta(hours=18,minutes=0)\n",
    "iteraciones = 200\n",
    "a = simulacion(iteraciones,inicio,fin)\n",
    "print(f\"La simulacion con {len(a[1])} iteraciones nos brinda:\\nEl recorrido simulado es de {a[1]['trip_distance'].mean()} millas \\nEl recorrido promedio por viaje es de {a[1]['trip_mean'].mean()} millas \\nEl ingreso simulado es ${a[1]['total_amount'].mean()} \\nEl ingreso promedio por viaje es de ${a[1]['amount_mean'].mean()} \\nCada viaje duro en promedio {a[1]['trip_time_mean'].mean()} \\nPara un total de {a[1]['trip_time'].mean()} horas\")"
   ]
  },
  {
   "cell_type": "markdown",
   "metadata": {},
   "source": [
    "Simulación con 500 iteraciones"
   ]
  },
  {
   "cell_type": "code",
   "execution_count": 104,
   "metadata": {},
   "outputs": [
    {
     "name": "stdout",
     "output_type": "stream",
     "text": [
      "La simulacion con 500 iteraciones nos brinda:\n",
      "El recorrido simulado es de 156.84672 millas \n",
      "El recorrido promedio por viaje es de 2.8882186165953088 millas \n",
      "El ingreso simulado es $1783.3341614144017 \n",
      "El ingreso promedio por viaje es de $28.828078095428584 \n",
      "Cada viaje duro en promedio 0 days 00:14:38.254037030 \n",
      "Para un total de 0 days 13:14:06.401324488 horas\n"
     ]
    }
   ],
   "source": [
    "inicio = timedelta(hours=5,minutes=0)\n",
    "fin = timedelta(hours=18,minutes=0)\n",
    "iteraciones = 500\n",
    "a = simulacion(iteraciones,inicio,fin)\n",
    "print(f\"La simulacion con {len(a[1])} iteraciones nos brinda:\\nEl recorrido simulado es de {a[1]['trip_distance'].mean()} millas \\nEl recorrido promedio por viaje es de {a[1]['trip_mean'].mean()} millas \\nEl ingreso simulado es ${a[1]['total_amount'].mean()} \\nEl ingreso promedio por viaje es de ${a[1]['amount_mean'].mean()} \\nCada viaje duro en promedio {a[1]['trip_time_mean'].mean()} \\nPara un total de {a[1]['trip_time'].mean()} horas\")"
   ]
  },
  {
   "cell_type": "markdown",
   "metadata": {},
   "source": [
    "Simulación con 1000 iteraciones"
   ]
  },
  {
   "cell_type": "code",
   "execution_count": 105,
   "metadata": {},
   "outputs": [
    {
     "name": "stdout",
     "output_type": "stream",
     "text": [
      "La simulacion con 1000 iteraciones nos brinda:\n",
      "El recorrido simulado es de 206.59527000000003 millas \n",
      "El recorrido promedio por viaje es de 3.7342421019383867 millas \n",
      "El ingreso simulado es $1688.0670651946282 \n",
      "El ingreso promedio por viaje es de $28.30094430597562 \n",
      "Cada viaje duro en promedio 0 days 00:14:24.864502248 \n",
      "Para un total de 0 days 13:14:49.961863276 horas\n"
     ]
    }
   ],
   "source": [
    "inicio = timedelta(hours=5,minutes=0)\n",
    "fin = timedelta(hours=18,minutes=0)\n",
    "iteraciones = 1000\n",
    "a = simulacion(iteraciones,inicio,fin)\n",
    "print(f\"La simulacion con {len(a[1])} iteraciones nos brinda:\\nEl recorrido simulado es de {a[1]['trip_distance'].mean()} millas \\nEl recorrido promedio por viaje es de {a[1]['trip_mean'].mean()} millas \\nEl ingreso simulado es ${a[1]['total_amount'].mean()} \\nEl ingreso promedio por viaje es de ${a[1]['amount_mean'].mean()} \\nCada viaje duro en promedio {a[1]['trip_time_mean'].mean()} \\nPara un total de {a[1]['trip_time'].mean()} horas\")"
   ]
  },
  {
   "cell_type": "markdown",
   "metadata": {},
   "source": [
    "Dataframe con el resumen de las 1000 iteraciones"
   ]
  },
  {
   "cell_type": "code",
   "execution_count": 121,
   "metadata": {},
   "outputs": [
    {
     "data": {
      "text/html": [
       "<div>\n",
       "<style scoped>\n",
       "    .dataframe tbody tr th:only-of-type {\n",
       "        vertical-align: middle;\n",
       "    }\n",
       "\n",
       "    .dataframe tbody tr th {\n",
       "        vertical-align: top;\n",
       "    }\n",
       "\n",
       "    .dataframe thead th {\n",
       "        text-align: right;\n",
       "    }\n",
       "</style>\n",
       "<table border=\"1\" class=\"dataframe\">\n",
       "  <thead>\n",
       "    <tr style=\"text-align: right;\">\n",
       "      <th></th>\n",
       "      <th>interacion</th>\n",
       "      <th>trip_time</th>\n",
       "      <th>trip_time_mean</th>\n",
       "      <th>trip_distance</th>\n",
       "      <th>trip_mean</th>\n",
       "      <th>total_amount</th>\n",
       "      <th>amount_mean</th>\n",
       "    </tr>\n",
       "  </thead>\n",
       "  <tbody>\n",
       "    <tr>\n",
       "      <th>0</th>\n",
       "      <td>0</td>\n",
       "      <td>0 days 13:08:24.635731</td>\n",
       "      <td>0 days 00:13:49.905890</td>\n",
       "      <td>169.37</td>\n",
       "      <td>2.971404</td>\n",
       "      <td>1998.053453</td>\n",
       "      <td>35.053569</td>\n",
       "    </tr>\n",
       "    <tr>\n",
       "      <th>1</th>\n",
       "      <td>1</td>\n",
       "      <td>0 days 13:11:10.137147</td>\n",
       "      <td>0 days 00:11:27.973002</td>\n",
       "      <td>135.53</td>\n",
       "      <td>1.964203</td>\n",
       "      <td>1462.274730</td>\n",
       "      <td>21.192387</td>\n",
       "    </tr>\n",
       "    <tr>\n",
       "      <th>2</th>\n",
       "      <td>2</td>\n",
       "      <td>0 days 13:10:22.092379</td>\n",
       "      <td>0 days 00:16:27.960258</td>\n",
       "      <td>158.64</td>\n",
       "      <td>3.305000</td>\n",
       "      <td>1389.489095</td>\n",
       "      <td>28.947689</td>\n",
       "    </tr>\n",
       "    <tr>\n",
       "      <th>3</th>\n",
       "      <td>3</td>\n",
       "      <td>0 days 13:03:55.714569</td>\n",
       "      <td>0 days 00:15:04.532972</td>\n",
       "      <td>141.75</td>\n",
       "      <td>2.725962</td>\n",
       "      <td>1350.193030</td>\n",
       "      <td>25.965251</td>\n",
       "    </tr>\n",
       "    <tr>\n",
       "      <th>4</th>\n",
       "      <td>4</td>\n",
       "      <td>0 days 13:09:52.646489</td>\n",
       "      <td>0 days 00:16:07.196867</td>\n",
       "      <td>187.42</td>\n",
       "      <td>3.824898</td>\n",
       "      <td>1289.348514</td>\n",
       "      <td>26.313235</td>\n",
       "    </tr>\n",
       "    <tr>\n",
       "      <th>...</th>\n",
       "      <td>...</td>\n",
       "      <td>...</td>\n",
       "      <td>...</td>\n",
       "      <td>...</td>\n",
       "      <td>...</td>\n",
       "      <td>...</td>\n",
       "      <td>...</td>\n",
       "    </tr>\n",
       "    <tr>\n",
       "      <th>995</th>\n",
       "      <td>995</td>\n",
       "      <td>0 days 13:00:36.882742</td>\n",
       "      <td>0 days 00:12:35.433593</td>\n",
       "      <td>179.06</td>\n",
       "      <td>2.888065</td>\n",
       "      <td>1501.436633</td>\n",
       "      <td>24.216720</td>\n",
       "    </tr>\n",
       "    <tr>\n",
       "      <th>996</th>\n",
       "      <td>996</td>\n",
       "      <td>0 days 13:24:07.103452</td>\n",
       "      <td>0 days 00:13:51.846611</td>\n",
       "      <td>145.66</td>\n",
       "      <td>2.511379</td>\n",
       "      <td>1335.804127</td>\n",
       "      <td>23.031106</td>\n",
       "    </tr>\n",
       "    <tr>\n",
       "      <th>997</th>\n",
       "      <td>997</td>\n",
       "      <td>0 days 13:02:10.882735</td>\n",
       "      <td>0 days 00:12:13.295043</td>\n",
       "      <td>162.53</td>\n",
       "      <td>2.539531</td>\n",
       "      <td>1455.316371</td>\n",
       "      <td>22.739318</td>\n",
       "    </tr>\n",
       "    <tr>\n",
       "      <th>998</th>\n",
       "      <td>998</td>\n",
       "      <td>0 days 13:00:30.537232</td>\n",
       "      <td>0 days 00:16:36.394409</td>\n",
       "      <td>166.55</td>\n",
       "      <td>3.543617</td>\n",
       "      <td>1333.937074</td>\n",
       "      <td>28.381640</td>\n",
       "    </tr>\n",
       "    <tr>\n",
       "      <th>999</th>\n",
       "      <td>999</td>\n",
       "      <td>0 days 13:39:43.905870</td>\n",
       "      <td>0 days 00:19:31.045378</td>\n",
       "      <td>151.91</td>\n",
       "      <td>3.616905</td>\n",
       "      <td>1094.675829</td>\n",
       "      <td>26.063710</td>\n",
       "    </tr>\n",
       "  </tbody>\n",
       "</table>\n",
       "<p>1000 rows × 7 columns</p>\n",
       "</div>"
      ],
      "text/plain": [
       "     interacion              trip_time         trip_time_mean  trip_distance  \\\n",
       "0             0 0 days 13:08:24.635731 0 days 00:13:49.905890         169.37   \n",
       "1             1 0 days 13:11:10.137147 0 days 00:11:27.973002         135.53   \n",
       "2             2 0 days 13:10:22.092379 0 days 00:16:27.960258         158.64   \n",
       "3             3 0 days 13:03:55.714569 0 days 00:15:04.532972         141.75   \n",
       "4             4 0 days 13:09:52.646489 0 days 00:16:07.196867         187.42   \n",
       "..          ...                    ...                    ...            ...   \n",
       "995         995 0 days 13:00:36.882742 0 days 00:12:35.433593         179.06   \n",
       "996         996 0 days 13:24:07.103452 0 days 00:13:51.846611         145.66   \n",
       "997         997 0 days 13:02:10.882735 0 days 00:12:13.295043         162.53   \n",
       "998         998 0 days 13:00:30.537232 0 days 00:16:36.394409         166.55   \n",
       "999         999 0 days 13:39:43.905870 0 days 00:19:31.045378         151.91   \n",
       "\n",
       "     trip_mean  total_amount  amount_mean  \n",
       "0     2.971404   1998.053453    35.053569  \n",
       "1     1.964203   1462.274730    21.192387  \n",
       "2     3.305000   1389.489095    28.947689  \n",
       "3     2.725962   1350.193030    25.965251  \n",
       "4     3.824898   1289.348514    26.313235  \n",
       "..         ...           ...          ...  \n",
       "995   2.888065   1501.436633    24.216720  \n",
       "996   2.511379   1335.804127    23.031106  \n",
       "997   2.539531   1455.316371    22.739318  \n",
       "998   3.543617   1333.937074    28.381640  \n",
       "999   3.616905   1094.675829    26.063710  \n",
       "\n",
       "[1000 rows x 7 columns]"
      ]
     },
     "execution_count": 121,
     "metadata": {},
     "output_type": "execute_result"
    }
   ],
   "source": [
    "a[1]"
   ]
  },
  {
   "cell_type": "markdown",
   "metadata": {},
   "source": [
    "Dataframe con el registro de los viajes de una sola iteración"
   ]
  },
  {
   "cell_type": "code",
   "execution_count": 120,
   "metadata": {},
   "outputs": [
    {
     "data": {
      "text/html": [
       "<div>\n",
       "<style scoped>\n",
       "    .dataframe tbody tr th:only-of-type {\n",
       "        vertical-align: middle;\n",
       "    }\n",
       "\n",
       "    .dataframe tbody tr th {\n",
       "        vertical-align: top;\n",
       "    }\n",
       "\n",
       "    .dataframe thead th {\n",
       "        text-align: right;\n",
       "    }\n",
       "</style>\n",
       "<table border=\"1\" class=\"dataframe\">\n",
       "  <thead>\n",
       "    <tr style=\"text-align: right;\">\n",
       "      <th></th>\n",
       "      <th>route</th>\n",
       "      <th>UpLocationId</th>\n",
       "      <th>DOLocationID</th>\n",
       "      <th>Hour_i</th>\n",
       "      <th>Hour_e</th>\n",
       "      <th>trip_time</th>\n",
       "      <th>trip_distance</th>\n",
       "      <th>total_amount</th>\n",
       "    </tr>\n",
       "  </thead>\n",
       "  <tbody>\n",
       "    <tr>\n",
       "      <th>0</th>\n",
       "      <td>Midtown Center -- Times Sq/Theatre District</td>\n",
       "      <td>161</td>\n",
       "      <td>230</td>\n",
       "      <td>0 days 05:00:00</td>\n",
       "      <td>0 days 05:11:22.758621</td>\n",
       "      <td>11.379310</td>\n",
       "      <td>0.97</td>\n",
       "      <td>17.871897</td>\n",
       "    </tr>\n",
       "    <tr>\n",
       "      <th>1</th>\n",
       "      <td>Times Sq/Theatre District -- Penn Station/Madi...</td>\n",
       "      <td>230</td>\n",
       "      <td>186</td>\n",
       "      <td>0 days 05:11:22.758621</td>\n",
       "      <td>0 days 05:21:50.866729</td>\n",
       "      <td>10.468468</td>\n",
       "      <td>1.13</td>\n",
       "      <td>17.152793</td>\n",
       "    </tr>\n",
       "    <tr>\n",
       "      <th>2</th>\n",
       "      <td>Penn Station/Madison Sq West -- Union Sq</td>\n",
       "      <td>186</td>\n",
       "      <td>234</td>\n",
       "      <td>0 days 05:21:50.866729</td>\n",
       "      <td>0 days 05:28:31.158700</td>\n",
       "      <td>6.671533</td>\n",
       "      <td>0.92</td>\n",
       "      <td>15.123285</td>\n",
       "    </tr>\n",
       "    <tr>\n",
       "      <th>3</th>\n",
       "      <td>Union Sq -- Midtown South</td>\n",
       "      <td>234</td>\n",
       "      <td>164</td>\n",
       "      <td>0 days 05:28:31.158700</td>\n",
       "      <td>0 days 05:35:11.369226</td>\n",
       "      <td>6.670175</td>\n",
       "      <td>0.70</td>\n",
       "      <td>14.663193</td>\n",
       "    </tr>\n",
       "    <tr>\n",
       "      <th>4</th>\n",
       "      <td>Midtown South -- Flatiron</td>\n",
       "      <td>164</td>\n",
       "      <td>90</td>\n",
       "      <td>0 days 05:35:11.369226</td>\n",
       "      <td>0 days 05:42:43.133932</td>\n",
       "      <td>7.529412</td>\n",
       "      <td>1.18</td>\n",
       "      <td>16.027647</td>\n",
       "    </tr>\n",
       "    <tr>\n",
       "      <th>...</th>\n",
       "      <td>...</td>\n",
       "      <td>...</td>\n",
       "      <td>...</td>\n",
       "      <td>...</td>\n",
       "      <td>...</td>\n",
       "      <td>...</td>\n",
       "      <td>...</td>\n",
       "      <td>...</td>\n",
       "    </tr>\n",
       "    <tr>\n",
       "      <th>59</th>\n",
       "      <td>East Harlem North -- Upper East Side South</td>\n",
       "      <td>74</td>\n",
       "      <td>237</td>\n",
       "      <td>0 days 16:55:21.603297</td>\n",
       "      <td>0 days 17:11:21.603297</td>\n",
       "      <td>16.000000</td>\n",
       "      <td>2.70</td>\n",
       "      <td>23.935000</td>\n",
       "    </tr>\n",
       "    <tr>\n",
       "      <th>60</th>\n",
       "      <td>Upper East Side South -- Upper East Side South</td>\n",
       "      <td>237</td>\n",
       "      <td>237</td>\n",
       "      <td>0 days 17:11:21.603297</td>\n",
       "      <td>0 days 17:16:58.325230</td>\n",
       "      <td>5.612032</td>\n",
       "      <td>0.70</td>\n",
       "      <td>13.847101</td>\n",
       "    </tr>\n",
       "    <tr>\n",
       "      <th>61</th>\n",
       "      <td>Upper East Side South -- Manhattan Valley</td>\n",
       "      <td>237</td>\n",
       "      <td>151</td>\n",
       "      <td>0 days 17:16:58.325230</td>\n",
       "      <td>0 days 17:29:29.325230</td>\n",
       "      <td>12.516667</td>\n",
       "      <td>2.40</td>\n",
       "      <td>22.931167</td>\n",
       "    </tr>\n",
       "    <tr>\n",
       "      <th>62</th>\n",
       "      <td>Manhattan Valley -- Midtown Center</td>\n",
       "      <td>151</td>\n",
       "      <td>161</td>\n",
       "      <td>0 days 17:29:29.325230</td>\n",
       "      <td>0 days 17:44:29.325230</td>\n",
       "      <td>15.000000</td>\n",
       "      <td>2.62</td>\n",
       "      <td>20.300000</td>\n",
       "    </tr>\n",
       "    <tr>\n",
       "      <th>63</th>\n",
       "      <td>Midtown Center -- Newark Airport</td>\n",
       "      <td>161</td>\n",
       "      <td>1</td>\n",
       "      <td>0 days 17:44:29.325230</td>\n",
       "      <td>0 days 18:20:29.325230</td>\n",
       "      <td>36.000000</td>\n",
       "      <td>22.12</td>\n",
       "      <td>136.090000</td>\n",
       "    </tr>\n",
       "  </tbody>\n",
       "</table>\n",
       "<p>64 rows × 8 columns</p>\n",
       "</div>"
      ],
      "text/plain": [
       "                                                route  UpLocationId  \\\n",
       "0         Midtown Center -- Times Sq/Theatre District           161   \n",
       "1   Times Sq/Theatre District -- Penn Station/Madi...           230   \n",
       "2            Penn Station/Madison Sq West -- Union Sq           186   \n",
       "3                           Union Sq -- Midtown South           234   \n",
       "4                           Midtown South -- Flatiron           164   \n",
       "..                                                ...           ...   \n",
       "59         East Harlem North -- Upper East Side South            74   \n",
       "60     Upper East Side South -- Upper East Side South           237   \n",
       "61          Upper East Side South -- Manhattan Valley           237   \n",
       "62                 Manhattan Valley -- Midtown Center           151   \n",
       "63                   Midtown Center -- Newark Airport           161   \n",
       "\n",
       "    DOLocationID                 Hour_i                 Hour_e  trip_time  \\\n",
       "0            230        0 days 05:00:00 0 days 05:11:22.758621  11.379310   \n",
       "1            186 0 days 05:11:22.758621 0 days 05:21:50.866729  10.468468   \n",
       "2            234 0 days 05:21:50.866729 0 days 05:28:31.158700   6.671533   \n",
       "3            164 0 days 05:28:31.158700 0 days 05:35:11.369226   6.670175   \n",
       "4             90 0 days 05:35:11.369226 0 days 05:42:43.133932   7.529412   \n",
       "..           ...                    ...                    ...        ...   \n",
       "59           237 0 days 16:55:21.603297 0 days 17:11:21.603297  16.000000   \n",
       "60           237 0 days 17:11:21.603297 0 days 17:16:58.325230   5.612032   \n",
       "61           151 0 days 17:16:58.325230 0 days 17:29:29.325230  12.516667   \n",
       "62           161 0 days 17:29:29.325230 0 days 17:44:29.325230  15.000000   \n",
       "63             1 0 days 17:44:29.325230 0 days 18:20:29.325230  36.000000   \n",
       "\n",
       "    trip_distance  total_amount  \n",
       "0            0.97     17.871897  \n",
       "1            1.13     17.152793  \n",
       "2            0.92     15.123285  \n",
       "3            0.70     14.663193  \n",
       "4            1.18     16.027647  \n",
       "..            ...           ...  \n",
       "59           2.70     23.935000  \n",
       "60           0.70     13.847101  \n",
       "61           2.40     22.931167  \n",
       "62           2.62     20.300000  \n",
       "63          22.12    136.090000  \n",
       "\n",
       "[64 rows x 8 columns]"
      ]
     },
     "execution_count": 120,
     "metadata": {},
     "output_type": "execute_result"
    }
   ],
   "source": [
    "a[0][5]"
   ]
  }
 ],
 "metadata": {
  "kernelspec": {
   "display_name": "Python 3",
   "language": "python",
   "name": "python3"
  },
  "language_info": {
   "codemirror_mode": {
    "name": "ipython",
    "version": 3
   },
   "file_extension": ".py",
   "mimetype": "text/x-python",
   "name": "python",
   "nbconvert_exporter": "python",
   "pygments_lexer": "ipython3",
   "version": "3.11.9"
  }
 },
 "nbformat": 4,
 "nbformat_minor": 2
}
