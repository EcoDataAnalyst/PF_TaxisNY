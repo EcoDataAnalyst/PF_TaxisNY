{
 "cells": [
  {
   "cell_type": "code",
   "execution_count": 2,
   "metadata": {},
   "source": [
    "#Importar librerías.\n",
    "\n",
    "import numpy as np\n",
    "import pandas as pd\n",
    "import seaborn as sns\n",
    "import matplotlib.pyplot as plt\n",
    "import squarify\n",
    "plt.style.use('fivethirtyeight')\n",
    "from bs4 import BeautifulSoup\n",
    "import requests\n",
    "import datetime\n",
    "import pyarrow\n",
    "import openmeteo_requests\n",
    "\n",
    "import requests_cache\n",
    "\n",
    "from retry_requests import retry\n",
    "import warnings\n",
    "warnings.filterwarnings('ignore')"
   ],
   "outputs": []
  },
  {
   "cell_type": "code",
   "execution_count": 3,
   "metadata": {},
   "source": [
    "\n",
    "\n",
    "# Configura el cliente API Open-Meteo con caché y vuelve a intentarlo en caso de error\n",
    "cache_session = requests_cache.CachedSession('.cache', expire_after = 3600)\n",
    "retry_session = retry(cache_session, retries = 5, backoff_factor = 0.2)\n",
    "openmeteo = openmeteo_requests.Client(session = retry_session)\n",
    "\n",
    "# Todas las variables climáticas requeridas se enumeran aquí\n",
    "\n",
    "url = \"https://air-quality-api.open-meteo.com/v1/air-quality\"\n",
    "params = {\n",
    "\t\"latitude\": 40.7143,\n",
    "\t\"longitude\": -74.006,\n",
    "\t\"current\": [\"us_aqi\", \"pm10\", \"pm2_5\", \"carbon_monoxide\", \"sulphur_dioxide\", \"ozone\"],\n",
    "\t\"hourly\": [\"pm10\", \"pm2_5\", \"carbon_monoxide\", \"sulphur_dioxide\", \"ozone\", \"us_aqi\", \"us_aqi_pm2_5\", \"us_aqi_pm10\", \"us_aqi_carbon_monoxide\", \"us_aqi_ozone\"],\n",
    "\t\"timezone\": \"America/New_York\",\n",
    "\t\"start_date\": \"2023-12-01\",\n",
    "\t\"end_date\": \"2024-02-29\"\n",
    "}\n",
    "responses = openmeteo.weather_api(url, params=params)\n",
    "\n",
    "# Ubicación del proceso.\n",
    "response = responses[0]\n",
    "print(f\"Coordinates {response.Latitude()}°N {response.Longitude()}°E\")\n",
    "print(f\"Elevation {response.Elevation()} m asl\")\n",
    "print(f\"Timezone {response.Timezone()} {response.TimezoneAbbreviation()}\")\n",
    "print(f\"Timezone difference to GMT+0 {response.UtcOffsetSeconds()} s\")\n",
    "\n",
    "# Para lo valores actuales, el orden de las variables debe ser el mismo que el solicitado.\n",
    "current = response.Current()\n",
    "current_us_aqi = current.Variables(0).Value()\n",
    "current_pm10 = current.Variables(1).Value()\n",
    "current_pm2_5 = current.Variables(2).Value()\n",
    "current_carbon_monoxide = current.Variables(3).Value()\n",
    "current_sulphur_dioxide = current.Variables(4).Value()\n",
    "current_ozone = current.Variables(5).Value()\n",
    "\n",
    "print(f\"Current time {current.Time()}\")\n",
    "print(f\"Current us_aqi {current_us_aqi}\")\n",
    "print(f\"Current pm10 {current_pm10}\")\n",
    "print(f\"Current pm2_5 {current_pm2_5}\")\n",
    "print(f\"Current carbon_monoxide {current_carbon_monoxide}\")\n",
    "print(f\"Current sulphur_dioxide {current_sulphur_dioxide}\")\n",
    "print(f\"Current ozone {current_ozone}\")\n",
    "\n",
    "# Para procesar datos horarios, el orden de las variables debe ser el mismo que el solicitado.\n",
    "hourly = response.Hourly()\n",
    "hourly_pm10 = hourly.Variables(0).ValuesAsNumpy()\n",
    "hourly_pm2_5 = hourly.Variables(1).ValuesAsNumpy()\n",
    "hourly_carbon_monoxide = hourly.Variables(2).ValuesAsNumpy()\n",
    "hourly_sulphur_dioxide = hourly.Variables(3).ValuesAsNumpy()\n",
    "hourly_ozone = hourly.Variables(4).ValuesAsNumpy()\n",
    "hourly_us_aqi = hourly.Variables(5).ValuesAsNumpy()\n",
    "hourly_us_aqi_pm2_5 = hourly.Variables(6).ValuesAsNumpy()\n",
    "hourly_us_aqi_pm10 = hourly.Variables(7).ValuesAsNumpy()\n",
    "hourly_us_aqi_carbon_monoxide = hourly.Variables(8).ValuesAsNumpy()\n",
    "hourly_us_aqi_ozone = hourly.Variables(9).ValuesAsNumpy()\n",
    "\n",
    "hourly_data = {\"date\": pd.date_range(\n",
    "\tstart = pd.to_datetime(hourly.Time(), unit = \"s\", utc = True),\n",
    "\tend = pd.to_datetime(hourly.TimeEnd(), unit = \"s\", utc = True),\n",
    "\tfreq = pd.Timedelta(seconds = hourly.Interval()),\n",
    "\tinclusive = \"left\"\n",
    ")}\n",
    "hourly_data[\"pm10\"] = hourly_pm10\n",
    "hourly_data[\"pm2_5\"] = hourly_pm2_5\n",
    "hourly_data[\"carbon_monoxide\"] = hourly_carbon_monoxide\n",
    "hourly_data[\"sulphur_dioxide\"] = hourly_sulphur_dioxide\n",
    "hourly_data[\"ozone\"] = hourly_ozone\n",
    "hourly_data[\"us_aqi\"] = hourly_us_aqi\n",
    "hourly_data[\"us_aqi_pm2_5\"] = hourly_us_aqi_pm2_5\n",
    "hourly_data[\"us_aqi_pm10\"] = hourly_us_aqi_pm10\n",
    "hourly_data[\"us_aqi_carbon_monoxide\"] = hourly_us_aqi_carbon_monoxide\n",
    "hourly_data[\"us_aqi_ozone\"] = hourly_us_aqi_ozone\n",
    "\n",
    "hourly_dataframe = pd.DataFrame(data = hourly_data)\n"
   ],
   "outputs": []
  },
  {
   "cell_type": "code",
   "execution_count": 4,
   "metadata": {},
   "source": [
    "hourly_dataframe.head()"
   ],
   "outputs": []
  },
  {
   "cell_type": "code",
   "execution_count": 5,
   "metadata": {},
   "source": [
    "hourly_dataframe.info()"
   ],
   "outputs": []
  },
  {
   "cell_type": "code",
   "execution_count": 11,
   "metadata": {},
   "source": [
    "print(f'Año con menor CO2:',hourly_dataframe['date'].min(sum('carbon_monoxide')),' Año con mayor CO2:',hourly_dataframe['date'].max(sum('carbon_monoxide'))"
   ],
   "outputs": []
  },
  {
   "cell_type": "code",
   "execution_count": null,
   "metadata": {},
   "source": [
    "hourly_dataframe."
   ],
   "outputs": []
  },
  {
   "cell_type": "code",
   "execution_count": 6,
   "metadata": {},
   "source": [
    "# Se crea Subplot \n",
    "fig, ax = plt.subplots(1, 1, figsize=(20, 12),dpi=800)\n",
    "\n",
    "# grafica1 Particulas por metro cubico\n",
    "\n",
    "sns.lineplot(x=\"date\", y=\"pm2_5\", data=hourly_dataframe, \n",
    "            ax=ax, markers=True, palette=\"magma\")\n",
    "    # etiquetas & ejes\n",
    "ax.set_xlabel('años')\n",
    "ax.set_ylabel('PM 2.5 µg / cm3')\n",
    "ax.set_title('Particulas finas en el aire New York')\n",
    "    # Leyenda\n",
    "ax.legend(title='Calidad del aire', loc='upper right', bbox_to_anchor=(1.05, 1)) \n",
    "    # Lineas de standar\n",
    "ax.axhline(y=10, color='red', linestyle='--',label='standard OMS')\n",
    "ax.axhline(y=12, color='green', linestyle='--',label='standard EPA')\n",
    "    # leyenda a la línea\n",
    "ax.legend()\n"
   ],
   "outputs": []
  },
  {
   "cell_type": "code",
   "execution_count": 15,
   "metadata": {},
   "source": [
    "# Grafico ditribucion CO2\n",
    "\n",
    "plt.subplots(figsize=(15,8))\n",
    "\n",
    "sns.distplot(hourly_dataframe['carbon_monoxide'])\n",
    "plt.title('Distribucion CO2',size=15)\n",
    "plt.show()"
   ],
   "outputs": []
  }
 ],
 "metadata": {
  "kernelspec": {
   "display_name": "Python 3",
   "language": "python",
   "name": "python3"
  },
  "language_info": {
   "codemirror_mode": {
    "name": "ipython",
    "version": 3
   },
   "file_extension": ".py",
   "mimetype": "text/x-python",
   "name": "python",
   "nbconvert_exporter": "python",
   "pygments_lexer": "ipython3",
   "version": "3.11.8"
  }
 },
 "nbformat": 4,
 "nbformat_minor": 2
}
