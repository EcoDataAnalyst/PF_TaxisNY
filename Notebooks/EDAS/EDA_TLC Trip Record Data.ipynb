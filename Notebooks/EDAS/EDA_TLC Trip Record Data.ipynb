{
 "cells": [
  {
   "cell_type": "code",
   "metadata": {
    "ExecuteTime": {
     "end_time": "2024-05-17T00:56:44.077826Z",
     "start_time": "2024-05-17T00:56:42.188243Z"
    }
   },
   "source": [
    "import pandas as pd\n",
    "import numpy as np\n",
    "import matplotlib.pyplot as plt\n",
    "# yellow_taxi = pd.read_parquet('../Data/yellow_taxi_clean.parquet')  # Ejecutar solo cuando sea necesario cargar los datos limpios"
   ],
   "outputs": [],
   "execution_count": 1
  },
  {
   "cell_type": "markdown",
   "metadata": {},
   "source": [
    "Función `range_data` extrae un rango de archivos Parquet y los carga como DataFrames. Los parametros solicitados son:\n",
    "- `url_trim` Porción de la url que se mantiene invariable\n",
    "- `start_m` Mes del intervalo inferior\n",
    "- `start_y` Año del intervalo inferior\n",
    "- `end_m` Mes del intervalo superior\n",
    "- `end_y` Año del intervalo superior"
   ]
  },
  {
   "cell_type": "code",
   "metadata": {
    "ExecuteTime": {
     "end_time": "2024-05-17T00:56:44.091616Z",
     "start_time": "2024-05-17T00:56:44.081352Z"
    }
   },
   "source": [
    "def downloaddf(url_trim:str,month:int,year:int):\n",
    "    if len (str(int(month)))==1:\n",
    "        month='0'+str(month)\n",
    "    return  pd.read_parquet(url_trim+str(year)+'-'+str(month)+'.parquet')\n",
    "\n",
    "def range_data(url_trim:str,start_m:int, start_y:int, end_m:int, end_y:int):\n",
    "    if end_y - start_y < 0:\n",
    "        return 'Error:  End Year is smaller than Start Year'\n",
    "    elif end_y ==  start_y and end_m < start_m:\n",
    "        return 'Error:  End Month is smaller than or equal to Start Month'\n",
    "    elif start_m > 12 or end_m > 12:\n",
    "        return 'Error: End Month or  Start Month is larger than 12'\n",
    "    elif end_y ==  start_y and end_m == start_m:\n",
    "        return downloaddf(url_trim,start_m,start_y)\n",
    "    elif end_y == start_y:\n",
    "        df1 =downloaddf(url_trim,start_m,start_y)\n",
    "        for i in range(start_m + 1,end_m + 1):\n",
    "            df2 =downloaddf(url_trim,i,start_y)\n",
    "            df1 = pd.concat([df1,df2],ignore_index=True)\n",
    "            del df2\n",
    "        return df1\n",
    "    elif  end_y > start_y:\n",
    "        df1 =downloaddf(url_trim,start_m,start_y)\n",
    "        for j in range(start_y ,end_y + 1):\n",
    "            for k in range(start_m + 1,13):\n",
    "                if  j==end_y and  k > end_m :break\n",
    "                df2 =downloaddf(url_trim,k,j)\n",
    "                df1 = pd.concat([df1,df2],ignore_index=True)\n",
    "                del df2\n",
    "            start_m  = 1\n",
    "        return df1"
   ],
   "outputs": [],
   "execution_count": 2
  },
  {
   "cell_type": "markdown",
   "metadata": {},
   "source": [
    "## Yellow Taxi"
   ]
  },
  {
   "cell_type": "markdown",
   "metadata": {},
   "source": [
    "Carga del conjunto de datos para `Yellow Taxi` comprendidos entre Diciembre del 2023 a Febrero del 2024 (Últimos tres meses)"
   ]
  },
  {
   "cell_type": "code",
   "metadata": {
    "ExecuteTime": {
     "end_time": "2024-05-17T00:56:51.413860Z",
     "start_time": "2024-05-17T00:56:44.094632Z"
    }
   },
   "source": [
    "url_trim = 'https://d37ci6vzurychx.cloudfront.net/trip-data/yellow_tripdata_20'\n",
    "yellow_taxi = range_data(url_trim,12,23,2,24)"
   ],
   "outputs": [],
   "execution_count": 3
  },
  {
   "cell_type": "markdown",
   "metadata": {},
   "source": [
    "Descarga alternativa del datos"
   ]
  },
  {
   "cell_type": "code",
   "metadata": {
    "ExecuteTime": {
     "end_time": "2024-05-17T00:57:00.632177Z",
     "start_time": "2024-05-17T00:56:51.423407Z"
    }
   },
   "source": [
    "df1 = pd.read_parquet('https://d37ci6vzurychx.cloudfront.net/trip-data/yellow_tripdata_2023-12.parquet')\n",
    "df2 = pd.read_parquet('https://d37ci6vzurychx.cloudfront.net/trip-data/yellow_tripdata_2024-01.parquet')\n",
    "df3 = pd.read_parquet('https://d37ci6vzurychx.cloudfront.net/trip-data/yellow_tripdata_2024-02.parquet')\n",
    "yellow_taxi = pd.concat([df1,df2,df3],ignore_index=True)"
   ],
   "outputs": [],
   "execution_count": 4
  },
  {
   "cell_type": "markdown",
   "metadata": {},
   "source": [
    "Identificadores de zona de NYC"
   ]
  },
  {
   "cell_type": "code",
   "metadata": {
    "ExecuteTime": {
     "end_time": "2024-05-17T00:57:01.095845Z",
     "start_time": "2024-05-17T00:57:00.643846Z"
    }
   },
   "source": [
    "url_zonas = 'https://d37ci6vzurychx.cloudfront.net/misc/taxi_zone_lookup.csv'\n",
    "zonas = pd.read_csv(url_zonas)"
   ],
   "outputs": [],
   "execution_count": 5
  },
  {
   "cell_type": "markdown",
   "metadata": {},
   "source": [
    "## Descripción general de los datos\n",
    "\n",
    "El conjunto de datos utilizado para el análisis exploratorio de datos (EDA) de los taxis amarillos abarca los últimos **3 meses disponibles** a la fecha de realización (de **diciembre de 2023 a febrero de 2024**). Este intervalo temporal contiene poco más de **9 millones de registros** de los cuales se encontraron cerca de **506 mil registros nulos** lo cual **representa el 5.41% de los datos** analizados."
   ]
  },
  {
   "cell_type": "code",
   "metadata": {
    "ExecuteTime": {
     "end_time": "2024-05-17T00:57:02.425452Z",
     "start_time": "2024-05-17T00:57:01.097862Z"
    }
   },
   "source": [
    "yellow_taxi.info(show_counts=True)"
   ],
   "outputs": [
    {
     "name": "stdout",
     "output_type": "stream",
     "text": [
      "<class 'pandas.core.frame.DataFrame'>\n",
      "RangeIndex: 9348717 entries, 0 to 9348716\n",
      "Data columns (total 19 columns):\n",
      " #   Column                 Non-Null Count    Dtype         \n",
      "---  ------                 --------------    -----         \n",
      " 0   VendorID               9348717 non-null  int32         \n",
      " 1   tpep_pickup_datetime   9348717 non-null  datetime64[us]\n",
      " 2   tpep_dropoff_datetime  9348717 non-null  datetime64[us]\n",
      " 3   passenger_count        8842942 non-null  float64       \n",
      " 4   trip_distance          9348717 non-null  float64       \n",
      " 5   RatecodeID             8842942 non-null  float64       \n",
      " 6   store_and_fwd_flag     8842942 non-null  object        \n",
      " 7   PULocationID           9348717 non-null  int32         \n",
      " 8   DOLocationID           9348717 non-null  int32         \n",
      " 9   payment_type           9348717 non-null  int64         \n",
      " 10  fare_amount            9348717 non-null  float64       \n",
      " 11  extra                  9348717 non-null  float64       \n",
      " 12  mta_tax                9348717 non-null  float64       \n",
      " 13  tip_amount             9348717 non-null  float64       \n",
      " 14  tolls_amount           9348717 non-null  float64       \n",
      " 15  improvement_surcharge  9348717 non-null  float64       \n",
      " 16  total_amount           9348717 non-null  float64       \n",
      " 17  congestion_surcharge   8842942 non-null  float64       \n",
      " 18  Airport_fee            8842942 non-null  float64       \n",
      "dtypes: datetime64[us](2), float64(12), int32(3), int64(1), object(1)\n",
      "memory usage: 1.2+ GB\n"
     ]
    }
   ],
   "execution_count": 6
  },
  {
   "cell_type": "code",
   "metadata": {
    "ExecuteTime": {
     "end_time": "2024-05-17T00:57:02.794312Z",
     "start_time": "2024-05-17T00:57:02.427465Z"
    }
   },
   "source": [
    "nulos = yellow_taxi[yellow_taxi['passenger_count'].isna() == True]['VendorID'].count()\n",
    "yellow_taxi[yellow_taxi['passenger_count'].isna() == True].count()"
   ],
   "outputs": [
    {
     "data": {
      "text/plain": [
       "VendorID                 505775\n",
       "tpep_pickup_datetime     505775\n",
       "tpep_dropoff_datetime    505775\n",
       "passenger_count               0\n",
       "trip_distance            505775\n",
       "RatecodeID                    0\n",
       "store_and_fwd_flag            0\n",
       "PULocationID             505775\n",
       "DOLocationID             505775\n",
       "payment_type             505775\n",
       "fare_amount              505775\n",
       "extra                    505775\n",
       "mta_tax                  505775\n",
       "tip_amount               505775\n",
       "tolls_amount             505775\n",
       "improvement_surcharge    505775\n",
       "total_amount             505775\n",
       "congestion_surcharge          0\n",
       "Airport_fee                   0\n",
       "dtype: int64"
      ]
     },
     "execution_count": 7,
     "metadata": {},
     "output_type": "execute_result"
    }
   ],
   "execution_count": 7
  },
  {
   "cell_type": "code",
   "metadata": {
    "ExecuteTime": {
     "end_time": "2024-05-17T00:57:02.851447Z",
     "start_time": "2024-05-17T00:57:02.796327Z"
    }
   },
   "source": [
    "print(f\"Se tienen un total de {yellow_taxi['VendorID'].count()} de los cuales {nulos} son registros nulos, lo cual representa un {round(nulos * 100/ yellow_taxi['VendorID'].count(),2)}% de los datos\")"
   ],
   "outputs": [
    {
     "name": "stdout",
     "output_type": "stream",
     "text": [
      "Se tienen un total de 9348717 de los cuales 505775 son registros nulos, lo cual representa un 5.41% de los datos\n"
     ]
    }
   ],
   "execution_count": 8
  },
  {
   "cell_type": "markdown",
   "metadata": {},
   "source": [
    "Despues de eliminar los registros nulos nos **quedan alrededor de 8.8 millones** de registros"
   ]
  },
  {
   "cell_type": "code",
   "metadata": {
    "ExecuteTime": {
     "end_time": "2024-05-17T00:57:05.481009Z",
     "start_time": "2024-05-17T00:57:02.855655Z"
    }
   },
   "source": [
    "yellow_taxi = yellow_taxi.dropna()\n",
    "print(f\"Quedan {yellow_taxi['VendorID'].count()} registros\")"
   ],
   "outputs": [
    {
     "name": "stdout",
     "output_type": "stream",
     "text": [
      "Quedan 8842942 registros\n"
     ]
    }
   ],
   "execution_count": 9
  },
  {
   "cell_type": "markdown",
   "metadata": {},
   "source": [
    "En esta primera inspección, se pueden visualizar registros que contienen valores atípicos en las siguientes variables:\n",
    "\n",
    "- `tpep_pickup_datetime`\n",
    "- `tpep_dropoff_datetime`\n",
    "- `trip_distance`\n",
    "- `extra`\n",
    "- `mta_tax`\n",
    "- `tip_amount`\n",
    "- `tolls_amount`\n",
    "- `total_amount`\n",
    "\n",
    "Estos valores atípicos pueden afectar el análisis y deben ser considerados al procesar los datos. Es importante investigar más a fondo para comprender la naturaleza de estos registros y decidir cómo manejarlos en el contexto del análisis exploratorio de datos."
   ]
  },
  {
   "cell_type": "code",
   "metadata": {
    "ExecuteTime": {
     "end_time": "2024-05-17T00:57:25.453363Z",
     "start_time": "2024-05-17T00:57:05.489397Z"
    }
   },
   "source": [
    "yellow_taxi.describe()"
   ],
   "outputs": [
    {
     "data": {
      "text/plain": [
       "           VendorID        tpep_pickup_datetime       tpep_dropoff_datetime  \\\n",
       "count  8.842942e+06                     8842942                     8842942   \n",
       "mean   1.757060e+00  2024-01-14 14:38:42.655637  2024-01-14 14:55:20.555183   \n",
       "min    1.000000e+00         2002-12-31 22:16:54         2002-12-31 23:05:41   \n",
       "25%    2.000000e+00  2023-12-19 21:42:44.250000         2023-12-19 21:56:46   \n",
       "50%    2.000000e+00  2024-01-14 23:01:15.500000  2024-01-14 23:14:53.500000   \n",
       "75%    2.000000e+00         2024-02-07 12:28:45  2024-02-07 12:47:42.750000   \n",
       "max    2.000000e+00         2024-03-01 00:01:37         2024-03-01 23:24:42   \n",
       "std    4.288594e-01                         NaN                         NaN   \n",
       "\n",
       "       passenger_count  trip_distance    RatecodeID  PULocationID  \\\n",
       "count     8.842942e+06   8.842942e+06  8.842942e+06  8.842942e+06   \n",
       "mean      1.359922e+00   3.337742e+00  1.984252e+00  1.658360e+02   \n",
       "min       0.000000e+00   0.000000e+00  1.000000e+00  1.000000e+00   \n",
       "25%       1.000000e+00   1.000000e+00  1.000000e+00  1.320000e+02   \n",
       "50%       1.000000e+00   1.680000e+00  1.000000e+00  1.620000e+02   \n",
       "75%       1.000000e+00   3.110000e+00  1.000000e+00  2.340000e+02   \n",
       "max       9.000000e+00   1.617261e+05  9.900000e+01  2.650000e+02   \n",
       "std       8.679405e-01   8.485820e+01  9.396248e+00  6.350249e+01   \n",
       "\n",
       "       DOLocationID  payment_type   fare_amount         extra       mta_tax  \\\n",
       "count  8.842942e+06  8.842942e+06  8.842942e+06  8.842942e+06  8.842942e+06   \n",
       "mean   1.649052e+02  1.222013e+00  1.856954e+01  1.535385e+00  4.824741e-01   \n",
       "min    1.000000e+00  1.000000e+00 -1.087300e+03 -7.500000e+00 -5.000000e-01   \n",
       "25%    1.140000e+02  1.000000e+00  8.600000e+00  0.000000e+00  5.000000e-01   \n",
       "50%    1.620000e+02  1.000000e+00  1.280000e+01  1.000000e+00  5.000000e-01   \n",
       "75%    2.340000e+02  1.000000e+00  2.120000e+01  2.500000e+00  5.000000e-01   \n",
       "max    2.650000e+02  4.000000e+00  5.000000e+03  5.168000e+01  5.750000e+00   \n",
       "std    6.932214e+01  5.353514e-01  1.884785e+01  1.820353e+00  1.207479e-01   \n",
       "\n",
       "         tip_amount  tolls_amount  improvement_surcharge  total_amount  \\\n",
       "count  8.842942e+06  8.842942e+06           8.842942e+06  8.842942e+06   \n",
       "mean   3.501427e+00  5.482924e-01           9.744790e-01  2.744127e+01   \n",
       "min   -1.400000e+02 -8.000000e+01          -1.000000e+00 -1.094050e+03   \n",
       "25%    1.000000e+00  0.000000e+00           1.000000e+00  1.548000e+01   \n",
       "50%    2.800000e+00  0.000000e+00           1.000000e+00  2.050000e+01   \n",
       "75%    4.340000e+00  0.000000e+00           1.000000e+00  2.970000e+01   \n",
       "max    4.174000e+03  1.613800e+02           1.000000e+00  5.000000e+03   \n",
       "std    4.231450e+00  2.168942e+00           2.236907e-01  2.356329e+01   \n",
       "\n",
       "       congestion_surcharge   Airport_fee  \n",
       "count          8.842942e+06  8.842942e+06  \n",
       "mean           2.264431e+00  1.358217e-01  \n",
       "min           -2.500000e+00 -1.750000e+00  \n",
       "25%            2.500000e+00  0.000000e+00  \n",
       "50%            2.500000e+00  0.000000e+00  \n",
       "75%            2.500000e+00  0.000000e+00  \n",
       "max            2.500000e+00  1.750000e+00  \n",
       "std            8.145729e-01  4.789160e-01  "
      ],
      "text/html": [
       "<div>\n",
       "<style scoped>\n",
       "    .dataframe tbody tr th:only-of-type {\n",
       "        vertical-align: middle;\n",
       "    }\n",
       "\n",
       "    .dataframe tbody tr th {\n",
       "        vertical-align: top;\n",
       "    }\n",
       "\n",
       "    .dataframe thead th {\n",
       "        text-align: right;\n",
       "    }\n",
       "</style>\n",
       "<table border=\"1\" class=\"dataframe\">\n",
       "  <thead>\n",
       "    <tr style=\"text-align: right;\">\n",
       "      <th></th>\n",
       "      <th>VendorID</th>\n",
       "      <th>tpep_pickup_datetime</th>\n",
       "      <th>tpep_dropoff_datetime</th>\n",
       "      <th>passenger_count</th>\n",
       "      <th>trip_distance</th>\n",
       "      <th>RatecodeID</th>\n",
       "      <th>PULocationID</th>\n",
       "      <th>DOLocationID</th>\n",
       "      <th>payment_type</th>\n",
       "      <th>fare_amount</th>\n",
       "      <th>extra</th>\n",
       "      <th>mta_tax</th>\n",
       "      <th>tip_amount</th>\n",
       "      <th>tolls_amount</th>\n",
       "      <th>improvement_surcharge</th>\n",
       "      <th>total_amount</th>\n",
       "      <th>congestion_surcharge</th>\n",
       "      <th>Airport_fee</th>\n",
       "    </tr>\n",
       "  </thead>\n",
       "  <tbody>\n",
       "    <tr>\n",
       "      <th>count</th>\n",
       "      <td>8.842942e+06</td>\n",
       "      <td>8842942</td>\n",
       "      <td>8842942</td>\n",
       "      <td>8.842942e+06</td>\n",
       "      <td>8.842942e+06</td>\n",
       "      <td>8.842942e+06</td>\n",
       "      <td>8.842942e+06</td>\n",
       "      <td>8.842942e+06</td>\n",
       "      <td>8.842942e+06</td>\n",
       "      <td>8.842942e+06</td>\n",
       "      <td>8.842942e+06</td>\n",
       "      <td>8.842942e+06</td>\n",
       "      <td>8.842942e+06</td>\n",
       "      <td>8.842942e+06</td>\n",
       "      <td>8.842942e+06</td>\n",
       "      <td>8.842942e+06</td>\n",
       "      <td>8.842942e+06</td>\n",
       "      <td>8.842942e+06</td>\n",
       "    </tr>\n",
       "    <tr>\n",
       "      <th>mean</th>\n",
       "      <td>1.757060e+00</td>\n",
       "      <td>2024-01-14 14:38:42.655637</td>\n",
       "      <td>2024-01-14 14:55:20.555183</td>\n",
       "      <td>1.359922e+00</td>\n",
       "      <td>3.337742e+00</td>\n",
       "      <td>1.984252e+00</td>\n",
       "      <td>1.658360e+02</td>\n",
       "      <td>1.649052e+02</td>\n",
       "      <td>1.222013e+00</td>\n",
       "      <td>1.856954e+01</td>\n",
       "      <td>1.535385e+00</td>\n",
       "      <td>4.824741e-01</td>\n",
       "      <td>3.501427e+00</td>\n",
       "      <td>5.482924e-01</td>\n",
       "      <td>9.744790e-01</td>\n",
       "      <td>2.744127e+01</td>\n",
       "      <td>2.264431e+00</td>\n",
       "      <td>1.358217e-01</td>\n",
       "    </tr>\n",
       "    <tr>\n",
       "      <th>min</th>\n",
       "      <td>1.000000e+00</td>\n",
       "      <td>2002-12-31 22:16:54</td>\n",
       "      <td>2002-12-31 23:05:41</td>\n",
       "      <td>0.000000e+00</td>\n",
       "      <td>0.000000e+00</td>\n",
       "      <td>1.000000e+00</td>\n",
       "      <td>1.000000e+00</td>\n",
       "      <td>1.000000e+00</td>\n",
       "      <td>1.000000e+00</td>\n",
       "      <td>-1.087300e+03</td>\n",
       "      <td>-7.500000e+00</td>\n",
       "      <td>-5.000000e-01</td>\n",
       "      <td>-1.400000e+02</td>\n",
       "      <td>-8.000000e+01</td>\n",
       "      <td>-1.000000e+00</td>\n",
       "      <td>-1.094050e+03</td>\n",
       "      <td>-2.500000e+00</td>\n",
       "      <td>-1.750000e+00</td>\n",
       "    </tr>\n",
       "    <tr>\n",
       "      <th>25%</th>\n",
       "      <td>2.000000e+00</td>\n",
       "      <td>2023-12-19 21:42:44.250000</td>\n",
       "      <td>2023-12-19 21:56:46</td>\n",
       "      <td>1.000000e+00</td>\n",
       "      <td>1.000000e+00</td>\n",
       "      <td>1.000000e+00</td>\n",
       "      <td>1.320000e+02</td>\n",
       "      <td>1.140000e+02</td>\n",
       "      <td>1.000000e+00</td>\n",
       "      <td>8.600000e+00</td>\n",
       "      <td>0.000000e+00</td>\n",
       "      <td>5.000000e-01</td>\n",
       "      <td>1.000000e+00</td>\n",
       "      <td>0.000000e+00</td>\n",
       "      <td>1.000000e+00</td>\n",
       "      <td>1.548000e+01</td>\n",
       "      <td>2.500000e+00</td>\n",
       "      <td>0.000000e+00</td>\n",
       "    </tr>\n",
       "    <tr>\n",
       "      <th>50%</th>\n",
       "      <td>2.000000e+00</td>\n",
       "      <td>2024-01-14 23:01:15.500000</td>\n",
       "      <td>2024-01-14 23:14:53.500000</td>\n",
       "      <td>1.000000e+00</td>\n",
       "      <td>1.680000e+00</td>\n",
       "      <td>1.000000e+00</td>\n",
       "      <td>1.620000e+02</td>\n",
       "      <td>1.620000e+02</td>\n",
       "      <td>1.000000e+00</td>\n",
       "      <td>1.280000e+01</td>\n",
       "      <td>1.000000e+00</td>\n",
       "      <td>5.000000e-01</td>\n",
       "      <td>2.800000e+00</td>\n",
       "      <td>0.000000e+00</td>\n",
       "      <td>1.000000e+00</td>\n",
       "      <td>2.050000e+01</td>\n",
       "      <td>2.500000e+00</td>\n",
       "      <td>0.000000e+00</td>\n",
       "    </tr>\n",
       "    <tr>\n",
       "      <th>75%</th>\n",
       "      <td>2.000000e+00</td>\n",
       "      <td>2024-02-07 12:28:45</td>\n",
       "      <td>2024-02-07 12:47:42.750000</td>\n",
       "      <td>1.000000e+00</td>\n",
       "      <td>3.110000e+00</td>\n",
       "      <td>1.000000e+00</td>\n",
       "      <td>2.340000e+02</td>\n",
       "      <td>2.340000e+02</td>\n",
       "      <td>1.000000e+00</td>\n",
       "      <td>2.120000e+01</td>\n",
       "      <td>2.500000e+00</td>\n",
       "      <td>5.000000e-01</td>\n",
       "      <td>4.340000e+00</td>\n",
       "      <td>0.000000e+00</td>\n",
       "      <td>1.000000e+00</td>\n",
       "      <td>2.970000e+01</td>\n",
       "      <td>2.500000e+00</td>\n",
       "      <td>0.000000e+00</td>\n",
       "    </tr>\n",
       "    <tr>\n",
       "      <th>max</th>\n",
       "      <td>2.000000e+00</td>\n",
       "      <td>2024-03-01 00:01:37</td>\n",
       "      <td>2024-03-01 23:24:42</td>\n",
       "      <td>9.000000e+00</td>\n",
       "      <td>1.617261e+05</td>\n",
       "      <td>9.900000e+01</td>\n",
       "      <td>2.650000e+02</td>\n",
       "      <td>2.650000e+02</td>\n",
       "      <td>4.000000e+00</td>\n",
       "      <td>5.000000e+03</td>\n",
       "      <td>5.168000e+01</td>\n",
       "      <td>5.750000e+00</td>\n",
       "      <td>4.174000e+03</td>\n",
       "      <td>1.613800e+02</td>\n",
       "      <td>1.000000e+00</td>\n",
       "      <td>5.000000e+03</td>\n",
       "      <td>2.500000e+00</td>\n",
       "      <td>1.750000e+00</td>\n",
       "    </tr>\n",
       "    <tr>\n",
       "      <th>std</th>\n",
       "      <td>4.288594e-01</td>\n",
       "      <td>NaN</td>\n",
       "      <td>NaN</td>\n",
       "      <td>8.679405e-01</td>\n",
       "      <td>8.485820e+01</td>\n",
       "      <td>9.396248e+00</td>\n",
       "      <td>6.350249e+01</td>\n",
       "      <td>6.932214e+01</td>\n",
       "      <td>5.353514e-01</td>\n",
       "      <td>1.884785e+01</td>\n",
       "      <td>1.820353e+00</td>\n",
       "      <td>1.207479e-01</td>\n",
       "      <td>4.231450e+00</td>\n",
       "      <td>2.168942e+00</td>\n",
       "      <td>2.236907e-01</td>\n",
       "      <td>2.356329e+01</td>\n",
       "      <td>8.145729e-01</td>\n",
       "      <td>4.789160e-01</td>\n",
       "    </tr>\n",
       "  </tbody>\n",
       "</table>\n",
       "</div>"
      ]
     },
     "execution_count": 10,
     "metadata": {},
     "output_type": "execute_result"
    }
   ],
   "execution_count": 10
  },
  {
   "cell_type": "markdown",
   "metadata": {},
   "source": [
    "Se han identificado 10 registros con fechas de inicio de viaje (`tpep_pickup_datetime`) que están fuera del rango de tiempo establecido. Por lo tanto, se eliminarán estos datos por encontrarse fuera del periodo temporal definido para el análisis."
   ]
  },
  {
   "cell_type": "code",
   "metadata": {
    "ExecuteTime": {
     "end_time": "2024-05-17T00:57:26.128255Z",
     "start_time": "2024-05-17T00:57:25.504290Z"
    }
   },
   "source": [
    "yellow_taxi[yellow_taxi['tpep_pickup_datetime'].dt.year < 2023]"
   ],
   "outputs": [
    {
     "data": {
      "text/plain": [
       "         VendorID tpep_pickup_datetime tpep_dropoff_datetime  passenger_count  \\\n",
       "1128759         2  2002-12-31 22:16:54   2003-01-01 15:02:08              1.0   \n",
       "2531205         2  2002-12-31 23:03:18   2003-01-01 21:09:44              1.0   \n",
       "2601397         2  2009-01-01 00:02:41   2009-01-01 17:43:28              1.0   \n",
       "3387482         2  2009-01-01 23:58:40   2009-01-02 00:01:40              1.0   \n",
       "3429686         2  2002-12-31 22:59:39   2002-12-31 23:05:41              1.0   \n",
       "3429687         2  2002-12-31 22:59:39   2002-12-31 23:05:41              1.0   \n",
       "4606736         2  2009-01-01 23:30:39   2009-01-02 00:01:39              1.0   \n",
       "5934623         2  2009-01-01 00:24:09   2009-01-01 01:13:00              2.0   \n",
       "6522474         2  2008-12-31 22:52:49   2008-12-31 23:04:09              1.0   \n",
       "7240044         2  2009-01-01 00:02:13   2009-01-01 00:48:28              1.0   \n",
       "\n",
       "         trip_distance  RatecodeID store_and_fwd_flag  PULocationID  \\\n",
       "1128759           3.25         1.0                  N           132   \n",
       "2531205          28.19         2.0                  N           132   \n",
       "2601397           1.37         1.0                  N           230   \n",
       "3387482           0.46         1.0                  N           137   \n",
       "3429686           0.63         1.0                  N           170   \n",
       "3429687           0.63         1.0                  N           170   \n",
       "4606736          10.99         1.0                  N           237   \n",
       "5934623          10.88         1.0                  N           138   \n",
       "6522474           1.62         1.0                  N           141   \n",
       "7240044           0.57         1.0                  N            79   \n",
       "\n",
       "         DOLocationID  payment_type  fare_amount  extra  mta_tax  tip_amount  \\\n",
       "1128759            10             1         14.9   1.75      0.5        3.63   \n",
       "2531205            13             1         70.0   0.00      0.5       16.54   \n",
       "2601397           142             1         10.7   0.00      0.5        1.47   \n",
       "3387482           264             2          4.4   3.50      0.5        0.00   \n",
       "3429686           170             3         -6.5   0.00     -0.5        0.00   \n",
       "3429687           170             3          6.5   0.00      0.5        0.00   \n",
       "4606736           264             2         45.0   3.50      0.5        0.00   \n",
       "5934623           264             2         50.6   9.25      0.5        0.00   \n",
       "6522474           211             1         11.4   2.50      0.5        2.00   \n",
       "7240044           148             1          9.3   1.00      0.5        2.86   \n",
       "\n",
       "         tolls_amount  improvement_surcharge  total_amount  \\\n",
       "1128759          0.00                    1.0         21.78   \n",
       "2531205          6.94                    1.0         99.23   \n",
       "2601397          0.00                    1.0         16.17   \n",
       "3387482          0.00                    1.0          9.40   \n",
       "3429686          0.00                   -1.0        -10.50   \n",
       "3429687          0.00                    1.0         10.50   \n",
       "4606736          0.00                    1.0         50.00   \n",
       "5934623          6.94                    1.0         68.29   \n",
       "6522474          0.00                    1.0         19.90   \n",
       "7240044          0.00                    1.0         17.16   \n",
       "\n",
       "         congestion_surcharge  Airport_fee  \n",
       "1128759                   0.0         0.00  \n",
       "2531205                   2.5         1.75  \n",
       "2601397                   2.5         0.00  \n",
       "3387482                   0.0         0.00  \n",
       "3429686                  -2.5         0.00  \n",
       "3429687                   2.5         0.00  \n",
       "4606736                   0.0         0.00  \n",
       "5934623                   0.0         0.00  \n",
       "6522474                   2.5         0.00  \n",
       "7240044                   2.5         0.00  "
      ],
      "text/html": [
       "<div>\n",
       "<style scoped>\n",
       "    .dataframe tbody tr th:only-of-type {\n",
       "        vertical-align: middle;\n",
       "    }\n",
       "\n",
       "    .dataframe tbody tr th {\n",
       "        vertical-align: top;\n",
       "    }\n",
       "\n",
       "    .dataframe thead th {\n",
       "        text-align: right;\n",
       "    }\n",
       "</style>\n",
       "<table border=\"1\" class=\"dataframe\">\n",
       "  <thead>\n",
       "    <tr style=\"text-align: right;\">\n",
       "      <th></th>\n",
       "      <th>VendorID</th>\n",
       "      <th>tpep_pickup_datetime</th>\n",
       "      <th>tpep_dropoff_datetime</th>\n",
       "      <th>passenger_count</th>\n",
       "      <th>trip_distance</th>\n",
       "      <th>RatecodeID</th>\n",
       "      <th>store_and_fwd_flag</th>\n",
       "      <th>PULocationID</th>\n",
       "      <th>DOLocationID</th>\n",
       "      <th>payment_type</th>\n",
       "      <th>fare_amount</th>\n",
       "      <th>extra</th>\n",
       "      <th>mta_tax</th>\n",
       "      <th>tip_amount</th>\n",
       "      <th>tolls_amount</th>\n",
       "      <th>improvement_surcharge</th>\n",
       "      <th>total_amount</th>\n",
       "      <th>congestion_surcharge</th>\n",
       "      <th>Airport_fee</th>\n",
       "    </tr>\n",
       "  </thead>\n",
       "  <tbody>\n",
       "    <tr>\n",
       "      <th>1128759</th>\n",
       "      <td>2</td>\n",
       "      <td>2002-12-31 22:16:54</td>\n",
       "      <td>2003-01-01 15:02:08</td>\n",
       "      <td>1.0</td>\n",
       "      <td>3.25</td>\n",
       "      <td>1.0</td>\n",
       "      <td>N</td>\n",
       "      <td>132</td>\n",
       "      <td>10</td>\n",
       "      <td>1</td>\n",
       "      <td>14.9</td>\n",
       "      <td>1.75</td>\n",
       "      <td>0.5</td>\n",
       "      <td>3.63</td>\n",
       "      <td>0.00</td>\n",
       "      <td>1.0</td>\n",
       "      <td>21.78</td>\n",
       "      <td>0.0</td>\n",
       "      <td>0.00</td>\n",
       "    </tr>\n",
       "    <tr>\n",
       "      <th>2531205</th>\n",
       "      <td>2</td>\n",
       "      <td>2002-12-31 23:03:18</td>\n",
       "      <td>2003-01-01 21:09:44</td>\n",
       "      <td>1.0</td>\n",
       "      <td>28.19</td>\n",
       "      <td>2.0</td>\n",
       "      <td>N</td>\n",
       "      <td>132</td>\n",
       "      <td>13</td>\n",
       "      <td>1</td>\n",
       "      <td>70.0</td>\n",
       "      <td>0.00</td>\n",
       "      <td>0.5</td>\n",
       "      <td>16.54</td>\n",
       "      <td>6.94</td>\n",
       "      <td>1.0</td>\n",
       "      <td>99.23</td>\n",
       "      <td>2.5</td>\n",
       "      <td>1.75</td>\n",
       "    </tr>\n",
       "    <tr>\n",
       "      <th>2601397</th>\n",
       "      <td>2</td>\n",
       "      <td>2009-01-01 00:02:41</td>\n",
       "      <td>2009-01-01 17:43:28</td>\n",
       "      <td>1.0</td>\n",
       "      <td>1.37</td>\n",
       "      <td>1.0</td>\n",
       "      <td>N</td>\n",
       "      <td>230</td>\n",
       "      <td>142</td>\n",
       "      <td>1</td>\n",
       "      <td>10.7</td>\n",
       "      <td>0.00</td>\n",
       "      <td>0.5</td>\n",
       "      <td>1.47</td>\n",
       "      <td>0.00</td>\n",
       "      <td>1.0</td>\n",
       "      <td>16.17</td>\n",
       "      <td>2.5</td>\n",
       "      <td>0.00</td>\n",
       "    </tr>\n",
       "    <tr>\n",
       "      <th>3387482</th>\n",
       "      <td>2</td>\n",
       "      <td>2009-01-01 23:58:40</td>\n",
       "      <td>2009-01-02 00:01:40</td>\n",
       "      <td>1.0</td>\n",
       "      <td>0.46</td>\n",
       "      <td>1.0</td>\n",
       "      <td>N</td>\n",
       "      <td>137</td>\n",
       "      <td>264</td>\n",
       "      <td>2</td>\n",
       "      <td>4.4</td>\n",
       "      <td>3.50</td>\n",
       "      <td>0.5</td>\n",
       "      <td>0.00</td>\n",
       "      <td>0.00</td>\n",
       "      <td>1.0</td>\n",
       "      <td>9.40</td>\n",
       "      <td>0.0</td>\n",
       "      <td>0.00</td>\n",
       "    </tr>\n",
       "    <tr>\n",
       "      <th>3429686</th>\n",
       "      <td>2</td>\n",
       "      <td>2002-12-31 22:59:39</td>\n",
       "      <td>2002-12-31 23:05:41</td>\n",
       "      <td>1.0</td>\n",
       "      <td>0.63</td>\n",
       "      <td>1.0</td>\n",
       "      <td>N</td>\n",
       "      <td>170</td>\n",
       "      <td>170</td>\n",
       "      <td>3</td>\n",
       "      <td>-6.5</td>\n",
       "      <td>0.00</td>\n",
       "      <td>-0.5</td>\n",
       "      <td>0.00</td>\n",
       "      <td>0.00</td>\n",
       "      <td>-1.0</td>\n",
       "      <td>-10.50</td>\n",
       "      <td>-2.5</td>\n",
       "      <td>0.00</td>\n",
       "    </tr>\n",
       "    <tr>\n",
       "      <th>3429687</th>\n",
       "      <td>2</td>\n",
       "      <td>2002-12-31 22:59:39</td>\n",
       "      <td>2002-12-31 23:05:41</td>\n",
       "      <td>1.0</td>\n",
       "      <td>0.63</td>\n",
       "      <td>1.0</td>\n",
       "      <td>N</td>\n",
       "      <td>170</td>\n",
       "      <td>170</td>\n",
       "      <td>3</td>\n",
       "      <td>6.5</td>\n",
       "      <td>0.00</td>\n",
       "      <td>0.5</td>\n",
       "      <td>0.00</td>\n",
       "      <td>0.00</td>\n",
       "      <td>1.0</td>\n",
       "      <td>10.50</td>\n",
       "      <td>2.5</td>\n",
       "      <td>0.00</td>\n",
       "    </tr>\n",
       "    <tr>\n",
       "      <th>4606736</th>\n",
       "      <td>2</td>\n",
       "      <td>2009-01-01 23:30:39</td>\n",
       "      <td>2009-01-02 00:01:39</td>\n",
       "      <td>1.0</td>\n",
       "      <td>10.99</td>\n",
       "      <td>1.0</td>\n",
       "      <td>N</td>\n",
       "      <td>237</td>\n",
       "      <td>264</td>\n",
       "      <td>2</td>\n",
       "      <td>45.0</td>\n",
       "      <td>3.50</td>\n",
       "      <td>0.5</td>\n",
       "      <td>0.00</td>\n",
       "      <td>0.00</td>\n",
       "      <td>1.0</td>\n",
       "      <td>50.00</td>\n",
       "      <td>0.0</td>\n",
       "      <td>0.00</td>\n",
       "    </tr>\n",
       "    <tr>\n",
       "      <th>5934623</th>\n",
       "      <td>2</td>\n",
       "      <td>2009-01-01 00:24:09</td>\n",
       "      <td>2009-01-01 01:13:00</td>\n",
       "      <td>2.0</td>\n",
       "      <td>10.88</td>\n",
       "      <td>1.0</td>\n",
       "      <td>N</td>\n",
       "      <td>138</td>\n",
       "      <td>264</td>\n",
       "      <td>2</td>\n",
       "      <td>50.6</td>\n",
       "      <td>9.25</td>\n",
       "      <td>0.5</td>\n",
       "      <td>0.00</td>\n",
       "      <td>6.94</td>\n",
       "      <td>1.0</td>\n",
       "      <td>68.29</td>\n",
       "      <td>0.0</td>\n",
       "      <td>0.00</td>\n",
       "    </tr>\n",
       "    <tr>\n",
       "      <th>6522474</th>\n",
       "      <td>2</td>\n",
       "      <td>2008-12-31 22:52:49</td>\n",
       "      <td>2008-12-31 23:04:09</td>\n",
       "      <td>1.0</td>\n",
       "      <td>1.62</td>\n",
       "      <td>1.0</td>\n",
       "      <td>N</td>\n",
       "      <td>141</td>\n",
       "      <td>211</td>\n",
       "      <td>1</td>\n",
       "      <td>11.4</td>\n",
       "      <td>2.50</td>\n",
       "      <td>0.5</td>\n",
       "      <td>2.00</td>\n",
       "      <td>0.00</td>\n",
       "      <td>1.0</td>\n",
       "      <td>19.90</td>\n",
       "      <td>2.5</td>\n",
       "      <td>0.00</td>\n",
       "    </tr>\n",
       "    <tr>\n",
       "      <th>7240044</th>\n",
       "      <td>2</td>\n",
       "      <td>2009-01-01 00:02:13</td>\n",
       "      <td>2009-01-01 00:48:28</td>\n",
       "      <td>1.0</td>\n",
       "      <td>0.57</td>\n",
       "      <td>1.0</td>\n",
       "      <td>N</td>\n",
       "      <td>79</td>\n",
       "      <td>148</td>\n",
       "      <td>1</td>\n",
       "      <td>9.3</td>\n",
       "      <td>1.00</td>\n",
       "      <td>0.5</td>\n",
       "      <td>2.86</td>\n",
       "      <td>0.00</td>\n",
       "      <td>1.0</td>\n",
       "      <td>17.16</td>\n",
       "      <td>2.5</td>\n",
       "      <td>0.00</td>\n",
       "    </tr>\n",
       "  </tbody>\n",
       "</table>\n",
       "</div>"
      ]
     },
     "execution_count": 11,
     "metadata": {},
     "output_type": "execute_result"
    }
   ],
   "execution_count": 11
  },
  {
   "cell_type": "markdown",
   "metadata": {},
   "source": [
    "Eliminando registros fuera del rango temporal"
   ]
  },
  {
   "cell_type": "code",
   "metadata": {
    "ExecuteTime": {
     "end_time": "2024-05-17T00:57:28.020029Z",
     "start_time": "2024-05-17T00:57:26.130278Z"
    }
   },
   "source": [
    "yellow_taxi = yellow_taxi[yellow_taxi['tpep_pickup_datetime'].dt.year >= 2023]"
   ],
   "outputs": [],
   "execution_count": 12
  },
  {
   "cell_type": "markdown",
   "metadata": {},
   "source": [
    "El rango temporal es de 92 días (Aproximadamente 3 meses)"
   ]
  },
  {
   "cell_type": "code",
   "metadata": {
    "ExecuteTime": {
     "end_time": "2024-05-17T00:57:34.681032Z",
     "start_time": "2024-05-17T00:57:28.021038Z"
    }
   },
   "source": [
    "print(yellow_taxi['tpep_pickup_datetime'].dt.date.max() - yellow_taxi['tpep_pickup_datetime'].dt.date.min())"
   ],
   "outputs": [
    {
     "name": "stdout",
     "output_type": "stream",
     "text": [
      "92 days, 0:00:00\n"
     ]
    }
   ],
   "execution_count": 13
  },
  {
   "cell_type": "markdown",
   "metadata": {},
   "source": [
    "### Variables\n",
    "#### Variables cualitativas"
   ]
  },
  {
   "cell_type": "markdown",
   "metadata": {},
   "source": [
    "1. `VendorID`. Identificador del proveedor del Taxicab Technology Service Provider (TPEP), el cual puede presentar solo dos ID´s:\n",
    "- 1= Creative Mobile Technologies, LLC\n",
    "- 2= VeriFone Inc.\n",
    "\n",
    "2. `RateCodeID`. Identificador de tarifa vigente al finalizar el viaje. Puede tomar los siguientes valores:\n",
    "- 1=Tarifa estándar\n",
    "- 2=JFK\n",
    "- 3=Newark\n",
    "- 4=Nassau o Westchester\n",
    "- 5=Tarifa negociada\n",
    "- 6=Tarifa grupal\n",
    "\n",
    "3. `Store_and_fwd_flag`. Esta variable indica si el registro se almaceno en el vehiculo para posteriormente enviarse al servidor. Debido a conectividad. Puede tomar los Valores (Y= Almacenado y posterior envio, N= No almacenado, se envio al servidor)\n",
    "4. `PULocationID`. Zona dónde se inicio el Taximetro, las zonas se segmentan con valores enteros que van del 1 al 265, (consulte el DataFrame `zonas`)\n",
    "\n",
    "5. `DOLocationID`. Zona dónde se finalizo el Taximetro (Consulte DataFrame Zonas)\n",
    "\n",
    "6. `payment_type`. Tipo de pago, los valores pueden ser:\n",
    "- 1= Tarjeta de crédito\n",
    "- 2= Efectivo\n",
    "- 3= Sin cargo\n",
    "- 4= Disputa\n",
    "- 5= Desconocido\n",
    "- 6= Viaje anulado"
   ]
  },
  {
   "cell_type": "markdown",
   "metadata": {},
   "source": [
    "El proveedor de TPEP con mayor presencia (`VendorID`) es VeriFone Inc. ya que el 75% de los registros provienen de ellos"
   ]
  },
  {
   "cell_type": "code",
   "metadata": {
    "ExecuteTime": {
     "end_time": "2024-05-17T00:57:35.089012Z",
     "start_time": "2024-05-17T00:57:34.724476Z"
    }
   },
   "source": [
    "# Datos\n",
    "vendor = {1:'Creative Mobile Technologies, LLC', 2:'VeriFone Inc.'}\n",
    "vendor_counts = list(yellow_taxi['VendorID'].value_counts())\n",
    "labels = ['VeriFone Inc.', 'Creative Mobile Technologies, LLC']\n",
    "colors = ['#FF9999', '#66B3FF']\n",
    "\n",
    "# Crear la gráfica circular\n",
    "plt.figure(figsize=(8, 6))\n",
    "plt.pie(vendor_counts, labels=labels, colors=colors, autopct='%1.1f%%', startangle=90)\n",
    "plt.title('Proporción de Proveedor TPEP')\n",
    "plt.axis('equal')  # Aspecto igual para que sea un círculo\n",
    "\n",
    "# Mostrar la gráfica\n",
    "plt.show()\n"
   ],
   "outputs": [
    {
     "data": {
      "text/plain": [
       "<Figure size 800x600 with 1 Axes>"
      ],
      "image/png": "[encoded data removed]"
     },
     "metadata": {},
     "output_type": "display_data"
    }
   ],
   "execution_count": 14
  },
  {
   "cell_type": "markdown",
   "metadata": {},
   "source": [
    "La tarifa identificada con el número `99`, que no figura en la documentación oficial, resalta por ser la **tercera más frecuente** en el uso durante los últimos tres meses. Es esencial prestar atención a esta tarifa debido a su inesperada alta incidencia."
   ]
  },
  {
   "cell_type": "code",
   "metadata": {
    "ExecuteTime": {
     "end_time": "2024-05-17T00:57:35.251373Z",
     "start_time": "2024-05-17T00:57:35.091984Z"
    }
   },
   "source": [
    "yellow_taxi['RatecodeID'].value_counts()"
   ],
   "outputs": [
    {
     "data": {
      "text/plain": [
       "RatecodeID\n",
       "1.0     8345859\n",
       "2.0      307115\n",
       "99.0      82021\n",
       "5.0       61686\n",
       "3.0       27015\n",
       "4.0       19222\n",
       "6.0          14\n",
       "Name: count, dtype: int64"
      ]
     },
     "execution_count": 15,
     "metadata": {},
     "output_type": "execute_result"
    }
   ],
   "execution_count": 15
  },
  {
   "cell_type": "code",
   "metadata": {
    "ExecuteTime": {
     "end_time": "2024-05-17T00:57:36.588096Z",
     "start_time": "2024-05-17T00:57:35.252385Z"
    }
   },
   "source": [
    "ratecode_counts = yellow_taxi['RatecodeID'].value_counts()\n",
    "RCID = {1:'Tarifa Estándar',2:'JFK',3:'Newark',4:'Nassau o Westchester',5:'Tarifa Negociada',6:'Tarifa Grupal',99:'Tarifa No documentada'}\n",
    "# Ahora, crearemos una lista de etiquetas basadas en el diccionario RCID para las barras del histograma.\n",
    "labels = [RCID[id] if id in RCID else 'Other' for id in ratecode_counts.index]\n",
    "\n",
    "# Crear el histograma con escala logarítmica en el eje y\n",
    "plt.figure(figsize=(10, 6))\n",
    "plt.bar(labels, ratecode_counts.values, color='skyblue')\n",
    "plt.yscale('log')  # Escala logarítmica en el eje y\n",
    "\n",
    "# Añadir título y etiquetas\n",
    "plt.title('Distribución de Tarifas al finalizar el viaje (escala logarítmica)')\n",
    "plt.xlabel('Tarifa')\n",
    "plt.ylabel('Frecuencia (log scale)')\n",
    "plt.xticks(rotation = 90)\n",
    "\n",
    "# Mostrar las etiquetas en las barras\n",
    "for i, value in enumerate(ratecode_counts.values):\n",
    "    plt.text(i, value, str(value), ha='center', va='bottom')\n",
    "\n",
    "# Mostrar el histograma\n",
    "plt.show()\n"
   ],
   "outputs": [
    {
     "data": {
      "text/plain": [
       "<Figure size 1000x600 with 1 Axes>"
      ],
      "image/png": "[encoded data removed]"
     },
     "metadata": {},
     "output_type": "display_data"
    }
   ],
   "execution_count": 16
  },
  {
   "cell_type": "markdown",
   "metadata": {},
   "source": [
    "La información indica que la gran mayoría de los datos de los viajes en taxi se transmiten justo al finalizar el trayecto, lo cual sugiere que hay una capacidad para realizar un seguimiento en tiempo real. Sin embargo, un pequeño porcentaje, específicamente el **0.4%**, se guarda para enviar más tarde, lo que podría implicar ligeras demoras en la recepción de esos datos. Este patrón de envío de datos refuerza la viabilidad de implementar un sistema de monitoreo en tiempo real para la mayoría de los servicios de taxi."
   ]
  },
  {
   "cell_type": "code",
   "metadata": {
    "ExecuteTime": {
     "end_time": "2024-05-17T00:57:38.368396Z",
     "start_time": "2024-05-17T00:57:36.592111Z"
    }
   },
   "source": [
    "porcentaje = list(yellow_taxi['store_and_fwd_flag'].value_counts())[1]/(list(yellow_taxi['store_and_fwd_flag'].value_counts())[0]+list(yellow_taxi['store_and_fwd_flag'].value_counts())[1])\n",
    "print(f\"La proporcion de registros almacenados y enviados posteriormente es del {round(porcentaje*100,2)}%\")"
   ],
   "outputs": [
    {
     "name": "stdout",
     "output_type": "stream",
     "text": [
      "La proporcion de registros almacenados y enviados posteriormente es del 0.4%\n"
     ]
    }
   ],
   "execution_count": 17
  },
  {
   "cell_type": "markdown",
   "metadata": {},
   "source": [
    "Es interesante observar que la mayoría de los viajes en taxi comienzan en **Manhattan**, **Queens** y **Brooklyn**, lo que no es sorprendente dado que son áreas muy transitadas en la ciudad de Nueva York. Sin embargo, también es relevante notar que existe un volumen significativo de viajes en los que **se desconoce el origen** del viaje. Esto podría deberse a diversas razones, como errores en la recopilación de datos o la falta de información precisa en algunos registros."
   ]
  },
  {
   "cell_type": "code",
   "metadata": {
    "ExecuteTime": {
     "end_time": "2024-05-17T00:57:38.542742Z",
     "start_time": "2024-05-17T00:57:38.371412Z"
    }
   },
   "source": [
    "# Creando DF que relaciona Zona, Borough, Zona de Servicio y el número de servicios.\n",
    "ZI = {'LocationID':list(yellow_taxi['PULocationID'].value_counts().index),\n",
    "      'Número de servicios':list(yellow_taxi['PULocationID'].value_counts())}\n",
    "ZonaInicio = pd.DataFrame(ZI)\n",
    "# ZonaInicio.merge(zonas, by)\n",
    "# zonas['LocationID']\n",
    "ZonaInicio = pd.merge(ZonaInicio,zonas,on='LocationID', how='inner')"
   ],
   "outputs": [],
   "execution_count": 18
  },
  {
   "cell_type": "code",
   "metadata": {
    "ExecuteTime": {
     "end_time": "2024-05-17T00:57:39.124881Z",
     "start_time": "2024-05-17T00:57:38.546342Z"
    }
   },
   "source": [
    "borough_services = ZonaInicio.groupby('Borough')['Número de servicios'].sum().reset_index()\n",
    "\n",
    "# Ordenar los datos para una mejor visualización\n",
    "borough_services_sorted = borough_services.sort_values('Número de servicios', ascending=False)\n",
    "\n",
    "# Crear el histograma con escala logarítmica en el eje y\n",
    "plt.figure(figsize=(10, 6))\n",
    "plt.bar(borough_services_sorted['Borough'], borough_services_sorted['Número de servicios'], color='skyblue')\n",
    "plt.yscale('log')  # Escala logarítmica en el eje y\n",
    "\n",
    "# Mostrar las etiquetas en las barras\n",
    "for i, value in enumerate(borough_services_sorted['Número de servicios'].values):\n",
    "    plt.text(i, value, str(value), ha='center', va='bottom')\n",
    "\n",
    "# Añadir título y etiquetas\n",
    "plt.title('Número de servicios por Borough (escala logarítmica)')\n",
    "plt.xlabel('Borough')\n",
    "plt.ylabel('Número de servicios')\n",
    "\n",
    "# Girar las etiquetas del eje x para mejor visualización\n",
    "plt.xticks(rotation=45)\n",
    "\n",
    "# Mostrar el histograma\n",
    "plt.show()\n"
   ],
   "outputs": [
    {
     "data": {
      "text/plain": [
       "<Figure size 1000x600 with 1 Axes>"
      ],
      "image/png": "[encoded data removed]"
     },
     "metadata": {},
     "output_type": "display_data"
    }
   ],
   "execution_count": 19
  },
  {
   "cell_type": "markdown",
   "metadata": {},
   "source": [
    "Es notable que los **Yellow Taxis** inician la mayoría de sus servicios en la **Yellow Zone**, con aproximadamente **7.7 millones de viajes**, lo que indica una alta concentración de actividad en esta área. Por otro lado, los viajes que comienzan en los **aeropuertos** representan alrededor de **700,000**, y en la **Boro Zone**, solo aproximadamente **325,000**. Esto muestra una distribución desigual de los servicios de taxi, con una clara preferencia por la Yellow Zone, probablemente debido a la alta demanda y la facilidad de acceso a pasajeros en esa área. La menor cantidad de servicios que se originan en los aeropuertos y en la Boro Zone podría reflejar una menor demanda y la presencia de otras opciones de transporte en esas zonas."
   ]
  },
  {
   "cell_type": "code",
   "metadata": {
    "ExecuteTime": {
     "end_time": "2024-05-17T00:57:39.602646Z",
     "start_time": "2024-05-17T00:57:39.125888Z"
    }
   },
   "source": [
    "Zona_servicio = ZonaInicio.groupby('service_zone')['Número de servicios'].sum().reset_index()\n",
    "\n",
    "# Ordenar los datos para una mejor visualización\n",
    "Zona_servicio_sorted = Zona_servicio.sort_values('Número de servicios', ascending=False)\n",
    "\n",
    "# Crear el histograma con escala logarítmica en el eje y\n",
    "plt.figure(figsize=(10, 6))\n",
    "plt.bar(Zona_servicio_sorted['service_zone'], Zona_servicio_sorted['Número de servicios'], color='skyblue')\n",
    "plt.yscale('log')  # Escala logarítmica en el eje y\n",
    "\n",
    "# Mostrar las etiquetas en las barras\n",
    "for i, value in enumerate(Zona_servicio_sorted['Número de servicios'].values):\n",
    "    plt.text(i, value, str(value), ha='center', va='bottom')\n",
    "\n",
    "# Añadir título y etiquetas\n",
    "plt.title('Distribución de servicios por Zona (escala logarítmica)')\n",
    "plt.xlabel('Zona')\n",
    "plt.ylabel('Número de servicios')\n",
    "\n",
    "# Girar las etiquetas del eje x para mejor visualización\n",
    "plt.xticks(rotation=45)\n",
    "\n",
    "# Mostrar el histograma\n",
    "plt.show()\n"
   ],
   "outputs": [
    {
     "data": {
      "text/plain": [
       "<Figure size 1000x600 with 1 Axes>"
      ],
      "image/png": "[encoded data removed]"
     },
     "metadata": {},
     "output_type": "display_data"
    }
   ],
   "execution_count": 20
  },
  {
   "cell_type": "markdown",
   "metadata": {},
   "source": [
    "La siguiente imagen muestra las 10 zonas con más viajes "
   ]
  },
  {
   "cell_type": "code",
   "metadata": {
    "ExecuteTime": {
     "end_time": "2024-05-17T00:57:39.822105Z",
     "start_time": "2024-05-17T00:57:39.606213Z"
    }
   },
   "source": [
    "# Cantidad de zonas a mostrar en el gráfico\n",
    "n = 10\n",
    "zona_sorted = ZonaInicio[['Zone', 'Número de servicios']].sort_values(by='Número de servicios', ascending=False).head(n)\n",
    "\n",
    "# Crear el histograma\n",
    "plt.figure(figsize=(10, 6))\n",
    "plt.bar(zona_sorted['Zone'].astype(str), zona_sorted['Número de servicios'], color='skyblue')  # Convertir a str\n",
    "\n",
    "# Añadir título y etiquetas\n",
    "plt.title(f'{n} zonas con mayor número de servicios')\n",
    "plt.xlabel('Zona')\n",
    "plt.ylabel('Número de servicios')\n",
    "\n",
    "# Girar las etiquetas del eje x para mejor visualización\n",
    "plt.xticks(rotation=90)\n",
    "\n",
    "# Mostrar el histograma\n",
    "plt.show()\n"
   ],
   "outputs": [
    {
     "data": {
      "text/plain": [
       "<Figure size 1000x600 with 1 Axes>"
      ],
      "image/png": "[encoded data removed]"
     },
     "metadata": {},
     "output_type": "display_data"
    }
   ],
   "execution_count": 21
  },
  {
   "cell_type": "markdown",
   "metadata": {},
   "source": [
    "Para identificar las rutas más transitadas, se crea la variable `trip_outside_zone`. Esta variable es **TRUE** cuando el destino del viaje es distinto a su punto de partida."
   ]
  },
  {
   "cell_type": "code",
   "metadata": {
    "ExecuteTime": {
     "end_time": "2024-05-17T00:57:39.852546Z",
     "start_time": "2024-05-17T00:57:39.824124Z"
    }
   },
   "source": [
    "yellow_taxi['trip_outside_zone'] = yellow_taxi['PULocationID'] != yellow_taxi['DOLocationID']"
   ],
   "outputs": [],
   "execution_count": 22
  },
  {
   "cell_type": "markdown",
   "metadata": {},
   "source": [
    "Creando variable `route` la cual define la zona del punto de partida y destino de cada viaje"
   ]
  },
  {
   "cell_type": "code",
   "metadata": {
    "jupyter": {
     "is_executing": true
    },
    "ExecuteTime": {
     "start_time": "2024-05-17T00:57:39.854067Z"
    }
   },
   "source": [
    "# Esta celda demora bastante en ejecutare :( Si es localmente :`(, ya que filtra n veces el DF zonas y devuelve la zona al aplicarse el apply \n",
    "# en el df yellow taxi.\n",
    "def idzone2zone(id:int):\n",
    "    try:\n",
    "        filtro = zonas[zonas['LocationID'] == id].reset_index()\n",
    "        return filtro['Zone'].loc[0]\n",
    "    except:\n",
    "        return np.nan\n",
    "\n",
    "yellow_taxi['route'] = yellow_taxi['PULocationID'].apply(idzone2zone) +' -- '+ yellow_taxi['DOLocationID'].apply(idzone2zone)"
   ],
   "outputs": [],
   "execution_count": null
  },
  {
   "cell_type": "code",
   "metadata": {
    "jupyter": {
     "is_executing": true
    }
   },
   "source": [
    "yellow_taxi.sample()"
   ],
   "outputs": [],
   "execution_count": null
  },
  {
   "cell_type": "markdown",
   "metadata": {},
   "source": [
    "El gráfico titulado \"20 rutas más solicitadas en NYC\" muestra las rutas de taxis amarillos en Nueva York que tienen la mayor demanda.\n",
    "\n",
    "- **Ruta Superior**: La ruta más popular es de **Upper East Side South a Upper East Side North**, lo que indica una alta demanda de viajes dentro de esta área.\n",
    "- **Rutas Comunes**: Varias rutas conectan **Upper East Side** con **Midtown** y **Lincoln Square**, lo que refleja patrones comunes de desplazamiento.\n",
    "- **Demanda de Servicios**: Las barras representan el número de servicios, con la ruta más solicitada alcanzando hasta **40,000** servicios.\n",
    "- **Planificación Urbana**: Este análisis de datos es útil para la **planificación del tráfico** y la **gestión urbana**, ayudando a entender los patrones de movilidad y optimizar los servicios de transporte."
   ]
  },
  {
   "cell_type": "code",
   "metadata": {
    "jupyter": {
     "is_executing": true
    }
   },
   "source": [
    "# Cantidad de rutas a mostrar en el gráfico\n",
    "n = 20\n",
    "rutas = yellow_taxi.groupby('route')['route'].count().sort_values(ascending=False).head(n)\n",
    "\n",
    "# Crear el histograma\n",
    "plt.figure(figsize=(10, 6))\n",
    "plt.bar(list(rutas.index), list(rutas), color='skyblue')\n",
    "\n",
    "# Añadir título y etiquetas\n",
    "plt.title(f'{n} rutas más solicitadas en NYC')\n",
    "plt.xlabel('Ruta')\n",
    "plt.ylabel('Número de servicios')\n",
    "\n",
    "# Girar las etiquetas del eje x para mejor visualización\n",
    "plt.xticks(rotation=90)\n",
    "\n",
    "# Mostrar el histograma\n",
    "plt.show()"
   ],
   "outputs": [],
   "execution_count": null
  },
  {
   "cell_type": "markdown",
   "metadata": {},
   "source": [
    "El gráfico titulado \"Métodos de Pago en Yellow Taxis\" muestra las preferencias de pago de los clientes que utilizan taxis:\n",
    "\n",
    "- **Predominio de Tarjetas**: La **tarjeta de crédito** es el método de pago más utilizado, con una frecuencia de **7.2 millones**.\n",
    "- **Efectivo Sigue Vigente**: El pago en **efectivo** es el segundo más común, alrededor de los **1.4 millones** transacciones.\n",
    "- **Menos Disputas y Sin Cargo**: Las categorías de **disputa** y **sin cargo** tienen frecuencias mucho menores, con **~150 mil** y **60 mil** respectivamente.\n",
    "- **Tendencias de Pago**: Este gráfico muestra una tendencia de pago con tarjeta de crédito."
   ]
  },
  {
   "cell_type": "code",
   "metadata": {
    "jupyter": {
     "is_executing": true
    }
   },
   "source": [
    "payment_counts = yellow_taxi['payment_type'].value_counts()\n",
    "payment_method = {1:'Tarjeta de crédito',2:'Efectivo',3:'Sin cargo',4:'Disputa',5:'Desconocido',6:'Viaje anulado'}\n",
    "\n",
    "# Crear una lista de nombres de métodos de pago basada en el diccionario 'payment_method'\n",
    "payment_names = [payment_method[payment_id] if payment_id in payment_method else 'Desconocido'\n",
    "                 for payment_id in payment_counts.index]\n",
    "\n",
    "# Crear el gráfico de barras\n",
    "plt.figure(figsize=(10, 6))\n",
    "plt.bar(payment_names, payment_counts.values, color='skyblue')\n",
    "\n",
    "# Mostrar las etiquetas en las barras\n",
    "for i, value in enumerate(payment_counts.values):\n",
    "    plt.text(i, value, str(value), ha='center', va='bottom')\n",
    "\n",
    "# Añadir título y etiquetas a los ejes\n",
    "plt.title('Métodos de Pago en Yellow Taxis')\n",
    "plt.xlabel('Método de Pago')\n",
    "plt.ylabel('Frecuencia')\n",
    "\n",
    "# Mostrar el gráfico\n",
    "plt.show()\n"
   ],
   "outputs": [],
   "execution_count": null
  },
  {
   "cell_type": "markdown",
   "metadata": {},
   "source": [
    "#### Variables cualitativas\n",
    "\n",
    "1. `tpep_pickup_datetime`. Fecha y hora en la que se activo el taximetro\n",
    "2. `tpep_dropoff_datetime`. Fecha y hora en la que se termino el servico\n",
    "3. `passenger_count`. Número de pasajeros. (Valor ingresado por el controlador). Variable discreta que van desde 1 a 9 pasajeros\n",
    "4. `trip_distance`. Distancia registrada por el taxímetro. Variable continua medida en millas\n",
    "5. `fare_amount`. Tarifa de tiempo y distancia calculada por el taxímetro\n",
    "6. `extra`. Extras y recargos, se incluyen unicamente cargos por horas pico y noche de $0.50 y $1 respectivamente\n",
    "7. `mta_tax`. Impuesto MTA de $0.50 que se activa automáticamente en función de la tarifa medida en uso.\n",
    "8. `tip_amount`. Propina, unicamente se incluyen cuando el método de pago es con tarjeta de crédito. Propinas en efectivo no incluidas\n",
    "9. `tolls_amount`. Importe total de todos los peajes pagados en viaje.\n",
    "10. `improvement_surcharge`. Cargo por mejora de $0.30\n",
    "11. `total_amount`. Importe total cobrado. No se incluyen propinas en efectivo.\n",
    "12. `congestion_surcharge`. Recargo total por congestión del Estado de Nueva York.\n",
    "13. `Airport_fee`. $1.25 para recoger solo en los aeropuertos LaGuardia y John F. Kennedy"
   ]
  },
  {
   "cell_type": "markdown",
   "metadata": {},
   "source": [
    "El gráfico muestra la distribución de servicios de Yellow Taxi en los meses de diciembre de 2023, enero de 2024 y febrero de 2024.  \n",
    "\n",
    "- **Diciembre 2023**: Este mes presenta diferencia de aproximadamente **400k** servicios con respecto a los meses de enero y febrero.\n",
    "- **Enero 2024**: Se observa un decremento significativo, aproximadamente de **400k** servicios.\n",
    "- **Febrero 2024**: La cantidad de servicios disminuye nuevamente a **2557** servicios, lo cual podria deberse a que este mes tiene una menor cantidad de días.\n",
    "\n",
    "Este patrón sugiere que hubo un pico en la demanda de servicios de taxi durante diciembre de 2023, lo que podría estar relacionado con factores estacionales o eventos específicos durante ese mes. La disminución en Enero y febrero podría indicar una normalización de la demanda."
   ]
  },
  {
   "cell_type": "code",
   "metadata": {
    "jupyter": {
     "is_executing": true
    }
   },
   "source": [
    "# Convertir la columna 'tpep_pickup_datetime' a tipo datetime\n",
    "yellow_taxi['tpep_pickup_datetime'] = pd.to_datetime(yellow_taxi['tpep_pickup_datetime'])\n",
    "\n",
    "# Extraer el mes y el año de la fecha de recogida\n",
    "yellow_taxi['pickup_month'] = yellow_taxi['tpep_pickup_datetime'].dt.strftime('%Y-%m')\n",
    "\n",
    "# Contar la cantidad de recogidas por cada mes y año\n",
    "monthly_pickups = yellow_taxi['pickup_month'].value_counts().sort_index()\n",
    "\n",
    "# Crear el histograma\n",
    "plt.figure(figsize=(15, 6))\n",
    "plt.bar(monthly_pickups.index, monthly_pickups.values, color='skyblue', edgecolor='black')\n",
    "\n",
    "# Añadir título y etiquetas a los ejes\n",
    "plt.title('Distribución de servicios de Yellow Taxi por Mes')\n",
    "plt.xlabel('Mes y Año')\n",
    "plt.ylabel('Número de Viajes')\n",
    "plt.xticks(rotation=45) # Rotar las etiquetas para mejor visualización\n",
    "# plt.yscale('log')  # Escala logarítmica en el eje y\n",
    "\n",
    "# Mostrar las etiquetas en las barras\n",
    "for i, value in enumerate(monthly_pickups.values):\n",
    "    plt.text(i, value, str(value), ha='center', va='bottom')\n",
    "\n",
    "# Mostrar el histograma\n",
    "plt.tight_layout() # Ajustar la disposición para evitar la superposición de etiquetas\n",
    "plt.show()\n"
   ],
   "outputs": [],
   "execution_count": null
  },
  {
   "cell_type": "markdown",
   "metadata": {},
   "source": [
    "Es importante mencionar que se localizaron inconsistencia con 45 registros que presentan viajes con una duración mayor o igual a 1 día. Lo cual podria deberse a una error del sistema o por algun error humano. Todos los registros son provenientes de  `VeriFone Inc`.\n",
    "\n",
    "De esos registros puede observarse que el de menor duración es de 1 día y el de mayor duración fue de 6 días."
   ]
  },
  {
   "cell_type": "code",
   "metadata": {
    "jupyter": {
     "is_executing": true
    }
   },
   "source": [
    "d = yellow_taxi[(yellow_taxi['tpep_dropoff_datetime'] - yellow_taxi['tpep_pickup_datetime']) >= pd.Timedelta(days=1)]\n",
    "d['duracion'] = d['tpep_dropoff_datetime'] - d['tpep_pickup_datetime']\n",
    "print(f\"Se indentifican {d['Airport_fee'].count()} registros que tienen una duración mayor o igual a 1 día. Todos ellos provenientes del proveedor {vendor[d['VendorID'].unique()[0]]}\")\n",
    "print(f\"De estos registros anomalos puede verse que el de menor duración es de {d['duracion'].min()} y el de mayor duración es de {d['duracion'].max()} \")"
   ],
   "outputs": [],
   "execution_count": null
  },
  {
   "cell_type": "markdown",
   "metadata": {},
   "source": [
    "El gráfico muestra la **distribución de pasajeros** en viajes de taxis amarillos. La mayoría de los viajes son de **un solo pasajero**, con una frecuencia de más de seis millones. Los viajes con **seis pasajeros** son los menos comunes. Esto indica que los viajes individuales son mucho más frecuentes que los grupales."
   ]
  },
  {
   "cell_type": "code",
   "metadata": {
    "jupyter": {
     "is_executing": true
    }
   },
   "source": [
    "# Crear el histograma\n",
    "plt.figure(figsize=(8, 6))\n",
    "plt.hist(yellow_taxi['passenger_count'], bins=range(1, 8), edgecolor='black', color='skyblue')\n",
    "\n",
    "# Añadir título y etiquetas a los ejes\n",
    "plt.title('Distribución de número de pasajeros en los viajes de los Yellow Taxi')\n",
    "plt.xlabel('Número de Pasajeros')\n",
    "plt.ylabel('Frecuencia')\n",
    "plt.yscale('log')  # Escala logarítmica en el eje y\n",
    "\n",
    "# Obtener las alturas de las barras\n",
    "heights, bins, _ = plt.hist(yellow_taxi['passenger_count'], bins=range(1, 8), edgecolor='black', color='skyblue')\n",
    "\n",
    "# Agregar las etiquetas de los valores en el centro de cada barra\n",
    "for i, value in enumerate(heights):\n",
    "    plt.text(bins[i] + 0.5, value, str(int(value)), ha='center', va='bottom')\n",
    "\n",
    "# Mostrar el histograma\n",
    "plt.show()"
   ],
   "outputs": [],
   "execution_count": null
  },
  {
   "cell_type": "markdown",
   "metadata": {},
   "source": [
    "La variable `trip_distance` incluye valores atípicos, evidenciados por un viaje registrado de **161,726.1 millas**, media de **3.33 millas** y desviación estándar de **84.85 millas**. Para preservar la integridad estadística, se optará por excluir estos datos extremos que podrían sesgar el análisis."
   ]
  },
  {
   "cell_type": "code",
   "metadata": {
    "jupyter": {
     "is_executing": true
    }
   },
   "source": [
    "a = yellow_taxi['trip_distance'].describe()\n",
    "IQR = a['75%'] - a['25%']\n",
    "RI = a['25%'] - 1.5 * IQR       # RAngo inferior\n",
    "if RI < 0:\n",
    " RI = 0\n",
    "RS = a['75%'] + 1.5 * IQR       # Rango superior\n",
    "\n",
    "rango = list(range(int(round(RI,0)), int(round(RS,0)) + 1, 1))\n",
    "yellow_taxi['trip_disntance_range'] = pd.cut(yellow_taxi['trip_distance'], bins=rango)\n",
    "print(f\"La variable 'Trip_distance' tiene valores atipicos de acuerdo a la siguiente información: \\nMedia {a['mean']} \\nDesviacion estandar {a['std']}\\nValor Máximo {a['max']} \\nValor mínimo {a['min']}\")"
   ],
   "outputs": [],
   "execution_count": null
  },
  {
   "cell_type": "markdown",
   "metadata": {},
   "source": [
    "La distribución de las distancias recorridas indica que los viajes **menores de una milla** son frecuentes. Sin embargo, la **mayoría de los trayectos oscilan entre 1 y 2 millas**. Aunque hay una presencia notable de viajes dentro de este rango, aquellos que superan las 3 millas son relativamente raros."
   ]
  },
  {
   "cell_type": "code",
   "metadata": {
    "jupyter": {
     "is_executing": true
    }
   },
   "source": [
    "# Crear listas para los intervalos y sus frecuencias\n",
    "intervals = [str(interval) for interval in yellow_taxi['trip_disntance_range'].value_counts().index]\n",
    "frequencies = list(yellow_taxi['trip_disntance_range'].value_counts().values)\n",
    "\n",
    "# Ordenar los intervalos y frecuencias para que coincidan\n",
    "sorted_indices = sorted(range(len(intervals)), key=lambda k: intervals[k])\n",
    "intervals = [intervals[i] for i in sorted_indices]\n",
    "frequencies = [frequencies[i] for i in sorted_indices]\n",
    "\n",
    "# Crear el gráfico de barras\n",
    "plt.figure(figsize=(10, 6))\n",
    "plt.bar(intervals, frequencies, color='skyblue', edgecolor='black')\n",
    "\n",
    "# Añadir título y etiquetas a los ejes\n",
    "plt.title('Distribución de Distancias Recorridas por Intervalos')\n",
    "plt.xlabel('Intervalos de Distancia (millas)')\n",
    "plt.ylabel('Frecuencia')\n",
    "\n",
    "# Mostrar el gráfico\n",
    "plt.show()\n"
   ],
   "outputs": [],
   "execution_count": null
  },
  {
   "cell_type": "markdown",
   "metadata": {},
   "source": [
    "Importe total cobrado muestra algunos valores atipicos, como por ejemplo un valor **mínimo de -$1094.05**, **máximo de $5000**, una **desviación estándar de $23.56** y **media de $27.44**, por lo que se decide trabajar con un rango mas adecuado de valores"
   ]
  },
  {
   "cell_type": "code",
   "metadata": {
    "jupyter": {
     "is_executing": true
    }
   },
   "source": [
    "a = yellow_taxi['total_amount'].describe()\n",
    "IQR = a['75%'] - a['25%']\n",
    "RI = a['25%'] - 1.5 * IQR       # RAngo inferior\n",
    "if RI < 0:\n",
    " RI = 0\n",
    "RS = a['75%'] + 1.5 * IQR       # Rango superior\n",
    "rango = list(range(int(round(RI,0)), int(round(RS,0)) + 1, 10))\n",
    "yellow_taxi['total_amount_range'] = pd.cut(yellow_taxi['total_amount'], bins=rango)\n",
    "print(f\"La variable 'total_amount' tiene valores atipicos de acuerdo a la siguiente información: \\nMedia {a['mean']} \\nDesviacion estandar {a['std']}\\nValor Máximo {a['max']} \\nValor mínimo {a['min']}\")\n",
    "RI , RS"
   ],
   "outputs": [],
   "execution_count": null
  },
  {
   "cell_type": "markdown",
   "metadata": {},
   "source": [
    "La grafica de importes cobrados muestra que la mayoría de los cobros están en el rango de 0 a 10 dólares, con una frecuencia cercana a los 4 millones. Los cobros de 10 a 20 dólares tienen aproximadamente la mitad de esa frecuencia, y los rangos más altos muestran frecuencias significativamente menores, siendo los cobros de 40 a 50 dólares los menos frecuentes. Esto indica que los importes cobrados más bajos son mucho más comunes que los más altos."
   ]
  },
  {
   "cell_type": "code",
   "metadata": {
    "jupyter": {
     "is_executing": true
    }
   },
   "source": [
    "# Crear listas para los intervalos y sus frecuencias\n",
    "intervals = [str(interval) for interval in yellow_taxi['total_amount_range'].value_counts().index]\n",
    "frequencies = list(yellow_taxi['total_amount_range'].value_counts().values)\n",
    "\n",
    "# Ordenar los intervalos y frecuencias para que coincidan\n",
    "sorted_indices = sorted(range(len(intervals)), key=lambda k: intervals[k])\n",
    "intervals = [intervals[i] for i in sorted_indices]\n",
    "frequencies = [frequencies[i] for i in sorted_indices]\n",
    "\n",
    "# Crear el gráfico de barras\n",
    "plt.figure(figsize=(10, 6))\n",
    "plt.bar(intervals, frequencies, color='skyblue', edgecolor='black')\n",
    "\n",
    "# Añadir título y etiquetas a los ejes\n",
    "plt.title('Distribución de Importes cobrados')\n",
    "plt.xlabel('$')\n",
    "plt.ylabel('Frecuencia')\n",
    "\n",
    "# Mostrar el gráfico\n",
    "plt.show()"
   ],
   "outputs": [],
   "execution_count": null
  },
  {
   "cell_type": "markdown",
   "metadata": {},
   "source": [
    "El gráfico ilustra cómo la demanda de taxis amarillos fluctúa a lo largo del día durante un período de tres meses, con el punto más bajo cerca de las 5 HRS. y el pico más alto alrededor de las 18 HRS. Este análisis nos permite ver que el comportamiento del cliente."
   ]
  },
  {
   "cell_type": "code",
   "metadata": {
    "jupyter": {
     "is_executing": true
    }
   },
   "source": [
    "yellow_taxi['Hour_pickup'] = yellow_taxi['tpep_pickup_datetime'].dt.hour\n",
    "demanda = yellow_taxi.groupby('Hour_pickup')[['Hour_pickup']].count()\n",
    "demanda['trip_per_hour'] = demanda['Hour_pickup'] / 90\n",
    "demanda = demanda.rename(columns={'Hour_pickup': 'Trips'})\n",
    "\n",
    "# Crear la gráfica de líneas\n",
    "plt.figure(figsize=(8, 6))\n",
    "plt.plot(demanda.index, demanda['trip_per_hour'], marker='o', linestyle='-', color='b')\n",
    "plt.title('Demanda para Yellow Taxi de Diciembre 2023 a Febrero 2024')\n",
    "plt.xlabel('Hora')\n",
    "plt.ylabel('Demanda Promedio')\n",
    "plt.grid(True)\n",
    "plt.xticks(range(0, 24))\n",
    "plt.show()\n"
   ],
   "outputs": [],
   "execution_count": null
  }
 ],
 "metadata": {
  "kernelspec": {
   "display_name": "Python 3",
   "language": "python",
   "name": "python3"
  },
  "language_info": {
   "codemirror_mode": {
    "name": "ipython",
    "version": 3
   },
   "file_extension": ".py",
   "mimetype": "text/x-python",
   "name": "python",
   "nbconvert_exporter": "python",
   "pygments_lexer": "ipython3",
   "version": "3.11.9"
  }
 },
 "nbformat": 4,
 "nbformat_minor": 2
}
