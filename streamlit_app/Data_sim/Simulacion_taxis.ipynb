{
 "cells": [
  {
   "cell_type": "markdown",
   "metadata": {},
   "source": [
    "# Simulación de Taxis de NYC por el método Montecarlo"
   ]
  },
  {
   "cell_type": "code",
   "execution_count": 1,
   "metadata": {},
   "outputs": [],
   "source": [
    "import pandas as pd\n",
    "import numpy as np\n",
    "import random\n",
    "from datetime import timedelta"
   ]
  },
  {
   "cell_type": "markdown",
   "metadata": {},
   "source": [
    "Cargando datos"
   ]
  },
  {
   "cell_type": "code",
   "execution_count": 2,
   "metadata": {},
   "outputs": [],
   "source": [
    "taxi = pd.read_csv('../../Data/Data_taxi_sim.csv')\n",
    "fuel = pd.read_parquet('../../Data/Eda_fuel_vehicles.parquet')\n",
    "electric = pd.read_parquet('../../Data/df_final_electrico01.parquet')\n",
    "electric_min = pd.read_csv('../../Data/ElectricCarData_Clean.csv')\n",
    "# fuel_data = pd.read_csv('../../Data/Vehicle Fuel Economy Data.csv')\n",
    "demanda = pd.read_csv('../../Data/demandaxzona.csv')"
   ]
  },
  {
   "cell_type": "markdown",
   "metadata": {},
   "source": [
    "Transformaciones"
   ]
  },
  {
   "cell_type": "code",
   "execution_count": null,
   "metadata": {},
   "outputs": [],
   "source": [
    "taxi['time'] = taxi['tpep_dropoff_datetime'] - taxi['tpep_pickup_datetime']\n",
    "taxi['time'] = taxi['time'].apply(lambda x: int(x.total_seconds() // 60))\n",
    "taxi = taxi.drop(['tpep_pickup_datetime','tpep_dropoff_datetime'], axis=1)"
   ]
  },
  {
   "cell_type": "markdown",
   "metadata": {},
   "source": [
    "### Funciones"
   ]
  },
  {
   "cell_type": "code",
   "execution_count": 4,
   "metadata": {},
   "outputs": [],
   "source": [
    "def rango(df,column:str):\n",
    "    '''\n",
    "Esta función devuelve un rango de valores que excluye outliers, la función recibe\n",
    "    - df - Un dataFrame\n",
    "    - column - Una columna en str\n",
    "    La función devuelve una tupla con el intervalo valido\n",
    "    '''\n",
    "    statistics = df[column].describe()\n",
    "    IQR = statistics['75%'] - statistics['25%']\n",
    "    RI = statistics['25%'] - 1.5 * IQR       # RAngo inferior\n",
    "    if RI < 0:\n",
    "        RI = 0\n",
    "    RS = statistics['75%'] + 1.5 * IQR       # Rango superior\n",
    "    if RI == RS:\n",
    "        return (RI-1,RS)\n",
    "    else:\n",
    "        return (RI , RS)"
   ]
  },
  {
   "cell_type": "code",
   "execution_count": 5,
   "metadata": {},
   "outputs": [],
   "source": [
    "def delay(df,hour:int,zone:int):\n",
    "    '''\n",
    "    Esta Función simula el tiempo que el taxi se mantiene oscioso por la demanda que existe en la zona haciendo uso de\n",
    "    el modelo M/M/1 para teoria de colas, se considera el día y la zona en la que se solicita el servicio.\n",
    "\n",
    "    La función solicita:\n",
    "    - `df` Dataframe con los datos, `Hour`, `Zone`, `TimeArrival(customers/min)` y `Time4Service(customers/min)`\n",
    "    - `hour` La hora en la que el taxi esta disponible para un servicio. En valor entero\n",
    "    - `Zona` La zona en donde se encuentra el taxi para iniciar un nuevo servicio. En valor entero\n",
    "\n",
    "    La función devuelve el tiempo en minutos que se mantiene ocioso el taxi antes de su siguiente servicio.\n",
    "    '''\n",
    "    df = df[(df['Zone'] == zone) & (df['Hour'] == hour)]\n",
    "    Lambda = df['TimeArrival(customers/min)'].mean()\n",
    "    Mu = df['Time4Service(customers/min)'].mean()\n",
    "    if Mu == 0:\n",
    "        return trip(zone,timedelta(hours=hour,minutes=0))['trip_time']\n",
    "    else:\n",
    "        return Lambda ** 2 / (Mu * (Mu - Lambda))"
   ]
  },
  {
   "cell_type": "code",
   "execution_count": 74,
   "metadata": {},
   "outputs": [],
   "source": [
    "def trip(UpLocationId:int,Hour):\n",
    "    '''\n",
    "    Esta función devuelve caracteristicas de la ruta entre dos puntos. La función recibe:\n",
    "        - UpLocationId. Id de la zona de inicio del viaje\n",
    "        - Hour. Hora en la que inicia el viaje en formato `timedelta`\n",
    "        \n",
    "    La función devuelve un diccionario con:\n",
    "        - route. Ruta\n",
    "        - UpLocationId. Id zona de inicio del viaje\n",
    "        - DOLocationID. Id zona final del viaje\n",
    "        - Hour_0. Hora de inicio del viaje\n",
    "        - Hour_f. Hora en la que finaliza el viaje\n",
    "        - trip_time. Tiempo del viaje en minutos\n",
    "        - trip_distance. Distancia recorrida\n",
    "        - total_amount. Costo del viaje\n",
    "    '''\n",
    "    filtro = taxi[taxi['PULocationID'] == UpLocationId]             # Filtramos registros de la zona de inicio del viaje\n",
    "    destino = np.random.choice(filtro['DOLocationID'])              # Definimos zona de destino del viaje\n",
    "    filtro = filtro[filtro['DOLocationID'] == destino]              # Actualizamos el filtro\n",
    "    # Determinar el rango de valores que excluyen outliers\n",
    "    rango_tiempo = rango(filtro,'time')\n",
    "    rango_distancia = rango(filtro,'trip_distance')\n",
    "    # Eliminando registros con datos atipicos\n",
    "    if len(filtro) != 1:\n",
    "        filtro = filtro[(filtro['time'] >= rango_tiempo[0]) & (filtro['time'] <= rango_tiempo[1]) & \n",
    "                    (filtro['trip_distance'] >= rango_distancia[0]) &\n",
    "                      (filtro['trip_distance'] <= rango_distancia[1])]\n",
    "        route = np.random.choice(filtro['route'])\n",
    "    else:\n",
    "        filtro = filtro.reset_index()\n",
    "        route = filtro['route'].iloc[0]\n",
    "    # Extrayendo datos\n",
    "    \n",
    "    distance = np.random.choice(filtro['trip_distance'])\n",
    "    time = filtro[filtro['trip_distance'] == distance]['time'].mean()\n",
    "    amount = filtro[filtro['trip_distance'] == distance]['total_amount'].mean()\n",
    "    try:\n",
    "        tiempo_espera = timedelta(minutes= 100 * delay(demanda , round(Hour.total_seconds() / 60 , 0), destino))\n",
    "        # if tiempo_espera >= timedelta(minutes=30):\n",
    "        #     tiempo_espera = tiempo_espera / 60\n",
    "    except:\n",
    "        tiempo_espera = timedelta(minutes= 0)\n",
    "    Hour_e = Hour + timedelta(hours=0, minutes = time) \n",
    "    return {\"route\":route,\"UpLocationId\":UpLocationId,\"DOLocationID\":destino,'wait_time': tiempo_espera, \n",
    "            \"Hour_0\": Hour + tiempo_espera,\"Hour_f\":Hour_e, \"trip_time\":time,\"trip_distance\":distance,\n",
    "            \"total_amount\":amount}"
   ]
  },
  {
   "cell_type": "code",
   "execution_count": 142,
   "metadata": {},
   "outputs": [],
   "source": [
    "def simulacion(n:int,hora_inicio,hora_fin):\n",
    "    '''\n",
    "    Función simulacion devuelve un Df con las iteracciones solicitadas por el usuario en el rango de tiempo solicitado.\n",
    "    - n. Número de simlaciones Montecarlo en valor entero\n",
    "    - hora_inicio. Hora en la que se inicia la simulación en formato `timedelta`\n",
    "    - hora_fin. Hora en la que termina la simulación en formato `timedelta`\n",
    "\n",
    "    Devuelve lista con datos generados por cada iteración y resumen de cada iteración\n",
    "    \n",
    "    La lista con datos contiene:\n",
    "    - route. Ruta\n",
    "    - UpLocationId. Id zona de inicio del viaje\n",
    "    - DOLocationID. Id zona final del viaje\n",
    "    - Hour_0. Hora de inicio del viaje\n",
    "    - Hour_f. Hora en la que finaliza el viaje\n",
    "    - trip_time. Tiempo del viaje en minutos\n",
    "    - trip_distance. Distancia recorrida\n",
    "    - total_amount. Costo del viaje\n",
    "\n",
    "    El resumen de las iteraciones contiene la siguiente información:\n",
    "    - interacion. Numero de iteracion\n",
    "    - trip_time. El tiempo total de la iteración\n",
    "    - trip_time_mean. Tiempo promedio por viaje\n",
    "    - trip_distance. Distancia total recorrida para la iteración\n",
    "    - trip_mean. Distancia promedio por viaje\n",
    "    - total_amount. Ingreso total para la iteración\n",
    "    - amount_mean. Ingreso promedio por viaje\n",
    "    '''\n",
    "    lista = []\n",
    "    resultados = []\n",
    "    no = 0\n",
    "    for i in range(0,n):\n",
    "        idzonaInicio = np.random.choice(taxi['PULocationID'])\n",
    "        hr_ini = hora_inicio\n",
    "        data = []\n",
    "        while hr_ini <= hora_fin:\n",
    "            a = trip(idzonaInicio,hr_ini)\n",
    "            data.append(a)\n",
    "            idzonaInicio = a['DOLocationID']\n",
    "            hr_ini = a['Hour_f']\n",
    "        df = pd.DataFrame(data)\n",
    "        lista.append(df)\n",
    "    # for j in lista:\n",
    "    #     res = {\"interacion\":no,\"trip_time\":timedelta(minutes=j['trip_time'].sum()),\n",
    "    #         \"trip_time_mean\":timedelta(minutes=j['trip_time'].mean()),\n",
    "    #         \"wait_time\":j['wait_time'].sum(),\n",
    "    #         \"wait_time_mean\":j['wait_time'].mean(),\n",
    "    #         \"trip_distance\":j['trip_distance'].sum(),\"trip_mean\":j['trip_distance'].mean(),\n",
    "    #         \"total_amount\":j['total_amount'].sum(),\"amount_mean\":j['total_amount'].mean()}\n",
    "    #     resultados.append(res)\n",
    "    #     no += 1\n",
    "    # df = pd.DataFrame(resultados)\n",
    "    return lista #, df"
   ]
  },
  {
   "cell_type": "code",
   "execution_count": 121,
   "metadata": {},
   "outputs": [],
   "source": [
    "def resumen(dfs):\n",
    "    resultados = []\n",
    "    no = 0\n",
    "    for j in dfs:\n",
    "        res = {\"interacion\": no,\"trip_time\":timedelta(minutes=j['trip_time'].sum()),\n",
    "            \"trip_time_mean\":timedelta(minutes=j['trip_time'].mean()),\n",
    "            \"wait_time\":j['wait_time'].sum(),\n",
    "            \"wait_time_mean\":j['wait_time'].mean(),\n",
    "            \"trip_distance\":j['trip_distance'].sum(),\"trip_mean\":j['trip_distance'].mean(),\n",
    "            \"total_amount\":j['total_amount'].sum(),\"amount_mean\":j['total_amount'].mean(), \n",
    "            \"CO_emission_total\": j['CO2_emission'].sum(), \"CO2_emmision_avg\":j['CO2_emission'].mean(),\n",
    "            \"Profit\": j['Utilidad'].sum()}\n",
    "        resultados.append(res)\n",
    "        no += 1\n",
    "    return pd.DataFrame(resultados).describe()"
   ]
  },
  {
   "cell_type": "code",
   "execution_count": 60,
   "metadata": {},
   "outputs": [],
   "source": [
    "inicio = timedelta(hours=5,minutes=0)\n",
    "fin = timedelta(hours=18,minutes=0)\n",
    "iteraciones = 5\n",
    "a = simulacion(iteraciones,inicio,fin)"
   ]
  },
  {
   "cell_type": "markdown",
   "metadata": {},
   "source": [
    "### Simulaciones"
   ]
  },
  {
   "cell_type": "markdown",
   "metadata": {},
   "source": [
    "Simulación de un solo viaje con zona de inicio aleatorio"
   ]
  },
  {
   "cell_type": "code",
   "execution_count": 8,
   "metadata": {},
   "outputs": [
    {
     "data": {
      "text/plain": [
       "{'route': 'Midtown South --> Upper East Side North',\n",
       " 'UpLocationId': 164,\n",
       " 'DOLocationID': 236,\n",
       " 'wait_time': datetime.timedelta(seconds=74, microseconds=88842),\n",
       " 'Hour_0': datetime.timedelta(seconds=7514, microseconds=88842),\n",
       " 'Hour_f': datetime.timedelta(seconds=8340),\n",
       " 'trip_time': 15.0,\n",
       " 'trip_distance': 3.83,\n",
       " 'total_amount': 23.1}"
      ]
     },
     "execution_count": 8,
     "metadata": {},
     "output_type": "execute_result"
    }
   ],
   "source": [
    "inicio = np.random.choice(taxi['PULocationID'])\n",
    "trip(inicio,timedelta(hours=2,minutes=4))"
   ]
  },
  {
   "cell_type": "markdown",
   "metadata": {},
   "source": [
    "Simulación de una unica iteración en un horario determinado"
   ]
  },
  {
   "cell_type": "code",
   "execution_count": 75,
   "metadata": {},
   "outputs": [
    {
     "name": "stdout",
     "output_type": "stream",
     "text": [
      "La simulacion con 1 iteración nos brinda:\n",
      "El recorrido simulado es de 314.71999999999997 millas \n",
      "El recorrido promedio por viaje es de 3.085490196078431 millas \n",
      "El ingreso simulado es $2678.2344966887813 \n",
      "El ingreso promedio por viaje es de $26.257200947929228 \n",
      "Cada viaje duro en promedio 0 days 00:14:28.334100 \n",
      "Para un total de 1 days 00:36:10.078220 horas \n",
      "El total de tiempo ocioso 0 days 00:14:48.086622 \n",
      "El tiempo promedio de espera entre viajes es de 0 days 00:00:08.706731588\n"
     ]
    }
   ],
   "source": [
    "inicio = timedelta(hours=0,minutes=0)\n",
    "fin = timedelta(hours=23,minutes=59)\n",
    "iteraciones = 1\n",
    "a = simulacion(iteraciones,inicio,fin)\n",
    "print(f\"La simulacion con {len(a[1])} iteración nos brinda:\\nEl recorrido simulado es de {a[1]['trip_distance'].mean()} millas \\nEl recorrido promedio por viaje es de {a[1]['trip_mean'].mean()} millas \\nEl ingreso simulado es ${a[1]['total_amount'].mean()} \\nEl ingreso promedio por viaje es de ${a[1]['amount_mean'].mean()} \\nCada viaje duro en promedio {a[1]['trip_time_mean'].mean()} \\nPara un total de {a[1]['trip_time'].mean()} horas \\nEl total de tiempo ocioso {a[1]['wait_time'].mean()} \\nEl tiempo promedio de espera entre viajes es de {a[1]['wait_time_mean'].mean()}\")"
   ]
  },
  {
   "cell_type": "code",
   "execution_count": 85,
   "metadata": {},
   "outputs": [
    {
     "data": {
      "text/html": [
       "<div>\n",
       "<style scoped>\n",
       "    .dataframe tbody tr th:only-of-type {\n",
       "        vertical-align: middle;\n",
       "    }\n",
       "\n",
       "    .dataframe tbody tr th {\n",
       "        vertical-align: top;\n",
       "    }\n",
       "\n",
       "    .dataframe thead th {\n",
       "        text-align: right;\n",
       "    }\n",
       "</style>\n",
       "<table border=\"1\" class=\"dataframe\">\n",
       "  <thead>\n",
       "    <tr style=\"text-align: right;\">\n",
       "      <th></th>\n",
       "      <th>route</th>\n",
       "      <th>UpLocationId</th>\n",
       "      <th>DOLocationID</th>\n",
       "      <th>wait_time</th>\n",
       "      <th>Hour_0</th>\n",
       "      <th>Hour_f</th>\n",
       "      <th>trip_time</th>\n",
       "      <th>trip_distance</th>\n",
       "      <th>total_amount</th>\n",
       "    </tr>\n",
       "  </thead>\n",
       "  <tbody>\n",
       "    <tr>\n",
       "      <th>2</th>\n",
       "      <td>Midtown East --&gt; Brooklyn Heights</td>\n",
       "      <td>162</td>\n",
       "      <td>33</td>\n",
       "      <td>0 days</td>\n",
       "      <td>0 days 00:25:13.728070</td>\n",
       "      <td>0 days 00:52:49.728070</td>\n",
       "      <td>27.600000</td>\n",
       "      <td>6.68</td>\n",
       "      <td>45.100000</td>\n",
       "    </tr>\n",
       "    <tr>\n",
       "      <th>3</th>\n",
       "      <td>Brooklyn Heights --&gt; Midtown Center</td>\n",
       "      <td>33</td>\n",
       "      <td>161</td>\n",
       "      <td>0 days</td>\n",
       "      <td>0 days 00:52:49.728070</td>\n",
       "      <td>0 days 01:19:09.728070</td>\n",
       "      <td>26.333333</td>\n",
       "      <td>7.10</td>\n",
       "      <td>42.366667</td>\n",
       "    </tr>\n",
       "    <tr>\n",
       "      <th>4</th>\n",
       "      <td>Midtown Center --&gt; Lenox Hill West</td>\n",
       "      <td>161</td>\n",
       "      <td>141</td>\n",
       "      <td>0 days</td>\n",
       "      <td>0 days 01:19:09.728070</td>\n",
       "      <td>0 days 01:33:39.728070</td>\n",
       "      <td>14.500000</td>\n",
       "      <td>2.18</td>\n",
       "      <td>21.260833</td>\n",
       "    </tr>\n",
       "    <tr>\n",
       "      <th>5</th>\n",
       "      <td>Lenox Hill West --&gt; Upper East Side South</td>\n",
       "      <td>141</td>\n",
       "      <td>237</td>\n",
       "      <td>0 days</td>\n",
       "      <td>0 days 01:33:39.728070</td>\n",
       "      <td>0 days 01:36:34.966165</td>\n",
       "      <td>2.920635</td>\n",
       "      <td>0.31</td>\n",
       "      <td>9.761270</td>\n",
       "    </tr>\n",
       "    <tr>\n",
       "      <th>6</th>\n",
       "      <td>Upper East Side South --&gt; Clinton East</td>\n",
       "      <td>237</td>\n",
       "      <td>48</td>\n",
       "      <td>0 days</td>\n",
       "      <td>0 days 01:36:34.966165</td>\n",
       "      <td>0 days 01:50:16.178286</td>\n",
       "      <td>13.686869</td>\n",
       "      <td>1.50</td>\n",
       "      <td>21.063939</td>\n",
       "    </tr>\n",
       "    <tr>\n",
       "      <th>...</th>\n",
       "      <td>...</td>\n",
       "      <td>...</td>\n",
       "      <td>...</td>\n",
       "      <td>...</td>\n",
       "      <td>...</td>\n",
       "      <td>...</td>\n",
       "      <td>...</td>\n",
       "      <td>...</td>\n",
       "      <td>...</td>\n",
       "    </tr>\n",
       "    <tr>\n",
       "      <th>97</th>\n",
       "      <td>Murray Hill --&gt; Meatpacking/West Village West</td>\n",
       "      <td>170</td>\n",
       "      <td>158</td>\n",
       "      <td>0 days</td>\n",
       "      <td>0 days 22:16:13.559080</td>\n",
       "      <td>0 days 22:31:23.032764</td>\n",
       "      <td>15.157895</td>\n",
       "      <td>2.00</td>\n",
       "      <td>22.797368</td>\n",
       "    </tr>\n",
       "    <tr>\n",
       "      <th>98</th>\n",
       "      <td>Meatpacking/West Village West --&gt; Garment Dist...</td>\n",
       "      <td>158</td>\n",
       "      <td>100</td>\n",
       "      <td>0 days</td>\n",
       "      <td>0 days 22:31:23.032764</td>\n",
       "      <td>0 days 22:44:15.532764</td>\n",
       "      <td>12.875000</td>\n",
       "      <td>1.71</td>\n",
       "      <td>20.267500</td>\n",
       "    </tr>\n",
       "    <tr>\n",
       "      <th>99</th>\n",
       "      <td>Garment District --&gt; Lenox Hill East</td>\n",
       "      <td>100</td>\n",
       "      <td>140</td>\n",
       "      <td>0 days</td>\n",
       "      <td>0 days 22:44:15.532764</td>\n",
       "      <td>0 days 23:06:10.078219</td>\n",
       "      <td>21.909091</td>\n",
       "      <td>3.30</td>\n",
       "      <td>29.203636</td>\n",
       "    </tr>\n",
       "    <tr>\n",
       "      <th>100</th>\n",
       "      <td>Lenox Hill East --&gt; South Ozone Park</td>\n",
       "      <td>140</td>\n",
       "      <td>216</td>\n",
       "      <td>0 days</td>\n",
       "      <td>0 days 23:06:10.078219</td>\n",
       "      <td>0 days 23:47:10.078219</td>\n",
       "      <td>41.000000</td>\n",
       "      <td>14.12</td>\n",
       "      <td>66.800000</td>\n",
       "    </tr>\n",
       "    <tr>\n",
       "      <th>101</th>\n",
       "      <td>South Ozone Park --&gt; World Trade Center</td>\n",
       "      <td>216</td>\n",
       "      <td>261</td>\n",
       "      <td>0 days</td>\n",
       "      <td>0 days 23:47:10.078219</td>\n",
       "      <td>1 days 00:36:10.078219</td>\n",
       "      <td>49.000000</td>\n",
       "      <td>24.55</td>\n",
       "      <td>97.130000</td>\n",
       "    </tr>\n",
       "  </tbody>\n",
       "</table>\n",
       "<p>100 rows × 9 columns</p>\n",
       "</div>"
      ],
      "text/plain": [
       "                                                 route  UpLocationId  \\\n",
       "2                    Midtown East --> Brooklyn Heights           162   \n",
       "3                  Brooklyn Heights --> Midtown Center            33   \n",
       "4                   Midtown Center --> Lenox Hill West           161   \n",
       "5            Lenox Hill West --> Upper East Side South           141   \n",
       "6               Upper East Side South --> Clinton East           237   \n",
       "..                                                 ...           ...   \n",
       "97       Murray Hill --> Meatpacking/West Village West           170   \n",
       "98   Meatpacking/West Village West --> Garment Dist...           158   \n",
       "99                Garment District --> Lenox Hill East           100   \n",
       "100               Lenox Hill East --> South Ozone Park           140   \n",
       "101            South Ozone Park --> World Trade Center           216   \n",
       "\n",
       "     DOLocationID wait_time                 Hour_0                 Hour_f  \\\n",
       "2              33    0 days 0 days 00:25:13.728070 0 days 00:52:49.728070   \n",
       "3             161    0 days 0 days 00:52:49.728070 0 days 01:19:09.728070   \n",
       "4             141    0 days 0 days 01:19:09.728070 0 days 01:33:39.728070   \n",
       "5             237    0 days 0 days 01:33:39.728070 0 days 01:36:34.966165   \n",
       "6              48    0 days 0 days 01:36:34.966165 0 days 01:50:16.178286   \n",
       "..            ...       ...                    ...                    ...   \n",
       "97            158    0 days 0 days 22:16:13.559080 0 days 22:31:23.032764   \n",
       "98            100    0 days 0 days 22:31:23.032764 0 days 22:44:15.532764   \n",
       "99            140    0 days 0 days 22:44:15.532764 0 days 23:06:10.078219   \n",
       "100           216    0 days 0 days 23:06:10.078219 0 days 23:47:10.078219   \n",
       "101           261    0 days 0 days 23:47:10.078219 1 days 00:36:10.078219   \n",
       "\n",
       "     trip_time  trip_distance  total_amount  \n",
       "2    27.600000           6.68     45.100000  \n",
       "3    26.333333           7.10     42.366667  \n",
       "4    14.500000           2.18     21.260833  \n",
       "5     2.920635           0.31      9.761270  \n",
       "6    13.686869           1.50     21.063939  \n",
       "..         ...            ...           ...  \n",
       "97   15.157895           2.00     22.797368  \n",
       "98   12.875000           1.71     20.267500  \n",
       "99   21.909091           3.30     29.203636  \n",
       "100  41.000000          14.12     66.800000  \n",
       "101  49.000000          24.55     97.130000  \n",
       "\n",
       "[100 rows x 9 columns]"
      ]
     },
     "execution_count": 85,
     "metadata": {},
     "output_type": "execute_result"
    }
   ],
   "source": [
    "a[0][0][a[0][0]['wait_time'] == timedelta(minutes = 0)]"
   ]
  },
  {
   "cell_type": "markdown",
   "metadata": {},
   "source": [
    "Simulación con dos iteraciones"
   ]
  },
  {
   "cell_type": "code",
   "execution_count": 90,
   "metadata": {},
   "outputs": [
    {
     "name": "stdout",
     "output_type": "stream",
     "text": [
      "La simulacion con 2 iteraciones nos brinda:\n",
      "El recorrido simulado es de 261.395 millas \n",
      "El recorrido promedio por viaje es de 2.5138368649949108 millas \n",
      "El ingreso simulado es $2394.571740938013 \n",
      "El ingreso promedio por viaje es de $23.011697316595257 \n",
      "Cada viaje duro en promedio 0 days 00:13:57.896579500 \n",
      "Para un total de 1 days 00:11:30.032848 horas \n",
      "El total de tiempo ocioso 0 days 00:03:42.711234 \n",
      "El tiempo promedio de espera entre viajes es de 0 days 00:00:02.137378999\n"
     ]
    }
   ],
   "source": [
    "inicio = timedelta(hours=0,minutes=0)\n",
    "fin = timedelta(hours=23,minutes=59)\n",
    "iteraciones = 2\n",
    "a = simulacion(iteraciones,inicio,fin)\n",
    "print(f\"La simulacion con {len(a[1])} iteraciones nos brinda:\\nEl recorrido simulado es de {a[1]['trip_distance'].mean()} millas \\nEl recorrido promedio por viaje es de {a[1]['trip_mean'].mean()} millas \\nEl ingreso simulado es ${a[1]['total_amount'].mean()} \\nEl ingreso promedio por viaje es de ${a[1]['amount_mean'].mean()} \\nCada viaje duro en promedio {a[1]['trip_time_mean'].mean()} \\nPara un total de {a[1]['trip_time'].mean()} horas \\nEl total de tiempo ocioso {a[1]['wait_time'].mean()} \\nEl tiempo promedio de espera entre viajes es de {a[1]['wait_time_mean'].mean()}\")"
   ]
  },
  {
   "cell_type": "markdown",
   "metadata": {},
   "source": [
    "Simulación con 10 iteraciones"
   ]
  },
  {
   "cell_type": "code",
   "execution_count": 91,
   "metadata": {},
   "outputs": [
    {
     "name": "stdout",
     "output_type": "stream",
     "text": [
      "La simulacion con 10 iteraciones nos brinda:\n",
      "El recorrido simulado es de 298.30100000000004 millas \n",
      "El recorrido promedio por viaje es de 2.9735637005570017 millas \n",
      "El ingreso simulado es $3187.661691304046 \n",
      "El ingreso promedio por viaje es de $31.15018538376001 \n",
      "Cada viaje duro en promedio 0 days 00:14:24.466142200 \n",
      "Para un total de 1 days 00:09:31.957588500 horas \n",
      "El total de tiempo ocioso 0 days 00:38:49.748924700 \n",
      "El tiempo promedio de espera entre viajes es de 0 days 00:00:23.999309980\n"
     ]
    }
   ],
   "source": [
    "inicio = timedelta(hours=0,minutes=0)\n",
    "fin = timedelta(hours=23,minutes=59)\n",
    "iteraciones = 10\n",
    "a = simulacion(iteraciones,inicio,fin)\n",
    "print(f\"La simulacion con {len(a[1])} iteraciones nos brinda:\\nEl recorrido simulado es de {a[1]['trip_distance'].mean()} millas \\nEl recorrido promedio por viaje es de {a[1]['trip_mean'].mean()} millas \\nEl ingreso simulado es ${a[1]['total_amount'].mean()} \\nEl ingreso promedio por viaje es de ${a[1]['amount_mean'].mean()} \\nCada viaje duro en promedio {a[1]['trip_time_mean'].mean()} \\nPara un total de {a[1]['trip_time'].mean()} horas \\nEl total de tiempo ocioso {a[1]['wait_time'].mean()} \\nEl tiempo promedio de espera entre viajes es de {a[1]['wait_time_mean'].mean()}\")"
   ]
  },
  {
   "cell_type": "markdown",
   "metadata": {},
   "source": [
    "Simulación con 20 iteraciones"
   ]
  },
  {
   "cell_type": "code",
   "execution_count": 95,
   "metadata": {},
   "outputs": [
    {
     "name": "stdout",
     "output_type": "stream",
     "text": [
      "La simulacion con 20 iteraciones nos brinda:\n",
      "El recorrido simulado es de 284.75949999999995 millas \n",
      "El recorrido promedio por viaje es de 2.791256488652793 millas \n",
      "El ingreso simulado es $3110.293226196339 \n",
      "El ingreso promedio por viaje es de $29.539771943373275 \n",
      "Cada viaje duro en promedio 0 days 00:14:09.619837800 \n",
      "Para un total de 1 days 00:09:38.232835500 horas \n",
      "El total de tiempo ocioso 0 days 06:01:38.967401300 \n",
      "El tiempo promedio de espera entre viajes es de 0 days 00:03:25.422818982\n"
     ]
    }
   ],
   "source": [
    "inicio = timedelta(hours=0,minutes=0)\n",
    "fin = timedelta(hours=23,minutes=59)\n",
    "iteraciones = 20\n",
    "a = simulacion(iteraciones,inicio,fin)\n",
    "print(f\"La simulacion con {len(a[1])} iteraciones nos brinda:\\nEl recorrido simulado es de {a[1]['trip_distance'].mean()} millas \\nEl recorrido promedio por viaje es de {a[1]['trip_mean'].mean()} millas \\nEl ingreso simulado es ${a[1]['total_amount'].mean()} \\nEl ingreso promedio por viaje es de ${a[1]['amount_mean'].mean()} \\nCada viaje duro en promedio {a[1]['trip_time_mean'].mean()} \\nPara un total de {a[1]['trip_time'].mean()} horas \\nEl total de tiempo ocioso {a[1]['wait_time'].mean()} \\nEl tiempo promedio de espera entre viajes es de {a[1]['wait_time_mean'].mean()}\")"
   ]
  },
  {
   "cell_type": "markdown",
   "metadata": {},
   "source": [
    "Simulación con 50 iteraciones"
   ]
  },
  {
   "cell_type": "code",
   "execution_count": 96,
   "metadata": {},
   "outputs": [
    {
     "name": "stdout",
     "output_type": "stream",
     "text": [
      "La simulacion con 50 iteraciones nos brinda:\n",
      "El recorrido simulado es de 284.9702 millas \n",
      "El recorrido promedio por viaje es de 2.792572669232489 millas \n",
      "El ingreso simulado es $2903.4908091389498 \n",
      "El ingreso promedio por viaje es de $27.926566167010098 \n",
      "Cada viaje duro en promedio 0 days 00:14:12.833351360 \n",
      "Para un total de 1 days 00:12:06.561303 horas \n",
      "El total de tiempo ocioso 0 days 00:25:12.637160040 \n",
      "El tiempo promedio de espera entre viajes es de 0 days 00:00:14.698615407\n"
     ]
    }
   ],
   "source": [
    "inicio = timedelta(hours=0,minutes=0)\n",
    "fin = timedelta(hours=23,minutes=59)\n",
    "iteraciones = 50\n",
    "a = simulacion(iteraciones,inicio,fin)\n",
    "print(f\"La simulacion con {len(a[1])} iteraciones nos brinda:\\nEl recorrido simulado es de {a[1]['trip_distance'].mean()} millas \\nEl recorrido promedio por viaje es de {a[1]['trip_mean'].mean()} millas \\nEl ingreso simulado es ${a[1]['total_amount'].mean()} \\nEl ingreso promedio por viaje es de ${a[1]['amount_mean'].mean()} \\nCada viaje duro en promedio {a[1]['trip_time_mean'].mean()} \\nPara un total de {a[1]['trip_time'].mean()} horas \\nEl total de tiempo ocioso {a[1]['wait_time'].mean()} \\nEl tiempo promedio de espera entre viajes es de {a[1]['wait_time_mean'].mean()}\")"
   ]
  },
  {
   "cell_type": "markdown",
   "metadata": {},
   "source": [
    "Simulación con 100 iteraciones"
   ]
  },
  {
   "cell_type": "code",
   "execution_count": 97,
   "metadata": {},
   "outputs": [
    {
     "name": "stdout",
     "output_type": "stream",
     "text": [
      "La simulacion con 100 iteraciones nos brinda:\n",
      "El recorrido simulado es de 285.06300000000005 millas \n",
      "El recorrido promedio por viaje es de 2.897154589711805 millas \n",
      "El ingreso simulado es $2842.151116983946 \n",
      "El ingreso promedio por viaje es de $27.992385123532006 \n",
      "Cada viaje duro en promedio 0 days 00:14:58.275712160 \n",
      "Para un total de 1 days 00:28:10.704787920 horas \n",
      "El total de tiempo ocioso 0 days 00:23:16.485828310 \n",
      "El tiempo promedio de espera entre viajes es de 0 days 00:00:14.185888015\n"
     ]
    }
   ],
   "source": [
    "inicio = timedelta(hours=0,minutes=0)\n",
    "fin = timedelta(hours=23,minutes=59)\n",
    "iteraciones = 100\n",
    "a = simulacion(iteraciones,inicio,fin)\n",
    "print(f\"La simulacion con {len(a[1])} iteraciones nos brinda:\\nEl recorrido simulado es de {a[1]['trip_distance'].mean()} millas \\nEl recorrido promedio por viaje es de {a[1]['trip_mean'].mean()} millas \\nEl ingreso simulado es ${a[1]['total_amount'].mean()} \\nEl ingreso promedio por viaje es de ${a[1]['amount_mean'].mean()} \\nCada viaje duro en promedio {a[1]['trip_time_mean'].mean()} \\nPara un total de {a[1]['trip_time'].mean()} horas \\nEl total de tiempo ocioso {a[1]['wait_time'].mean()} \\nEl tiempo promedio de espera entre viajes es de {a[1]['wait_time_mean'].mean()}\")"
   ]
  },
  {
   "cell_type": "markdown",
   "metadata": {},
   "source": [
    "Simulación con 200 iteraciones"
   ]
  },
  {
   "cell_type": "code",
   "execution_count": 99,
   "metadata": {},
   "outputs": [
    {
     "name": "stdout",
     "output_type": "stream",
     "text": [
      "La simulacion con 200 iteraciones nos brinda:\n",
      "El recorrido simulado es de 285.3031 millas \n",
      "El recorrido promedio por viaje es de 2.8121597919045715 millas \n",
      "El ingreso simulado es $3018.5291169133598 \n",
      "El ingreso promedio por viaje es de $28.54435887663458 \n",
      "Cada viaje duro en promedio 0 days 00:14:23.851170715 \n",
      "Para un total de 1 days 00:14:05.917411270 horas \n",
      "El total de tiempo ocioso 0 days 00:51:28.391436775 \n",
      "El tiempo promedio de espera entre viajes es de 0 days 00:00:31.649970210\n"
     ]
    }
   ],
   "source": [
    "inicio = timedelta(hours=0,minutes=0)\n",
    "fin = timedelta(hours=23,minutes=59)\n",
    "iteraciones = 200\n",
    "a = simulacion(iteraciones,inicio,fin)\n",
    "print(f\"La simulacion con {len(a[1])} iteraciones nos brinda:\\nEl recorrido simulado es de {a[1]['trip_distance'].mean()} millas \\nEl recorrido promedio por viaje es de {a[1]['trip_mean'].mean()} millas \\nEl ingreso simulado es ${a[1]['total_amount'].mean()} \\nEl ingreso promedio por viaje es de ${a[1]['amount_mean'].mean()} \\nCada viaje duro en promedio {a[1]['trip_time_mean'].mean()} \\nPara un total de {a[1]['trip_time'].mean()} horas \\nEl total de tiempo ocioso {a[1]['wait_time'].mean()} \\nEl tiempo promedio de espera entre viajes es de {a[1]['wait_time_mean'].mean()}\")"
   ]
  },
  {
   "cell_type": "markdown",
   "metadata": {},
   "source": [
    "Simulación con 500 iteraciones"
   ]
  },
  {
   "cell_type": "code",
   "execution_count": 104,
   "metadata": {},
   "outputs": [
    {
     "name": "stdout",
     "output_type": "stream",
     "text": [
      "La simulacion con 500 iteraciones nos brinda:\n",
      "El recorrido simulado es de 156.84672 millas \n",
      "El recorrido promedio por viaje es de 2.8882186165953088 millas \n",
      "El ingreso simulado es $1783.3341614144017 \n",
      "El ingreso promedio por viaje es de $28.828078095428584 \n",
      "Cada viaje duro en promedio 0 days 00:14:38.254037030 \n",
      "Para un total de 0 days 13:14:06.401324488 horas\n"
     ]
    }
   ],
   "source": [
    "inicio = timedelta(hours=0,minutes=0)\n",
    "fin = timedelta(hours=23,minutes=59)\n",
    "iteraciones = 500\n",
    "a = simulacion(iteraciones,inicio,fin)\n",
    "print(f\"La simulacion con {len(a[1])} iteraciones nos brinda:\\nEl recorrido simulado es de {a[1]['trip_distance'].mean()} millas \\nEl recorrido promedio por viaje es de {a[1]['trip_mean'].mean()} millas \\nEl ingreso simulado es ${a[1]['total_amount'].mean()} \\nEl ingreso promedio por viaje es de ${a[1]['amount_mean'].mean()} \\nCada viaje duro en promedio {a[1]['trip_time_mean'].mean()} \\nPara un total de {a[1]['trip_time'].mean()} horas \\nEl total de tiempo ocioso {a[1]['wait_time'].mean()} \\nEl tiempo promedio de espera entre viajes es de {a[1]['wait_time_mean'].mean()}\")"
   ]
  },
  {
   "cell_type": "markdown",
   "metadata": {},
   "source": [
    "Simulación con 1000 iteraciones"
   ]
  },
  {
   "cell_type": "code",
   "execution_count": 105,
   "metadata": {},
   "outputs": [
    {
     "name": "stdout",
     "output_type": "stream",
     "text": [
      "La simulacion con 1000 iteraciones nos brinda:\n",
      "El recorrido simulado es de 206.59527000000003 millas \n",
      "El recorrido promedio por viaje es de 3.7342421019383867 millas \n",
      "El ingreso simulado es $1688.0670651946282 \n",
      "El ingreso promedio por viaje es de $28.30094430597562 \n",
      "Cada viaje duro en promedio 0 days 00:14:24.864502248 \n",
      "Para un total de 0 days 13:14:49.961863276 horas\n"
     ]
    }
   ],
   "source": [
    "inicio = timedelta(hours=0,minutes=0)\n",
    "fin = timedelta(hours=23,minutes=59)\n",
    "iteraciones = 1000\n",
    "a = simulacion(iteraciones,inicio,fin)\n",
    "print(f\"La simulacion con {len(a[1])} iteraciones nos brinda:\\nEl recorrido simulado es de {a[1]['trip_distance'].mean()} millas \\nEl recorrido promedio por viaje es de {a[1]['trip_mean'].mean()} millas \\nEl ingreso simulado es ${a[1]['total_amount'].mean()} \\nEl ingreso promedio por viaje es de ${a[1]['amount_mean'].mean()} \\nCada viaje duro en promedio {a[1]['trip_time_mean'].mean()} \\nPara un total de {a[1]['trip_time'].mean()} horas \\nEl total de tiempo ocioso {a[1]['wait_time'].mean()} \\nEl tiempo promedio de espera entre viajes es de {a[1]['wait_time_mean'].mean()}\")"
   ]
  },
  {
   "cell_type": "markdown",
   "metadata": {},
   "source": [
    "Dataframe con el resumen de las 1000 iteraciones"
   ]
  },
  {
   "cell_type": "code",
   "execution_count": 121,
   "metadata": {},
   "outputs": [
    {
     "data": {
      "text/html": [
       "<div>\n",
       "<style scoped>\n",
       "    .dataframe tbody tr th:only-of-type {\n",
       "        vertical-align: middle;\n",
       "    }\n",
       "\n",
       "    .dataframe tbody tr th {\n",
       "        vertical-align: top;\n",
       "    }\n",
       "\n",
       "    .dataframe thead th {\n",
       "        text-align: right;\n",
       "    }\n",
       "</style>\n",
       "<table border=\"1\" class=\"dataframe\">\n",
       "  <thead>\n",
       "    <tr style=\"text-align: right;\">\n",
       "      <th></th>\n",
       "      <th>interacion</th>\n",
       "      <th>trip_time</th>\n",
       "      <th>trip_time_mean</th>\n",
       "      <th>trip_distance</th>\n",
       "      <th>trip_mean</th>\n",
       "      <th>total_amount</th>\n",
       "      <th>amount_mean</th>\n",
       "    </tr>\n",
       "  </thead>\n",
       "  <tbody>\n",
       "    <tr>\n",
       "      <th>0</th>\n",
       "      <td>0</td>\n",
       "      <td>0 days 13:08:24.635731</td>\n",
       "      <td>0 days 00:13:49.905890</td>\n",
       "      <td>169.37</td>\n",
       "      <td>2.971404</td>\n",
       "      <td>1998.053453</td>\n",
       "      <td>35.053569</td>\n",
       "    </tr>\n",
       "    <tr>\n",
       "      <th>1</th>\n",
       "      <td>1</td>\n",
       "      <td>0 days 13:11:10.137147</td>\n",
       "      <td>0 days 00:11:27.973002</td>\n",
       "      <td>135.53</td>\n",
       "      <td>1.964203</td>\n",
       "      <td>1462.274730</td>\n",
       "      <td>21.192387</td>\n",
       "    </tr>\n",
       "    <tr>\n",
       "      <th>2</th>\n",
       "      <td>2</td>\n",
       "      <td>0 days 13:10:22.092379</td>\n",
       "      <td>0 days 00:16:27.960258</td>\n",
       "      <td>158.64</td>\n",
       "      <td>3.305000</td>\n",
       "      <td>1389.489095</td>\n",
       "      <td>28.947689</td>\n",
       "    </tr>\n",
       "    <tr>\n",
       "      <th>3</th>\n",
       "      <td>3</td>\n",
       "      <td>0 days 13:03:55.714569</td>\n",
       "      <td>0 days 00:15:04.532972</td>\n",
       "      <td>141.75</td>\n",
       "      <td>2.725962</td>\n",
       "      <td>1350.193030</td>\n",
       "      <td>25.965251</td>\n",
       "    </tr>\n",
       "    <tr>\n",
       "      <th>4</th>\n",
       "      <td>4</td>\n",
       "      <td>0 days 13:09:52.646489</td>\n",
       "      <td>0 days 00:16:07.196867</td>\n",
       "      <td>187.42</td>\n",
       "      <td>3.824898</td>\n",
       "      <td>1289.348514</td>\n",
       "      <td>26.313235</td>\n",
       "    </tr>\n",
       "    <tr>\n",
       "      <th>...</th>\n",
       "      <td>...</td>\n",
       "      <td>...</td>\n",
       "      <td>...</td>\n",
       "      <td>...</td>\n",
       "      <td>...</td>\n",
       "      <td>...</td>\n",
       "      <td>...</td>\n",
       "    </tr>\n",
       "    <tr>\n",
       "      <th>995</th>\n",
       "      <td>995</td>\n",
       "      <td>0 days 13:00:36.882742</td>\n",
       "      <td>0 days 00:12:35.433593</td>\n",
       "      <td>179.06</td>\n",
       "      <td>2.888065</td>\n",
       "      <td>1501.436633</td>\n",
       "      <td>24.216720</td>\n",
       "    </tr>\n",
       "    <tr>\n",
       "      <th>996</th>\n",
       "      <td>996</td>\n",
       "      <td>0 days 13:24:07.103452</td>\n",
       "      <td>0 days 00:13:51.846611</td>\n",
       "      <td>145.66</td>\n",
       "      <td>2.511379</td>\n",
       "      <td>1335.804127</td>\n",
       "      <td>23.031106</td>\n",
       "    </tr>\n",
       "    <tr>\n",
       "      <th>997</th>\n",
       "      <td>997</td>\n",
       "      <td>0 days 13:02:10.882735</td>\n",
       "      <td>0 days 00:12:13.295043</td>\n",
       "      <td>162.53</td>\n",
       "      <td>2.539531</td>\n",
       "      <td>1455.316371</td>\n",
       "      <td>22.739318</td>\n",
       "    </tr>\n",
       "    <tr>\n",
       "      <th>998</th>\n",
       "      <td>998</td>\n",
       "      <td>0 days 13:00:30.537232</td>\n",
       "      <td>0 days 00:16:36.394409</td>\n",
       "      <td>166.55</td>\n",
       "      <td>3.543617</td>\n",
       "      <td>1333.937074</td>\n",
       "      <td>28.381640</td>\n",
       "    </tr>\n",
       "    <tr>\n",
       "      <th>999</th>\n",
       "      <td>999</td>\n",
       "      <td>0 days 13:39:43.905870</td>\n",
       "      <td>0 days 00:19:31.045378</td>\n",
       "      <td>151.91</td>\n",
       "      <td>3.616905</td>\n",
       "      <td>1094.675829</td>\n",
       "      <td>26.063710</td>\n",
       "    </tr>\n",
       "  </tbody>\n",
       "</table>\n",
       "<p>1000 rows × 7 columns</p>\n",
       "</div>"
      ],
      "text/plain": [
       "     interacion              trip_time         trip_time_mean  trip_distance  \\\n",
       "0             0 0 days 13:08:24.635731 0 days 00:13:49.905890         169.37   \n",
       "1             1 0 days 13:11:10.137147 0 days 00:11:27.973002         135.53   \n",
       "2             2 0 days 13:10:22.092379 0 days 00:16:27.960258         158.64   \n",
       "3             3 0 days 13:03:55.714569 0 days 00:15:04.532972         141.75   \n",
       "4             4 0 days 13:09:52.646489 0 days 00:16:07.196867         187.42   \n",
       "..          ...                    ...                    ...            ...   \n",
       "995         995 0 days 13:00:36.882742 0 days 00:12:35.433593         179.06   \n",
       "996         996 0 days 13:24:07.103452 0 days 00:13:51.846611         145.66   \n",
       "997         997 0 days 13:02:10.882735 0 days 00:12:13.295043         162.53   \n",
       "998         998 0 days 13:00:30.537232 0 days 00:16:36.394409         166.55   \n",
       "999         999 0 days 13:39:43.905870 0 days 00:19:31.045378         151.91   \n",
       "\n",
       "     trip_mean  total_amount  amount_mean  \n",
       "0     2.971404   1998.053453    35.053569  \n",
       "1     1.964203   1462.274730    21.192387  \n",
       "2     3.305000   1389.489095    28.947689  \n",
       "3     2.725962   1350.193030    25.965251  \n",
       "4     3.824898   1289.348514    26.313235  \n",
       "..         ...           ...          ...  \n",
       "995   2.888065   1501.436633    24.216720  \n",
       "996   2.511379   1335.804127    23.031106  \n",
       "997   2.539531   1455.316371    22.739318  \n",
       "998   3.543617   1333.937074    28.381640  \n",
       "999   3.616905   1094.675829    26.063710  \n",
       "\n",
       "[1000 rows x 7 columns]"
      ]
     },
     "execution_count": 121,
     "metadata": {},
     "output_type": "execute_result"
    }
   ],
   "source": [
    "a[1]"
   ]
  },
  {
   "cell_type": "markdown",
   "metadata": {},
   "source": [
    "Dataframe con el registro de los viajes de una sola iteración"
   ]
  },
  {
   "cell_type": "code",
   "execution_count": 120,
   "metadata": {},
   "outputs": [
    {
     "data": {
      "text/html": [
       "<div>\n",
       "<style scoped>\n",
       "    .dataframe tbody tr th:only-of-type {\n",
       "        vertical-align: middle;\n",
       "    }\n",
       "\n",
       "    .dataframe tbody tr th {\n",
       "        vertical-align: top;\n",
       "    }\n",
       "\n",
       "    .dataframe thead th {\n",
       "        text-align: right;\n",
       "    }\n",
       "</style>\n",
       "<table border=\"1\" class=\"dataframe\">\n",
       "  <thead>\n",
       "    <tr style=\"text-align: right;\">\n",
       "      <th></th>\n",
       "      <th>route</th>\n",
       "      <th>UpLocationId</th>\n",
       "      <th>DOLocationID</th>\n",
       "      <th>Hour_i</th>\n",
       "      <th>Hour_e</th>\n",
       "      <th>trip_time</th>\n",
       "      <th>trip_distance</th>\n",
       "      <th>total_amount</th>\n",
       "    </tr>\n",
       "  </thead>\n",
       "  <tbody>\n",
       "    <tr>\n",
       "      <th>0</th>\n",
       "      <td>Midtown Center -- Times Sq/Theatre District</td>\n",
       "      <td>161</td>\n",
       "      <td>230</td>\n",
       "      <td>0 days 05:00:00</td>\n",
       "      <td>0 days 05:11:22.758621</td>\n",
       "      <td>11.379310</td>\n",
       "      <td>0.97</td>\n",
       "      <td>17.871897</td>\n",
       "    </tr>\n",
       "    <tr>\n",
       "      <th>1</th>\n",
       "      <td>Times Sq/Theatre District -- Penn Station/Madi...</td>\n",
       "      <td>230</td>\n",
       "      <td>186</td>\n",
       "      <td>0 days 05:11:22.758621</td>\n",
       "      <td>0 days 05:21:50.866729</td>\n",
       "      <td>10.468468</td>\n",
       "      <td>1.13</td>\n",
       "      <td>17.152793</td>\n",
       "    </tr>\n",
       "    <tr>\n",
       "      <th>2</th>\n",
       "      <td>Penn Station/Madison Sq West -- Union Sq</td>\n",
       "      <td>186</td>\n",
       "      <td>234</td>\n",
       "      <td>0 days 05:21:50.866729</td>\n",
       "      <td>0 days 05:28:31.158700</td>\n",
       "      <td>6.671533</td>\n",
       "      <td>0.92</td>\n",
       "      <td>15.123285</td>\n",
       "    </tr>\n",
       "    <tr>\n",
       "      <th>3</th>\n",
       "      <td>Union Sq -- Midtown South</td>\n",
       "      <td>234</td>\n",
       "      <td>164</td>\n",
       "      <td>0 days 05:28:31.158700</td>\n",
       "      <td>0 days 05:35:11.369226</td>\n",
       "      <td>6.670175</td>\n",
       "      <td>0.70</td>\n",
       "      <td>14.663193</td>\n",
       "    </tr>\n",
       "    <tr>\n",
       "      <th>4</th>\n",
       "      <td>Midtown South -- Flatiron</td>\n",
       "      <td>164</td>\n",
       "      <td>90</td>\n",
       "      <td>0 days 05:35:11.369226</td>\n",
       "      <td>0 days 05:42:43.133932</td>\n",
       "      <td>7.529412</td>\n",
       "      <td>1.18</td>\n",
       "      <td>16.027647</td>\n",
       "    </tr>\n",
       "    <tr>\n",
       "      <th>...</th>\n",
       "      <td>...</td>\n",
       "      <td>...</td>\n",
       "      <td>...</td>\n",
       "      <td>...</td>\n",
       "      <td>...</td>\n",
       "      <td>...</td>\n",
       "      <td>...</td>\n",
       "      <td>...</td>\n",
       "    </tr>\n",
       "    <tr>\n",
       "      <th>59</th>\n",
       "      <td>East Harlem North -- Upper East Side South</td>\n",
       "      <td>74</td>\n",
       "      <td>237</td>\n",
       "      <td>0 days 16:55:21.603297</td>\n",
       "      <td>0 days 17:11:21.603297</td>\n",
       "      <td>16.000000</td>\n",
       "      <td>2.70</td>\n",
       "      <td>23.935000</td>\n",
       "    </tr>\n",
       "    <tr>\n",
       "      <th>60</th>\n",
       "      <td>Upper East Side South -- Upper East Side South</td>\n",
       "      <td>237</td>\n",
       "      <td>237</td>\n",
       "      <td>0 days 17:11:21.603297</td>\n",
       "      <td>0 days 17:16:58.325230</td>\n",
       "      <td>5.612032</td>\n",
       "      <td>0.70</td>\n",
       "      <td>13.847101</td>\n",
       "    </tr>\n",
       "    <tr>\n",
       "      <th>61</th>\n",
       "      <td>Upper East Side South -- Manhattan Valley</td>\n",
       "      <td>237</td>\n",
       "      <td>151</td>\n",
       "      <td>0 days 17:16:58.325230</td>\n",
       "      <td>0 days 17:29:29.325230</td>\n",
       "      <td>12.516667</td>\n",
       "      <td>2.40</td>\n",
       "      <td>22.931167</td>\n",
       "    </tr>\n",
       "    <tr>\n",
       "      <th>62</th>\n",
       "      <td>Manhattan Valley -- Midtown Center</td>\n",
       "      <td>151</td>\n",
       "      <td>161</td>\n",
       "      <td>0 days 17:29:29.325230</td>\n",
       "      <td>0 days 17:44:29.325230</td>\n",
       "      <td>15.000000</td>\n",
       "      <td>2.62</td>\n",
       "      <td>20.300000</td>\n",
       "    </tr>\n",
       "    <tr>\n",
       "      <th>63</th>\n",
       "      <td>Midtown Center -- Newark Airport</td>\n",
       "      <td>161</td>\n",
       "      <td>1</td>\n",
       "      <td>0 days 17:44:29.325230</td>\n",
       "      <td>0 days 18:20:29.325230</td>\n",
       "      <td>36.000000</td>\n",
       "      <td>22.12</td>\n",
       "      <td>136.090000</td>\n",
       "    </tr>\n",
       "  </tbody>\n",
       "</table>\n",
       "<p>64 rows × 8 columns</p>\n",
       "</div>"
      ],
      "text/plain": [
       "                                                route  UpLocationId  \\\n",
       "0         Midtown Center -- Times Sq/Theatre District           161   \n",
       "1   Times Sq/Theatre District -- Penn Station/Madi...           230   \n",
       "2            Penn Station/Madison Sq West -- Union Sq           186   \n",
       "3                           Union Sq -- Midtown South           234   \n",
       "4                           Midtown South -- Flatiron           164   \n",
       "..                                                ...           ...   \n",
       "59         East Harlem North -- Upper East Side South            74   \n",
       "60     Upper East Side South -- Upper East Side South           237   \n",
       "61          Upper East Side South -- Manhattan Valley           237   \n",
       "62                 Manhattan Valley -- Midtown Center           151   \n",
       "63                   Midtown Center -- Newark Airport           161   \n",
       "\n",
       "    DOLocationID                 Hour_i                 Hour_e  trip_time  \\\n",
       "0            230        0 days 05:00:00 0 days 05:11:22.758621  11.379310   \n",
       "1            186 0 days 05:11:22.758621 0 days 05:21:50.866729  10.468468   \n",
       "2            234 0 days 05:21:50.866729 0 days 05:28:31.158700   6.671533   \n",
       "3            164 0 days 05:28:31.158700 0 days 05:35:11.369226   6.670175   \n",
       "4             90 0 days 05:35:11.369226 0 days 05:42:43.133932   7.529412   \n",
       "..           ...                    ...                    ...        ...   \n",
       "59           237 0 days 16:55:21.603297 0 days 17:11:21.603297  16.000000   \n",
       "60           237 0 days 17:11:21.603297 0 days 17:16:58.325230   5.612032   \n",
       "61           151 0 days 17:16:58.325230 0 days 17:29:29.325230  12.516667   \n",
       "62           161 0 days 17:29:29.325230 0 days 17:44:29.325230  15.000000   \n",
       "63             1 0 days 17:44:29.325230 0 days 18:20:29.325230  36.000000   \n",
       "\n",
       "    trip_distance  total_amount  \n",
       "0            0.97     17.871897  \n",
       "1            1.13     17.152793  \n",
       "2            0.92     15.123285  \n",
       "3            0.70     14.663193  \n",
       "4            1.18     16.027647  \n",
       "..            ...           ...  \n",
       "59           2.70     23.935000  \n",
       "60           0.70     13.847101  \n",
       "61           2.40     22.931167  \n",
       "62           2.62     20.300000  \n",
       "63          22.12    136.090000  \n",
       "\n",
       "[64 rows x 8 columns]"
      ]
     },
     "execution_count": 120,
     "metadata": {},
     "output_type": "execute_result"
    }
   ],
   "source": [
    "a[0][5]"
   ]
  },
  {
   "cell_type": "markdown",
   "metadata": {},
   "source": [
    "## Almacenando datos en un archivos parquet"
   ]
  },
  {
   "cell_type": "code",
   "execution_count": 148,
   "metadata": {},
   "outputs": [
    {
     "ename": "IndexError",
     "evalue": "list index out of range",
     "output_type": "error",
     "traceback": [
      "\u001b[1;31m---------------------------------------------------------------------------\u001b[0m",
      "\u001b[1;31mIndexError\u001b[0m                                Traceback (most recent call last)",
      "Cell \u001b[1;32mIn[148], line 8\u001b[0m\n\u001b[0;32m      6\u001b[0m no \u001b[38;5;241m=\u001b[39m \u001b[38;5;28mstr\u001b[39m(i\u001b[38;5;241m+\u001b[39m\u001b[38;5;241m301\u001b[39m)\n\u001b[0;32m      7\u001b[0m name \u001b[38;5;241m=\u001b[39m \u001b[38;5;124m'\u001b[39m\u001b[38;5;124m../../Data/Simulation/\u001b[39m\u001b[38;5;124m'\u001b[39m\u001b[38;5;241m+\u001b[39m no \u001b[38;5;241m+\u001b[39m\u001b[38;5;124m'\u001b[39m\u001b[38;5;124m.parquet\u001b[39m\u001b[38;5;124m'\u001b[39m\n\u001b[1;32m----> 8\u001b[0m \u001b[43ma\u001b[49m\u001b[43m[\u001b[49m\u001b[43mi\u001b[49m\u001b[43m]\u001b[49m\u001b[38;5;241m.\u001b[39mto_parquet(name)\n",
      "\u001b[1;31mIndexError\u001b[0m: list index out of range"
     ]
    }
   ],
   "source": [
    "inicio = timedelta(hours=0,minutes=0)\n",
    "fin = timedelta(hours=23,minutes=59)\n",
    "iteraciones = 1000\n",
    "a = simulacion(iteraciones,inicio,fin)\n",
    "for i in range(0 , 1000):\n",
    "    no = str(i+301)\n",
    "    name = '../../Data/Simulation/'+ no +'.parquet'\n",
    "    a[i].to_parquet(name)"
   ]
  },
  {
   "cell_type": "code",
   "execution_count": 15,
   "metadata": {},
   "outputs": [],
   "source": [
    "dfs = []\n",
    "for i in range(1,401):\n",
    "    df = pd.read_parquet(f'../../Data/Simulation/{i}.parquet')\n",
    "    dfs.append(df)"
   ]
  },
  {
   "cell_type": "code",
   "execution_count": 147,
   "metadata": {},
   "outputs": [],
   "source": [
    "def interpolacion(Modelo:str, Año:int, electrico:bool,dfs:list,hour_0,hour_f):\n",
    "    lista = []\n",
    "    if electrico:\n",
    "        filtro = electric[(electric['Model'] == Modelo) & (electric['Model year'] == Año)].reset_index()\n",
    "        co2 = filtro['CO2 emissions (g/km)'].loc[0]\n",
    "        Mantenimiento = 550\n",
    "        costo_gas = 0.151 * filtro['City (kWh/100 km)'].loc[0] / 62\n",
    "    else:\n",
    "        filtro = fuel[(fuel['Model'] == Modelo) & (fuel['Year'] == Año)].reset_index()\n",
    "        co2 = filtro['co2'].loc[0]\n",
    "        Mantenimiento = filtro['Costo_mant_anual'].loc[0]\n",
    "        costo_gas = filtro['Costo_gasolina_galon'].loc[0]\n",
    "    for i in dfs:\n",
    "        i = i[(i['Hour_0'] >= hour_0) & (i['Hour_0'] <= hour_f)]\n",
    "        i['CO2_emission'] = i['trip_distance'] * co2 * 1.609\n",
    "        i['Mantenimiento_anual'] = Mantenimiento\n",
    "        i['Costo_comb'] = i['trip_distance'] * costo_gas\n",
    "        i['Utilidad'] = i['total_amount'] - i['Costo_comb'] - i['Mantenimiento_anual'] / (365 * i['trip_distance'].sum())\n",
    "        lista.append(i)\n",
    "    return resumen(lista)"
   ]
  },
  {
   "cell_type": "code",
   "execution_count": 148,
   "metadata": {},
   "outputs": [
    {
     "ename": "KeyError",
     "evalue": "0",
     "output_type": "error",
     "traceback": [
      "\u001b[1;31m---------------------------------------------------------------------------\u001b[0m",
      "\u001b[1;31mValueError\u001b[0m                                Traceback (most recent call last)",
      "File \u001b[1;32m~\\AppData\\Local\\Packages\\PythonSoftwareFoundation.Python.3.11_qbz5n2kfra8p0\\LocalCache\\local-packages\\Python311\\site-packages\\pandas\\core\\indexes\\range.py:345\u001b[0m, in \u001b[0;36mRangeIndex.get_loc\u001b[1;34m(self, key)\u001b[0m\n\u001b[0;32m    344\u001b[0m \u001b[38;5;28;01mtry\u001b[39;00m:\n\u001b[1;32m--> 345\u001b[0m     \u001b[38;5;28;01mreturn\u001b[39;00m \u001b[38;5;28;43mself\u001b[39;49m\u001b[38;5;241;43m.\u001b[39;49m\u001b[43m_range\u001b[49m\u001b[38;5;241;43m.\u001b[39;49m\u001b[43mindex\u001b[49m\u001b[43m(\u001b[49m\u001b[43mnew_key\u001b[49m\u001b[43m)\u001b[49m\n\u001b[0;32m    346\u001b[0m \u001b[38;5;28;01mexcept\u001b[39;00m \u001b[38;5;167;01mValueError\u001b[39;00m \u001b[38;5;28;01mas\u001b[39;00m err:\n",
      "\u001b[1;31mValueError\u001b[0m: 0 is not in range",
      "\nThe above exception was the direct cause of the following exception:\n",
      "\u001b[1;31mKeyError\u001b[0m                                  Traceback (most recent call last)",
      "Cell \u001b[1;32mIn[148], line 1\u001b[0m\n\u001b[1;32m----> 1\u001b[0m \u001b[43minterpolacion\u001b[49m\u001b[43m(\u001b[49m\u001b[38;5;241;43m2019\u001b[39;49m\u001b[43m,\u001b[49m\u001b[38;5;124;43m'\u001b[39;49m\u001b[38;5;124;43mEscape FWD\u001b[39;49m\u001b[38;5;124;43m'\u001b[39;49m\u001b[43m,\u001b[49m\u001b[38;5;28;43;01mFalse\u001b[39;49;00m\u001b[43m,\u001b[49m\u001b[43mdfs\u001b[49m\u001b[43m,\u001b[49m\u001b[43mtimedelta\u001b[49m\u001b[43m(\u001b[49m\u001b[43mhours\u001b[49m\u001b[38;5;241;43m=\u001b[39;49m\u001b[38;5;241;43m5\u001b[39;49m\u001b[43m,\u001b[49m\u001b[43m \u001b[49m\u001b[43mminutes\u001b[49m\u001b[38;5;241;43m=\u001b[39;49m\u001b[38;5;241;43m0\u001b[39;49m\u001b[43m)\u001b[49m\u001b[43m,\u001b[49m\u001b[43m \u001b[49m\u001b[43mtimedelta\u001b[49m\u001b[43m(\u001b[49m\u001b[43mhours\u001b[49m\u001b[38;5;241;43m=\u001b[39;49m\u001b[38;5;241;43m18\u001b[39;49m\u001b[43m,\u001b[49m\u001b[43m \u001b[49m\u001b[43mminutes\u001b[49m\u001b[38;5;241;43m=\u001b[39;49m\u001b[38;5;241;43m0\u001b[39;49m\u001b[43m)\u001b[49m\u001b[43m)\u001b[49m\n",
      "Cell \u001b[1;32mIn[147], line 10\u001b[0m, in \u001b[0;36minterpolacion\u001b[1;34m(Modelo, Año, electrico, dfs, hour_0, hour_f)\u001b[0m\n\u001b[0;32m      8\u001b[0m \u001b[38;5;28;01melse\u001b[39;00m:\n\u001b[0;32m      9\u001b[0m     filtro \u001b[38;5;241m=\u001b[39m fuel[(fuel[\u001b[38;5;124m'\u001b[39m\u001b[38;5;124mModel\u001b[39m\u001b[38;5;124m'\u001b[39m] \u001b[38;5;241m==\u001b[39m Modelo) \u001b[38;5;241m&\u001b[39m (fuel[\u001b[38;5;124m'\u001b[39m\u001b[38;5;124mYear\u001b[39m\u001b[38;5;124m'\u001b[39m] \u001b[38;5;241m==\u001b[39m Año)]\u001b[38;5;241m.\u001b[39mreset_index()\n\u001b[1;32m---> 10\u001b[0m     co2 \u001b[38;5;241m=\u001b[39m \u001b[43mfiltro\u001b[49m\u001b[43m[\u001b[49m\u001b[38;5;124;43m'\u001b[39;49m\u001b[38;5;124;43mco2\u001b[39;49m\u001b[38;5;124;43m'\u001b[39;49m\u001b[43m]\u001b[49m\u001b[38;5;241;43m.\u001b[39;49m\u001b[43mloc\u001b[49m\u001b[43m[\u001b[49m\u001b[38;5;241;43m0\u001b[39;49m\u001b[43m]\u001b[49m\n\u001b[0;32m     11\u001b[0m     Mantenimiento \u001b[38;5;241m=\u001b[39m filtro[\u001b[38;5;124m'\u001b[39m\u001b[38;5;124mCosto_mant_anual\u001b[39m\u001b[38;5;124m'\u001b[39m]\u001b[38;5;241m.\u001b[39mloc[\u001b[38;5;241m0\u001b[39m]\n\u001b[0;32m     12\u001b[0m     costo_gas \u001b[38;5;241m=\u001b[39m filtro[\u001b[38;5;124m'\u001b[39m\u001b[38;5;124mCosto_gasolina_galon\u001b[39m\u001b[38;5;124m'\u001b[39m]\u001b[38;5;241m.\u001b[39mloc[\u001b[38;5;241m0\u001b[39m]\n",
      "File \u001b[1;32m~\\AppData\\Local\\Packages\\PythonSoftwareFoundation.Python.3.11_qbz5n2kfra8p0\\LocalCache\\local-packages\\Python311\\site-packages\\pandas\\core\\indexing.py:1103\u001b[0m, in \u001b[0;36m_LocationIndexer.__getitem__\u001b[1;34m(self, key)\u001b[0m\n\u001b[0;32m   1100\u001b[0m axis \u001b[38;5;241m=\u001b[39m \u001b[38;5;28mself\u001b[39m\u001b[38;5;241m.\u001b[39maxis \u001b[38;5;129;01mor\u001b[39;00m \u001b[38;5;241m0\u001b[39m\n\u001b[0;32m   1102\u001b[0m maybe_callable \u001b[38;5;241m=\u001b[39m com\u001b[38;5;241m.\u001b[39mapply_if_callable(key, \u001b[38;5;28mself\u001b[39m\u001b[38;5;241m.\u001b[39mobj)\n\u001b[1;32m-> 1103\u001b[0m \u001b[38;5;28;01mreturn\u001b[39;00m \u001b[38;5;28;43mself\u001b[39;49m\u001b[38;5;241;43m.\u001b[39;49m\u001b[43m_getitem_axis\u001b[49m\u001b[43m(\u001b[49m\u001b[43mmaybe_callable\u001b[49m\u001b[43m,\u001b[49m\u001b[43m \u001b[49m\u001b[43maxis\u001b[49m\u001b[38;5;241;43m=\u001b[39;49m\u001b[43maxis\u001b[49m\u001b[43m)\u001b[49m\n",
      "File \u001b[1;32m~\\AppData\\Local\\Packages\\PythonSoftwareFoundation.Python.3.11_qbz5n2kfra8p0\\LocalCache\\local-packages\\Python311\\site-packages\\pandas\\core\\indexing.py:1343\u001b[0m, in \u001b[0;36m_LocIndexer._getitem_axis\u001b[1;34m(self, key, axis)\u001b[0m\n\u001b[0;32m   1341\u001b[0m \u001b[38;5;66;03m# fall thru to straight lookup\u001b[39;00m\n\u001b[0;32m   1342\u001b[0m \u001b[38;5;28mself\u001b[39m\u001b[38;5;241m.\u001b[39m_validate_key(key, axis)\n\u001b[1;32m-> 1343\u001b[0m \u001b[38;5;28;01mreturn\u001b[39;00m \u001b[38;5;28;43mself\u001b[39;49m\u001b[38;5;241;43m.\u001b[39;49m\u001b[43m_get_label\u001b[49m\u001b[43m(\u001b[49m\u001b[43mkey\u001b[49m\u001b[43m,\u001b[49m\u001b[43m \u001b[49m\u001b[43maxis\u001b[49m\u001b[38;5;241;43m=\u001b[39;49m\u001b[43maxis\u001b[49m\u001b[43m)\u001b[49m\n",
      "File \u001b[1;32m~\\AppData\\Local\\Packages\\PythonSoftwareFoundation.Python.3.11_qbz5n2kfra8p0\\LocalCache\\local-packages\\Python311\\site-packages\\pandas\\core\\indexing.py:1293\u001b[0m, in \u001b[0;36m_LocIndexer._get_label\u001b[1;34m(self, label, axis)\u001b[0m\n\u001b[0;32m   1291\u001b[0m \u001b[38;5;28;01mdef\u001b[39;00m \u001b[38;5;21m_get_label\u001b[39m(\u001b[38;5;28mself\u001b[39m, label, axis: AxisInt):\n\u001b[0;32m   1292\u001b[0m     \u001b[38;5;66;03m# GH#5567 this will fail if the label is not present in the axis.\u001b[39;00m\n\u001b[1;32m-> 1293\u001b[0m     \u001b[38;5;28;01mreturn\u001b[39;00m \u001b[38;5;28;43mself\u001b[39;49m\u001b[38;5;241;43m.\u001b[39;49m\u001b[43mobj\u001b[49m\u001b[38;5;241;43m.\u001b[39;49m\u001b[43mxs\u001b[49m\u001b[43m(\u001b[49m\u001b[43mlabel\u001b[49m\u001b[43m,\u001b[49m\u001b[43m \u001b[49m\u001b[43maxis\u001b[49m\u001b[38;5;241;43m=\u001b[39;49m\u001b[43maxis\u001b[49m\u001b[43m)\u001b[49m\n",
      "File \u001b[1;32m~\\AppData\\Local\\Packages\\PythonSoftwareFoundation.Python.3.11_qbz5n2kfra8p0\\LocalCache\\local-packages\\Python311\\site-packages\\pandas\\core\\generic.py:4095\u001b[0m, in \u001b[0;36mNDFrame.xs\u001b[1;34m(self, key, axis, level, drop_level)\u001b[0m\n\u001b[0;32m   4093\u001b[0m             new_index \u001b[38;5;241m=\u001b[39m index[loc]\n\u001b[0;32m   4094\u001b[0m \u001b[38;5;28;01melse\u001b[39;00m:\n\u001b[1;32m-> 4095\u001b[0m     loc \u001b[38;5;241m=\u001b[39m \u001b[43mindex\u001b[49m\u001b[38;5;241;43m.\u001b[39;49m\u001b[43mget_loc\u001b[49m\u001b[43m(\u001b[49m\u001b[43mkey\u001b[49m\u001b[43m)\u001b[49m\n\u001b[0;32m   4097\u001b[0m     \u001b[38;5;28;01mif\u001b[39;00m \u001b[38;5;28misinstance\u001b[39m(loc, np\u001b[38;5;241m.\u001b[39mndarray):\n\u001b[0;32m   4098\u001b[0m         \u001b[38;5;28;01mif\u001b[39;00m loc\u001b[38;5;241m.\u001b[39mdtype \u001b[38;5;241m==\u001b[39m np\u001b[38;5;241m.\u001b[39mbool_:\n",
      "File \u001b[1;32m~\\AppData\\Local\\Packages\\PythonSoftwareFoundation.Python.3.11_qbz5n2kfra8p0\\LocalCache\\local-packages\\Python311\\site-packages\\pandas\\core\\indexes\\range.py:347\u001b[0m, in \u001b[0;36mRangeIndex.get_loc\u001b[1;34m(self, key)\u001b[0m\n\u001b[0;32m    345\u001b[0m         \u001b[38;5;28;01mreturn\u001b[39;00m \u001b[38;5;28mself\u001b[39m\u001b[38;5;241m.\u001b[39m_range\u001b[38;5;241m.\u001b[39mindex(new_key)\n\u001b[0;32m    346\u001b[0m     \u001b[38;5;28;01mexcept\u001b[39;00m \u001b[38;5;167;01mValueError\u001b[39;00m \u001b[38;5;28;01mas\u001b[39;00m err:\n\u001b[1;32m--> 347\u001b[0m         \u001b[38;5;28;01mraise\u001b[39;00m \u001b[38;5;167;01mKeyError\u001b[39;00m(key) \u001b[38;5;28;01mfrom\u001b[39;00m \u001b[38;5;21;01merr\u001b[39;00m\n\u001b[0;32m    348\u001b[0m \u001b[38;5;28;01mif\u001b[39;00m \u001b[38;5;28misinstance\u001b[39m(key, Hashable):\n\u001b[0;32m    349\u001b[0m     \u001b[38;5;28;01mraise\u001b[39;00m \u001b[38;5;167;01mKeyError\u001b[39;00m(key)\n",
      "\u001b[1;31mKeyError\u001b[0m: 0"
     ]
    }
   ],
   "source": [
    "interpolacion(2019,'Escape FWD',False,dfs,timedelta(hours=5, minutes=0), timedelta(hours=18, minutes=0))"
   ]
  },
  {
   "cell_type": "code",
   "execution_count": 134,
   "metadata": {},
   "outputs": [
    {
     "data": {
      "text/html": [
       "<div>\n",
       "<style scoped>\n",
       "    .dataframe tbody tr th:only-of-type {\n",
       "        vertical-align: middle;\n",
       "    }\n",
       "\n",
       "    .dataframe tbody tr th {\n",
       "        vertical-align: top;\n",
       "    }\n",
       "\n",
       "    .dataframe thead th {\n",
       "        text-align: right;\n",
       "    }\n",
       "</style>\n",
       "<table border=\"1\" class=\"dataframe\">\n",
       "  <thead>\n",
       "    <tr style=\"text-align: right;\">\n",
       "      <th></th>\n",
       "      <th>Year</th>\n",
       "      <th>Manufacturer</th>\n",
       "      <th>Model</th>\n",
       "      <th>co2</th>\n",
       "      <th>co2TailpipeGpm</th>\n",
       "      <th>fuelType</th>\n",
       "      <th>eng_dscr</th>\n",
       "      <th>VClass</th>\n",
       "      <th>trany</th>\n",
       "      <th>Cap_tanque_comb</th>\n",
       "      <th>Costo_mant_anual</th>\n",
       "      <th>Costo_gasolina_galon</th>\n",
       "      <th>Periodo_mant_preventivo_meses</th>\n",
       "    </tr>\n",
       "  </thead>\n",
       "  <tbody>\n",
       "    <tr>\n",
       "      <th>9988</th>\n",
       "      <td>2019</td>\n",
       "      <td>Ford</td>\n",
       "      <td>Escape FWD</td>\n",
       "      <td>360.0</td>\n",
       "      <td>360.0</td>\n",
       "      <td>Regular</td>\n",
       "      <td>SIDI</td>\n",
       "      <td>Small Sport Utility Vehicle 2WD</td>\n",
       "      <td>Automatic (S6)</td>\n",
       "      <td>55.0</td>\n",
       "      <td>750.0</td>\n",
       "      <td>3.62</td>\n",
       "      <td>6</td>\n",
       "    </tr>\n",
       "  </tbody>\n",
       "</table>\n",
       "</div>"
      ],
      "text/plain": [
       "      Year Manufacturer       Model    co2  co2TailpipeGpm fuelType eng_dscr  \\\n",
       "9988  2019         Ford  Escape FWD  360.0           360.0  Regular     SIDI   \n",
       "\n",
       "                               VClass           trany  Cap_tanque_comb  \\\n",
       "9988  Small Sport Utility Vehicle 2WD  Automatic (S6)             55.0   \n",
       "\n",
       "      Costo_mant_anual  Costo_gasolina_galon  Periodo_mant_preventivo_meses  \n",
       "9988             750.0                  3.62                              6  "
      ]
     },
     "execution_count": 134,
     "metadata": {},
     "output_type": "execute_result"
    }
   ],
   "source": [
    "fuel.sample()"
   ]
  }
 ],
 "metadata": {
  "kernelspec": {
   "display_name": "Python 3",
   "language": "python",
   "name": "python3"
  },
  "language_info": {
   "codemirror_mode": {
    "name": "ipython",
    "version": 3
   },
   "file_extension": ".py",
   "mimetype": "text/x-python",
   "name": "python",
   "nbconvert_exporter": "python",
   "pygments_lexer": "ipython3",
   "version": "3.11.9"
  }
 },
 "nbformat": 4,
 "nbformat_minor": 2
}
